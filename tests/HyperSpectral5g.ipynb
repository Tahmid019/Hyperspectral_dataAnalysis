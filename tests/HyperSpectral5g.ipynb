{
  "nbformat": 4,
  "nbformat_minor": 0,
  "metadata": {
    "colab": {
      "provenance": [],
      "collapsed_sections": [
        "8123uTDl0848",
        "bVkbH0q62Bu-",
        "61tKrtqz21OI",
        "8_KuJ9od3qLo",
        "lldwyg-03uQc",
        "h6vfxGEC3_zw"
      ],
      "toc_visible": true
    },
    "kernelspec": {
      "name": "python3",
      "display_name": "Python 3"
    },
    "language_info": {
      "name": "python"
    }
  },
  "cells": [
    {
      "cell_type": "markdown",
      "source": [
        "# Imports and Init"
      ],
      "metadata": {
        "id": "pU3-IwEZ02it"
      }
    },
    {
      "cell_type": "code",
      "source": [
        "from scipy.io import loadmat\n",
        "import matplotlib.pyplot as plt\n",
        "import numpy as np\n",
        "from sklearn.decomposition import PCA\n",
        "from sklearn.preprocessing import StandardScaler\n",
        "import joblib\n",
        "from sklearn.impute import SimpleImputer\n",
        "import scipy.io as sio\n",
        "from scipy.signal import savgol_filter\n",
        "from scipy.io import savemat\n",
        "\n",
        "import torch\n",
        "import torch.nn as nn\n",
        "from torch.nn import TransformerEncoder, TransformerEncoderLayer\n",
        "import torch.nn.functional as F\n"
      ],
      "metadata": {
        "id": "OO9vQZBLSKK8"
      },
      "execution_count": 309,
      "outputs": []
    },
    {
      "cell_type": "code",
      "source": [
        "# Nutrient\n",
        "from sklearn.metrics import r2_score\n",
        "from sklearn.cross_decomposition import PLSRegression\n",
        "from sklearn.model_selection import train_test_split"
      ],
      "metadata": {
        "id": "4z4n9EuO50_d"
      },
      "execution_count": 327,
      "outputs": []
    },
    {
      "cell_type": "code",
      "source": [
        "# Disease\n",
        "from sklearn.metrics import f1_score"
      ],
      "metadata": {
        "id": "uf8IUTGh6Xge"
      },
      "execution_count": 329,
      "outputs": []
    },
    {
      "cell_type": "code",
      "source": [
        "# Crop detection\n",
        "from sklearn.neighbors import NearestNeighbors\n",
        "from sklearn.metrics import recall_score"
      ],
      "metadata": {
        "id": "Sq3tjjEP6tWN"
      },
      "execution_count": 330,
      "outputs": []
    },
    {
      "cell_type": "code",
      "source": [
        "!pip install onnx"
      ],
      "metadata": {
        "colab": {
          "base_uri": "https://localhost:8080/"
        },
        "id": "2IsTb1n34qp5",
        "outputId": "411c0f22-1570-413a-c97d-f7c45a04225a"
      },
      "execution_count": 324,
      "outputs": [
        {
          "output_type": "stream",
          "name": "stdout",
          "text": [
            "Collecting onnx\n",
            "  Downloading onnx-1.18.0-cp311-cp311-manylinux_2_17_x86_64.manylinux2014_x86_64.whl.metadata (6.9 kB)\n",
            "Requirement already satisfied: numpy>=1.22 in /usr/local/lib/python3.11/dist-packages (from onnx) (2.0.2)\n",
            "Requirement already satisfied: protobuf>=4.25.1 in /usr/local/lib/python3.11/dist-packages (from onnx) (5.29.4)\n",
            "Requirement already satisfied: typing_extensions>=4.7.1 in /usr/local/lib/python3.11/dist-packages (from onnx) (4.13.2)\n",
            "Downloading onnx-1.18.0-cp311-cp311-manylinux_2_17_x86_64.manylinux2014_x86_64.whl (17.6 MB)\n",
            "\u001b[2K   \u001b[90m━━━━━━━━━━━━━━━━━━━━━━━━━━━━━━━━━━━━━━━━\u001b[0m \u001b[32m17.6/17.6 MB\u001b[0m \u001b[31m65.8 MB/s\u001b[0m eta \u001b[36m0:00:00\u001b[0m\n",
            "\u001b[?25hInstalling collected packages: onnx\n",
            "Successfully installed onnx-1.18.0\n"
          ]
        }
      ]
    },
    {
      "cell_type": "code",
      "source": [
        "name = 'Indian_pines_corrected'\n",
        "\n",
        "gtd = loadmat('Indian_pines_gt.mat')\n",
        "htd = loadmat('Indian_pines_corrected.mat')\n",
        "hsi = htd[list(htd.keys())[3]]\n",
        "gt = gtd[list(gtd.keys())[3]]\n",
        "\n",
        "print(hsi.shape)\n",
        "print(gt.shape)"
      ],
      "metadata": {
        "colab": {
          "base_uri": "https://localhost:8080/"
        },
        "id": "C0uG_ZAzfQIj",
        "outputId": "3d1960db-51e0-45b5-94b2-45869968f369"
      },
      "execution_count": 285,
      "outputs": [
        {
          "output_type": "stream",
          "name": "stdout",
          "text": [
            "(145, 145, 200)\n",
            "(145, 145)\n"
          ]
        }
      ]
    },
    {
      "cell_type": "code",
      "source": [
        "def generate_dummy(hsi):\n",
        "    dummy_hsi = np.random.rand(*hsi.shape).astype(np.float32)\n",
        "\n",
        "    dummy_hsi[:, :, 50:60] *= 1.2\n",
        "    dummy_hsi[:, :, 30:40] *= 0.8\n",
        "\n",
        "    dummy_gt = np.random.randint(0, 5, size=(145, 145))\n",
        "\n",
        "    #nans\n",
        "    dummy_hsi[100:110, 50:60, :] = np.nan\n",
        "    dummy_hsi[:, :, 150] = np.nan\n",
        "\n",
        "    return dummy_hsi, dummy_gt\n",
        "\n",
        "hsi_dummy, gt_dummy = generate_dummy(hsi)\n",
        "savemat(f'dummy_{name}.mat',\n",
        "        {'hsi': hsi_dummy, 'gt': gt_dummy})"
      ],
      "metadata": {
        "id": "vkhtfdzBlNHp"
      },
      "execution_count": 252,
      "outputs": []
    },
    {
      "cell_type": "code",
      "source": [
        "gtd"
      ],
      "metadata": {
        "colab": {
          "base_uri": "https://localhost:8080/"
        },
        "id": "g-V9wPgxhwGi",
        "outputId": "5485e3b5-03fc-4b7f-c318-3c5759446388"
      },
      "execution_count": 186,
      "outputs": [
        {
          "output_type": "execute_result",
          "data": {
            "text/plain": [
              "{'__header__': b'MATLAB 5.0 MAT-file, Platform: GLNXA64, Created on: Fri May 20 18:25:41 2011',\n",
              " '__version__': '1.0',\n",
              " '__globals__': [],\n",
              " 'indian_pines_gt': array([[3, 3, 3, ..., 0, 0, 0],\n",
              "        [3, 3, 3, ..., 0, 0, 0],\n",
              "        [3, 3, 3, ..., 0, 0, 0],\n",
              "        ...,\n",
              "        [0, 0, 0, ..., 0, 0, 0],\n",
              "        [0, 0, 0, ..., 0, 0, 0],\n",
              "        [0, 0, 0, ..., 0, 0, 0]], dtype=uint8)}"
            ]
          },
          "metadata": {},
          "execution_count": 186
        }
      ]
    },
    {
      "cell_type": "code",
      "source": [
        "nir_band = 100   # ~850 nm\n",
        "red_band = 50    # ~670 nm\n",
        "lambda700 = 110\n",
        "lambda670 = 50\n",
        "lambda550 = 30\n",
        "lambda531 = 25\n",
        "lambda570 = 35\n",
        "\n",
        "nir = hsi[:, :, nir_band]\n",
        "red = hsi[:, :, red_band]\n",
        "\n",
        "ndvi = (nir - red) / (nir + red)"
      ],
      "metadata": {
        "id": "8UixfRLufCSI"
      },
      "execution_count": 174,
      "outputs": []
    },
    {
      "cell_type": "code",
      "source": [
        "pca_n_components = 40\n",
        "wavelengths = np.linspace(400, 2500, hsi.shape[2])\n",
        "raw_spectra = np.random.rand(hsi.shape[0]*hsi.shape[1], hsi.shape[2]).astype(np.float32)"
      ],
      "metadata": {
        "id": "WOZMvTgXgpw4"
      },
      "execution_count": 256,
      "outputs": []
    },
    {
      "cell_type": "code",
      "source": [
        "unique_values, counts = np.unique(flat_gt, return_counts=True)\n",
        "print(f\"unique_values: {unique_values}\")\n",
        "print(f\"counts: {counts}\")\n",
        "\n",
        "# Print the unique values and their counts\n",
        "for value, count in zip(unique_values, counts):\n",
        "    print(f\"Value {value}: {count} occurrences\")"
      ],
      "metadata": {
        "colab": {
          "base_uri": "https://localhost:8080/"
        },
        "id": "eBOeVvvhrEJi",
        "outputId": "a448c30e-0fe8-409e-8c4f-26eacbcc03b1"
      },
      "execution_count": 299,
      "outputs": [
        {
          "output_type": "stream",
          "name": "stdout",
          "text": [
            "unique_values: [ 0  1  2  3  4  5  6  7  8  9 10 11 12 13 14 15 16]\n",
            "counts: [10776    46  1428   830   237   483   730    28   478    20   972  2455\n",
            "   593   205  1265   386    93]\n",
            "Value 0: 10776 occurrences\n",
            "Value 1: 46 occurrences\n",
            "Value 2: 1428 occurrences\n",
            "Value 3: 830 occurrences\n",
            "Value 4: 237 occurrences\n",
            "Value 5: 483 occurrences\n",
            "Value 6: 730 occurrences\n",
            "Value 7: 28 occurrences\n",
            "Value 8: 478 occurrences\n",
            "Value 9: 20 occurrences\n",
            "Value 10: 972 occurrences\n",
            "Value 11: 2455 occurrences\n",
            "Value 12: 593 occurrences\n",
            "Value 13: 205 occurrences\n",
            "Value 14: 1265 occurrences\n",
            "Value 15: 386 occurrences\n",
            "Value 16: 93 occurrences\n"
          ]
        }
      ]
    },
    {
      "cell_type": "code",
      "source": [
        "sample_spectrum = hsi[75, 75, :]\n",
        "\n",
        "plt.plot(sample_spectrum)\n",
        "plt.title(\"Pixel Spectrum at (75,75)\")\n",
        "plt.xlabel(\"Band Index\")\n",
        "plt.ylabel(\"Reflectance\")\n",
        "plt.show()\n"
      ],
      "metadata": {
        "colab": {
          "base_uri": "https://localhost:8080/",
          "height": 472
        },
        "id": "a4cdve7JMtZA",
        "outputId": "126d0924-452a-46a6-9e96-a15fc6b5cc55"
      },
      "execution_count": 298,
      "outputs": [
        {
          "output_type": "display_data",
          "data": {
            "text/plain": [
              "<Figure size 640x480 with 1 Axes>"
            ],
            "image/png": "[encoded data removed]"
          },
          "metadata": {}
        }
      ]
    },
    {
      "cell_type": "markdown",
      "source": [
        "# Data Preprocessing"
      ],
      "metadata": {
        "id": "8123uTDl0848"
      }
    },
    {
      "cell_type": "code",
      "source": [
        "def apply_savgol(spectra):\n",
        "    return savgol_filter(spectra, window_length=11, polyorder=2, axis=1, mode='nearest')"
      ],
      "metadata": {
        "id": "8xc_pSp_GyM-"
      },
      "execution_count": 176,
      "outputs": []
    },
    {
      "cell_type": "code",
      "source": [
        "def log_transform(spectra):\n",
        "    return np.log10(spectra + 1e-6)"
      ],
      "metadata": {
        "id": "sf3A55SZG5UD"
      },
      "execution_count": 177,
      "outputs": []
    },
    {
      "cell_type": "markdown",
      "source": [
        "## data loading"
      ],
      "metadata": {
        "id": "TBPUmTL9L_JW"
      }
    },
    {
      "cell_type": "code",
      "source": [
        "# hsi (H, W, C), gt (H, W)\n",
        "H, W, C = hsi.shape\n",
        "print(f\"H: {H}, W: {W}, C: {C}\")\n",
        "flat_data = hsi.reshape(-1, C)\n",
        "flat_gt = gt.reshape(-1)\n",
        "\n",
        "print(f\"Shape of flat_data: {flat_data.shape}\")\n",
        "print(f\"Shape of flat_gt: {flat_gt.shape}\")\n",
        "\n",
        "train_mask = np.isin(flat_gt, [1, 2, 3]) # somewhat wrong\n",
        "print(f\"Train Mask: {train_mask} | Train Mask Shape : {train_mask.shape}\")\n",
        "\n",
        "X_train = flat_data[train_mask]\n",
        "y_train = flat_gt[train_mask]\n",
        "print(f\"X_train: {X_train.shape}\")\n",
        "print(f\"y_train: {y_train.shape}\")\n",
        "\n",
        "test_mask = flat_gt == 0\n",
        "X_new = flat_data[test_mask]\n",
        "print(f\"test mask: {test_mask.shape}\")\n",
        "print(f\"X_new: {X_new.shape}\")\n"
      ],
      "metadata": {
        "colab": {
          "base_uri": "https://localhost:8080/"
        },
        "id": "YumxG_DiTYum",
        "outputId": "d8b67d70-a2e9-4fba-9582-0959c79bbfe6"
      },
      "execution_count": 300,
      "outputs": [
        {
          "output_type": "stream",
          "name": "stdout",
          "text": [
            "H: 145, W: 145, C: 200\n",
            "Shape of flat_data: (21025, 200)\n",
            "Shape of flat_gt: (21025,)\n",
            "Train Mask: [ True  True  True ... False False False] | Train Mask Shape : (21025,)\n",
            "X_train: (2304, 200)\n",
            "y_train: (2304,)\n",
            "test mask: (21025,)\n",
            "X_new: (10776, 200)\n"
          ]
        }
      ]
    },
    {
      "cell_type": "markdown",
      "source": [
        "## scaling | processing | pca fit"
      ],
      "metadata": {
        "id": "Mt-CxhGp1TMC"
      }
    },
    {
      "cell_type": "code",
      "source": [
        "scaler = StandardScaler()\n",
        "X_train_scaled = scaler.fit_transform(X_train)\n",
        "\n",
        "pca = PCA(n_components=pca_n_components)\n",
        "pca.fit_transform(X_train_scaled)\n",
        "\n",
        "joblib.dump(pca, 'pca_model.pkl')\n",
        "joblib.dump(scaler, 'scaler.pkl')\n",
        "\n",
        "pca = joblib.load('pca_model.pkl')\n",
        "scaler = joblib.load('scaler.pkl')\n"
      ],
      "metadata": {
        "id": "tHzF-Rs9MBJJ"
      },
      "execution_count": 301,
      "outputs": []
    },
    {
      "cell_type": "markdown",
      "source": [
        "## spectral preprocessor"
      ],
      "metadata": {
        "id": "bgPnu19iIL_G"
      }
    },
    {
      "cell_type": "code",
      "source": [
        "class RobustSpectralPreprocessor:\n",
        "    def __init__(self, pca_model_path='pca_model.pkl'):\n",
        "        self.pca =joblib.load(pca_model_path)\n",
        "        self.imputer = SimpleImputer(strategy='mean')  # NaN handler\n",
        "\n",
        "    def _load_pca(self, path):\n",
        "        return PCA(n_components=40)\n",
        "\n",
        "    def process(self, raw_spectra):\n",
        "        smoothed = savgol_filter(\n",
        "            np.nan_to_num(raw_spectra),\n",
        "            window_length=11,\n",
        "            polyorder=2\n",
        "        )\n",
        "        print(f\"smoothed shape: {smoothed.shape}\")\n",
        "\n",
        "        with np.errstate(invalid='ignore'):\n",
        "            logged = np.log10(smoothed + 1e-6)\n",
        "        print(f\"logged shape: {logged.shape}\")\n",
        "\n",
        "        logged_clean = self.imputer.fit_transform(logged)\n",
        "        print(f\"logged_clean shape: {logged_clean.shape}\")\n",
        "\n",
        "        pca_reduced = self.pca.transform(logged_clean)\n",
        "        print(f\"pca_reduced shape: {pca_reduced.shape}\")\n",
        "\n",
        "        vis = self._calculate_vi(logged_clean)\n",
        "        print(f\"vis shape: {vis.shape}\")\n",
        "\n",
        "        return np.column_stack([pca_reduced, vis])\n",
        "\n",
        "    def _calculate_vi(self, spectra):\n",
        "        \"\"\"NaN-safe vegetation index calculation\"\"\"\n",
        "        red = spectra[:, 90]\n",
        "        nir = spectra[:, 120]\n",
        "\n",
        "        with np.errstate(divide='ignore', invalid='ignore'):\n",
        "            ndvi = np.where(\n",
        "                (nir + red) != 0,\n",
        "                (nir - red) / (nir + red),\n",
        "                0\n",
        "            )\n",
        "        return ndvi"
      ],
      "metadata": {
        "id": "gFXYvpH5kLs5"
      },
      "execution_count": 303,
      "outputs": []
    },
    {
      "cell_type": "markdown",
      "source": [
        "## process data"
      ],
      "metadata": {
        "id": "_6kT5W1D1y05"
      }
    },
    {
      "cell_type": "code",
      "source": [
        "# data = loadmat('dummy_indian_pines.mat')\n",
        "# hsi, gt = data['hsi'], data['gt']\n",
        "\n",
        "# Reshape(convert HSI cube to 2D)\n",
        "n_pixels = 145 * 145\n",
        "print(f\"hsi shape: {hsi.shape}\")\n",
        "spectra = hsi.reshape(n_pixels, 200)  # Shape: (21025, 200)\n",
        "print(f\"spectra shape: {spectra.shape}\")\n",
        "\n",
        "# Process\n",
        "preproc = RobustSpectralPreprocessor('pca_model.pkl')\n",
        "processed = preproc.process(spectra)  # Output: (21025, 52)\n",
        "print(f\"preproc shape: {processed.shape}\")\n",
        "\n",
        "# Reshape back\n",
        "processed_cube = processed.reshape(hsi.shape[0], hsi.shape[1], pca_n_components+1)"
      ],
      "metadata": {
        "colab": {
          "base_uri": "https://localhost:8080/"
        },
        "id": "9h5ra-DFlatd",
        "outputId": "1f8d47f7-8760-4e6f-b0af-89b3f87bddfd"
      },
      "execution_count": 302,
      "outputs": [
        {
          "output_type": "stream",
          "name": "stdout",
          "text": [
            "hsi shape: (145, 145, 200)\n",
            "spectra shape: (21025, 200)\n",
            "smoothed shape: (21025, 200)\n",
            "logged shape: (21025, 200)\n",
            "logged_clean shape: (21025, 200)\n",
            "pca_reduced shape: (21025, 40)\n",
            "vis shape: (21025,)\n",
            "preproc shape: (21025, 41)\n"
          ]
        }
      ]
    },
    {
      "cell_type": "markdown",
      "source": [
        "## test"
      ],
      "metadata": {
        "id": "-HnCB6Lf15cU"
      }
    },
    {
      "cell_type": "code",
      "source": [
        "def test_preprocessing():\n",
        "    # hsi, _ = generate_dummy_indian_pines()\n",
        "    spectra = hsi.reshape(-1, 200)\n",
        "    print(f\"spectra shape : {spectra.shape}\")\n",
        "\n",
        "    # Test 1: Handles cube-to-2D conversion\n",
        "    preproc = RobustSpectralPreprocessor('pca_model.pkl')\n",
        "    out = preproc.process(spectra)\n",
        "    print(f\"out shape : {out.shape}\")\n",
        "    assert out.shape == (hsi.shape[0]*hsi.shape[1], pca_n_components+1)\n",
        "\n",
        "    # Test 2: Processes NaN bands correctly\n",
        "    assert not np.isnan(out).any()\n",
        "\n",
        "    # Test 3: Preserves spatial reconstructability\n",
        "    out_cube = out.reshape(hsi.shape[0], hsi.shape[1], pca_n_components+1)\n",
        "    # assert out_cube.shape == (145, 145, 41)"
      ],
      "metadata": {
        "id": "BoADqMC4bTbS"
      },
      "execution_count": 296,
      "outputs": []
    },
    {
      "cell_type": "code",
      "source": [
        "test_preprocessing()"
      ],
      "metadata": {
        "colab": {
          "base_uri": "https://localhost:8080/"
        },
        "id": "YC3VD0xYmn8_",
        "outputId": "750ba0b0-4fd1-4d7d-9a9c-4f932896bbf1"
      },
      "execution_count": 297,
      "outputs": [
        {
          "output_type": "stream",
          "name": "stdout",
          "text": [
            "spectra shape : (21025, 200)\n",
            "smoothed shape: (21025, 200)\n",
            "logged shape: (21025, 200)\n",
            "logged_clean shape: (21025, 200)\n",
            "pca_reduced shape: (21025, 40)\n",
            "vis shape: (21025,)\n",
            "out shape : (21025, 41)\n"
          ]
        }
      ]
    },
    {
      "cell_type": "markdown",
      "source": [
        "# Feature Extraction"
      ],
      "metadata": {
        "id": "bVkbH0q62Bu-"
      }
    },
    {
      "cell_type": "markdown",
      "source": [
        "## spectralFeatureExtractor"
      ],
      "metadata": {
        "id": "7dtuC0-n2mci"
      }
    },
    {
      "cell_type": "code",
      "source": [
        "class SpectralFeatureExtractor(nn.Module):\n",
        "    def __init__(self, input_dim=52, conv_dim=64, nhead=4):\n",
        "        super().__init__()\n",
        "        # 1D-CNN for local spectral patterns\n",
        "        self.conv = nn.Sequential(\n",
        "            nn.Conv1d(input_dim, conv_dim, kernel_size=3, padding=1),\n",
        "            nn.ReLU(),\n",
        "            nn.MaxPool1d(kernel_size=2)\n",
        "        )\n",
        "        # Transformer for global dependencies\n",
        "        self.transformer = TransformerEncoder(\n",
        "            TransformerEncoderLayer(\n",
        "                d_model=conv_dim,\n",
        "                nhead=nhead,\n",
        "                dim_feedforward=256,\n",
        "                batch_first=True\n",
        "            ),\n",
        "            num_layers=2\n",
        "        )\n",
        "\n",
        "    def forward(self, x):\n",
        "        # x shape: (batch, seq_len, features) -> (batch, 52, 145)\n",
        "        x = x.permute(0, 2, 1)  # Conv1d expects (batch, channels, seq)\n",
        "        x = self.conv(x)  # -> (batch, 64, 72)\n",
        "        x = x.permute(0, 2, 1)  # -> (batch, 72, 64) for transformer\n",
        "        return self.transformer(x)  # -> (batch, 72, 64)"
      ],
      "metadata": {
        "id": "LHx53B_ZmplY"
      },
      "execution_count": 305,
      "outputs": []
    },
    {
      "cell_type": "markdown",
      "source": [
        "# Multihead task Predictor"
      ],
      "metadata": {
        "id": "61tKrtqz21OI"
      }
    },
    {
      "cell_type": "markdown",
      "source": [
        "## Nutrient Head\n",
        "- Regression"
      ],
      "metadata": {
        "id": "H0drBdp_24VU"
      }
    },
    {
      "cell_type": "code",
      "source": [
        "class NutrientHead(nn.Module):\n",
        "    def __init__(self, input_dim=64):\n",
        "        super().__init__()\n",
        "        self.regressor = nn.Sequential(\n",
        "            nn.Linear(input_dim, 32),\n",
        "            nn.ReLU(),\n",
        "            nn.Linear(32, 3)  # N, P, K values\n",
        "        )\n",
        "\n",
        "    def forward(self, x):\n",
        "        # x: Transformer output (batch, seq, features)\n",
        "        return self.regressor(x.mean(dim=1))  # Global avg pooling -> (batch, 3)\n",
        "\n",
        "nutrient_loss = nn.HuberLoss(delta=1.0)"
      ],
      "metadata": {
        "id": "iZT-SOZp2ldI"
      },
      "execution_count": 306,
      "outputs": []
    },
    {
      "cell_type": "markdown",
      "source": [
        "## Disease HEad\n",
        "- Classification"
      ],
      "metadata": {
        "id": "40dt-tM23CGm"
      }
    },
    {
      "cell_type": "code",
      "source": [
        "class DiseaseHead(nn.Module):\n",
        "    def __init__(self, input_dim=64, num_diseases=10):\n",
        "        super().__init__()\n",
        "        self.classifier = nn.Sequential(\n",
        "            nn.Linear(input_dim, 32),\n",
        "            nn.ReLU(),\n",
        "            nn.Linear(32, num_diseases)\n",
        "        )\n",
        "    def forward(self, x):\n",
        "        return torch.sigmoid(self.classifier(x.mean(dim=1)))  # Multi-label\n",
        "\n",
        "disease_loss = nn.BCELoss()"
      ],
      "metadata": {
        "id": "5FL_1yXW29Ko"
      },
      "execution_count": 308,
      "outputs": []
    },
    {
      "cell_type": "markdown",
      "source": [
        "## Crop Identification\n",
        "- Embedding"
      ],
      "metadata": {
        "id": "kvmDRzHO3PIc"
      }
    },
    {
      "cell_type": "code",
      "source": [
        "class CropEmbeddingHead(nn.Module):\n",
        "    def __init__(self, input_dim=64, embed_dim=32):\n",
        "        super().__init__()\n",
        "        self.projection = nn.Linear(input_dim, embed_dim)\n",
        "\n",
        "    def forward(self, x):\n",
        "        # x: (batch, seq, features)\n",
        "        return F.normalize(self.projection(x.mean(dim=1)), p=2.0, dim=1)  # L2-normalized\n",
        "\n",
        "# Contrastive Loss (requires paired data)\n",
        "crop_loss = nn.TripletMarginLoss(margin=1.0)  # anchor/positive/negative crops"
      ],
      "metadata": {
        "id": "21f7L4Is3K9x"
      },
      "execution_count": 317,
      "outputs": []
    },
    {
      "cell_type": "markdown",
      "source": [
        "# integrated Model"
      ],
      "metadata": {
        "id": "8_KuJ9od3qLo"
      }
    },
    {
      "cell_type": "code",
      "source": [
        "class AgriMultiTaskModel(nn.Module):\n",
        "    def __init__(self):\n",
        "        super().__init__()\n",
        "        self.backbone = SpectralFeatureExtractor()\n",
        "        self.nutrient_head = NutrientHead()\n",
        "        self.disease_head = DiseaseHead()\n",
        "        self.crop_head = CropEmbeddingHead()\n",
        "\n",
        "    def forward(self, x):\n",
        "        features = self.backbone(x)\n",
        "        return {\n",
        "            'nutrients': self.nutrient_head(features),\n",
        "            'diseases': self.disease_head(features),\n",
        "            'embeddings': self.crop_head(features)\n",
        "        }"
      ],
      "metadata": {
        "id": "Of4RF5N83rcU"
      },
      "execution_count": 318,
      "outputs": []
    },
    {
      "cell_type": "markdown",
      "source": [
        "# Training Script"
      ],
      "metadata": {
        "id": "lldwyg-03uQc"
      }
    },
    {
      "cell_type": "code",
      "source": [
        "model = AgriMultiTaskModel()\n",
        "optimizer = torch.optim.AdamW(model.parameters(), lr=1e-3)\n",
        "\n",
        "def train_step(batch):\n",
        "    spectra = batch['spectra']  # (batch, 52)\n",
        "    targets = batch['targets']\n",
        "\n",
        "    # Forward pass\n",
        "    outputs = model(spectra)\n",
        "\n",
        "    # Loss computation\n",
        "    loss = (\n",
        "        0.5 * nutrient_loss(outputs['nutrients'], targets['npk']) +\n",
        "        0.3 * disease_loss(outputs['diseases'], targets['diseases']) +\n",
        "        0.2 * crop_loss(\n",
        "            outputs['embeddings'][::2],  # Anchors\n",
        "            outputs['embeddings'][1::2], # Positives\n",
        "            torch.roll(outputs['embeddings'], 1, dim=0)[::2]  # Negatives\n",
        "        )\n",
        "    )\n",
        "\n",
        "    # Backward pass\n",
        "    optimizer.zero_grad()\n",
        "    loss.backward()\n",
        "    optimizer.step()\n",
        "    return loss.item()"
      ],
      "metadata": {
        "id": "vJqeAWlF3siC"
      },
      "execution_count": 319,
      "outputs": []
    },
    {
      "cell_type": "markdown",
      "source": [
        "# Deployment"
      ],
      "metadata": {
        "id": "h6vfxGEC3_zw"
      }
    },
    {
      "cell_type": "markdown",
      "source": [
        "## Edge devices"
      ],
      "metadata": {
        "id": "ti_Z-RDk4exr"
      }
    },
    {
      "cell_type": "code",
      "source": [
        "scripted_model = torch.jit.script(model)\n",
        "\n",
        "quantized_model = torch.quantization.quantize_dynamic(\n",
        "    scripted_model, {nn.Linear}, dtype=torch.qint8\n",
        ")\n",
        "\n",
        "torch.jit.save(quantized_model, \"agri_model.pt\")"
      ],
      "metadata": {
        "id": "7FfyhTYs4EhH"
      },
      "execution_count": 322,
      "outputs": []
    },
    {
      "cell_type": "markdown",
      "source": [
        "## 5G-ONNX Export"
      ],
      "metadata": {
        "id": "0_wgxVI84gpG"
      }
    },
    {
      "cell_type": "code",
      "source": [
        "dummy_input = torch.randn(1, 145, 52)  # Batch, seq_len, features\n",
        "torch.onnx.export(\n",
        "    model,\n",
        "    dummy_input,\n",
        "    \"agri_model.onnx\",\n",
        "    input_names=[\"spectra\"],\n",
        "    output_names=[\"nutrients\", \"diseases\", \"embeddings\"]\n",
        ")"
      ],
      "metadata": {
        "id": "UNY7mCCE4MpY"
      },
      "execution_count": 325,
      "outputs": []
    },
    {
      "cell_type": "code",
      "source": [],
      "metadata": {
        "id": "UTJMjDpN4k4K"
      },
      "execution_count": null,
      "outputs": []
    },
    {
      "cell_type": "markdown",
      "source": [
        "# Scoring"
      ],
      "metadata": {
        "id": "mV0Q5AJu5pn6"
      }
    },
    {
      "cell_type": "markdown",
      "source": [
        "## Neutrient Score (R-squared)"
      ],
      "metadata": {
        "id": "BPgVQ3ad5utu"
      }
    },
    {
      "cell_type": "code",
      "source": [
        "# Assuming preprocessed data:\n",
        "# X: (n_samples, 52) - Preprocessed features\n",
        "# y_nutrients: (n_samples, 3) - NPK values\n",
        "\n",
        "# Train-test split\n",
        "X_train, X_test, y_train, y_test = train_test_split(X, y_nutrients, test_size=0.2)\n",
        "\n",
        "# 1D-CNN + PLSR Pipeline\n",
        "pls = PLSRegression(n_components=10)\n",
        "pls.fit(X_train, y_train)\n",
        "\n",
        "# Predict and calculate R²\n",
        "y_pred = pls.predict(X_test)\n",
        "r2 = r2_score(y_test, y_pred, multioutput='uniform_average')  # Average across N/P/K\n",
        "\n",
        "print(f\"R² Score: {r2:.3f}\")"
      ],
      "metadata": {
        "id": "Zc-Hs9mN5tPM"
      },
      "execution_count": null,
      "outputs": []
    },
    {
      "cell_type": "markdown",
      "source": [
        "## Disease (F1)"
      ],
      "metadata": {
        "id": "0RKFe17q6BCE"
      }
    },
    {
      "cell_type": "code",
      "source": [
        "from transformers import TransformerClassifier\n",
        "\n",
        "# y_diseases: (n_samples, n_diseases) - Multi-hot encoded labels\n",
        "\n",
        "class TransformerClassifier(nn.Module):\n",
        "    def __init__(self, input_dim=52):\n",
        "        super().__init__()\n",
        "        self.encoder = TransformerEncoderLayer(d_model=input_dim, nhead=4)\n",
        "        self.classifier = nn.Linear(input_dim, 10)\n",
        "\n",
        "    def forward(self, x):\n",
        "        return torch.sigmoid(self.encoder(x).mean(dim=1))\n",
        "\n",
        "# Training loop (PyTorch)\n",
        "model = TransformerClassifier()\n",
        "optimizer = torch.optim.Adam(model.parameters())\n",
        "\n",
        "for epoch in range(10):\n",
        "    outputs = model(X_train_tensor)\n",
        "    loss = nn.BCELoss()(outputs, y_train_tensor)\n",
        "    loss.backward()\n",
        "    optimizer.step()\n",
        "\n",
        "# Threshold predictions at 0.5\n",
        "y_pred = (model(X_test_tensor).detach().numpy() > 0.5).astype(int)\n",
        "f1 = f1_score(y_test, y_pred, average='macro')  # Macro-average for class imbalance\n",
        "\n",
        "print(f\"F1 Score: {f1:.3f}\")"
      ],
      "metadata": {
        "id": "Mzm9sVNL6MrI"
      },
      "execution_count": null,
      "outputs": []
    },
    {
      "cell_type": "markdown",
      "source": [
        "## Crop (recall k)"
      ],
      "metadata": {
        "id": "40QGFOG06nfo"
      }
    },
    {
      "cell_type": "code",
      "source": [
        "# embeddings: (n_samples, 32) - From contrastive head\n",
        "# y_crop: (n_samples,) - Crop type labels\n",
        "\n",
        "# Fit KNN on training embeddings\n",
        "knn = NearestNeighbors(n_neighbors=5).fit(X_train_embeddings)\n",
        "\n",
        "# For each test sample, find 5 nearest neighbors\n",
        "_, indices = knn.kneighbors(X_test_embeddings)\n",
        "pred_labels = y_train[indices.flatten()].reshape(-1, 5)\n",
        "\n",
        "# Calculate if true label is in top-k\n",
        "recall_at_5 = np.mean([true in pred for true, pred in zip(y_test, pred_labels)])\n",
        "\n",
        "print(f\"Recall@5: {recall_at_5:.1%}\")"
      ],
      "metadata": {
        "id": "wBubM9pi6pJw"
      },
      "execution_count": null,
      "outputs": []
    },
    {
      "cell_type": "markdown",
      "source": [
        "## Evaluate Model"
      ],
      "metadata": {
        "id": "9Y3cRsTX6_On"
      }
    },
    {
      "cell_type": "code",
      "source": [
        "def evaluate_model(model, X_test, y_test_nutrients, y_test_diseases, y_test_crops):\n",
        "    # Get all predictions\n",
        "    outputs = model(X_test)\n",
        "\n",
        "    # Nutrient R²\n",
        "    r2 = r2_score(y_test_nutrients, outputs['nutrients'].detach().numpy())\n",
        "\n",
        "    # Disease F1\n",
        "    disease_pred = (outputs['diseases'].detach().numpy() > 0.5).astype(int)\n",
        "    f1 = f1_score(y_test_diseases, disease_pred, average='macro')\n",
        "\n",
        "    # Crop Recall@5\n",
        "    knn = NearestNeighbors(n_neighbors=5).fit(training_embeddings)\n",
        "    _, indices = knn.kneighbors(outputs['embeddings'].detach().numpy())\n",
        "    recall = np.mean([y_test_crops[i] in y_train_crops[indices[i]] for i in range(len(y_test_crops))])\n",
        "\n",
        "    return {'r2': r2, 'f1': f1, 'recall@5': recall}"
      ],
      "metadata": {
        "id": "EBh3L11q7BHV"
      },
      "execution_count": null,
      "outputs": []
    },
    {
      "cell_type": "markdown",
      "source": [
        "## Confidence Interval via bootstraping"
      ],
      "metadata": {
        "id": "CJUaIC9W6372"
      }
    },
    {
      "cell_type": "code",
      "source": [
        "from sklearn.utils import resample\n",
        "r2_scores = [r2_score(*resample(y_test, y_pred)) for _ in range(1000)]\n",
        "print(f\"R² CI: {np.percentile(r2_scores, [2.5, 97.5])}\")"
      ],
      "metadata": {
        "id": "t-s-ESVE67m-"
      },
      "execution_count": null,
      "outputs": []
    }
  ]
}