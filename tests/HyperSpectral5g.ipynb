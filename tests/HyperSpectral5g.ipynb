{
  "cells": [
    {
      "cell_type": "markdown",
      "metadata": {
        "id": "pU3-IwEZ02it"
      },
      "source": [
        "# Imports and Init"
      ]
    },
    {
      "cell_type": "code",
      "execution_count": 63,
      "metadata": {
        "id": "OO9vQZBLSKK8"
      },
      "outputs": [],
      "source": [
        "import numpy as np\n",
        "import pandas as pd\n",
        "\n",
        "from scipy.io import loadmat\n",
        "import matplotlib.pyplot as plt\n",
        "from sklearn.decomposition import PCA\n",
        "from sklearn.preprocessing import StandardScaler\n",
        "import joblib\n",
        "from sklearn.impute import SimpleImputer\n",
        "import scipy.io as sio\n",
        "from scipy.signal import savgol_filter\n",
        "from scipy.io import savemat\n",
        "\n",
        "from tqdm import tqdm\n",
        "\n",
        "import torch\n",
        "import torch.nn as nn\n",
        "from torch.nn import TransformerEncoder, TransformerEncoderLayer\n",
        "import torch.nn.functional as F\n",
        "import torch.optim as optim\n",
        "from torch.utils.data import TensorDataset, DataLoader, random_split\n",
        "from torch.amp import GradScaler, autocast\n",
        "\n",
        "from einops import rearrange, repeat\n",
        "\n",
        "from sklearn.metrics import r2_score, f1_score, recall_score, classification_report, accuracy_score\n",
        "from sklearn.cross_decomposition import PLSRegression\n",
        "from sklearn.model_selection import train_test_split\n",
        "from sklearn.preprocessing import StandardScaler\n",
        "from sklearn.neighbors import NearestNeighbors\n",
        "from sklearn.ensemble import RandomForestClassifier\n",
        "\n",
        "import spectral\n",
        "from spectral import open_image\n"
      ]
    },
    {
      "cell_type": "code",
      "execution_count": 3,
      "metadata": {
        "colab": {
          "base_uri": "https://localhost:8080/"
        },
        "id": "s1Q02Qp69abz",
        "outputId": "91f849e4-f606-499e-fea0-4db2764e748d"
      },
      "outputs": [
        {
          "name": "stdout",
          "output_type": "stream",
          "text": [
            "using device: cuda\n"
          ]
        }
      ],
      "source": [
        "device = torch.device('cuda' if torch.cuda.is_available() else 'cpu')\n",
        "print(f\"using device: {device}\")"
      ]
    },
    {
      "cell_type": "code",
      "execution_count": 7,
      "metadata": {},
      "outputs": [],
      "source": [
        "hsi_path = '../datasets/Indian_pines_corrected.mat'\n",
        "gt_path = '../datasets/Indian_pines_gt.mat'\n",
        "\n",
        "egg_n2con_gt = '../datasets/Eggplant_Crop/Eggplant_N2_Concentration_GT.hdr'\n",
        "egg_ref = '../datasets/Eggplant_Crop/Eggplant_Reflectance_Data.hdr'"
      ]
    },
    {
      "cell_type": "code",
      "execution_count": 8,
      "metadata": {},
      "outputs": [],
      "source": [
        "ref = spectral.open_image(egg_ref).load()\n",
        "ref_gt =  spectral.open_image(egg_n2con_gt).load()"
      ]
    },
    {
      "cell_type": "code",
      "execution_count": 9,
      "metadata": {
        "colab": {
          "base_uri": "https://localhost:8080/"
        },
        "id": "C0uG_ZAzfQIj",
        "outputId": "c8107cf8-95fe-4f4d-b8eb-2c12a0303d58"
      },
      "outputs": [
        {
          "name": "stdout",
          "output_type": "stream",
          "text": [
            "(145, 145, 200)\n",
            "(145, 145)\n"
          ]
        }
      ],
      "source": [
        "name = 'Indian_pines_corrected'\n",
        "\n",
        "gtd = loadmat(gt_path)\n",
        "htd = loadmat(hsi_path)\n",
        "hsi = htd[list(htd.keys())[3]]\n",
        "gt = gtd[list(gtd.keys())[3]]\n",
        "\n",
        "print(hsi.shape)\n",
        "print(gt.shape)"
      ]
    },
    {
      "cell_type": "code",
      "execution_count": 10,
      "metadata": {
        "id": "vkhtfdzBlNHp"
      },
      "outputs": [],
      "source": [
        "def generate_dummy(hsi):\n",
        "    dummy_hsi = np.random.rand(*hsi.shape).astype(np.float32)\n",
        "\n",
        "    dummy_hsi[:, :, 50:60] *= 1.2\n",
        "    dummy_hsi[:, :, 30:40] *= 0.8\n",
        "\n",
        "    dummy_gt = np.random.randint(0, 5, size=(145, 145))\n",
        "\n",
        "    #nans\n",
        "    dummy_hsi[100:110, 50:60, :] = np.nan\n",
        "    dummy_hsi[:, :, 150] = np.nan\n",
        "\n",
        "    return dummy_hsi, dummy_gt\n",
        "\n",
        "hsi_dummy, gt_dummy = generate_dummy(hsi)\n",
        "savemat(f'dummy_{name}.mat',\n",
        "        {'hsi': hsi_dummy, 'gt': gt_dummy})"
      ]
    },
    {
      "cell_type": "code",
      "execution_count": 11,
      "metadata": {
        "colab": {
          "base_uri": "https://localhost:8080/"
        },
        "id": "g-V9wPgxhwGi",
        "outputId": "95182a05-3bf1-40a3-e620-d6f8d244a7af"
      },
      "outputs": [
        {
          "data": {
            "text/plain": [
              "{'__header__': b'MATLAB 5.0 MAT-file, Platform: GLNXA64, Created on: Fri May 20 18:25:41 2011',\n",
              " '__version__': '1.0',\n",
              " '__globals__': [],\n",
              " 'indian_pines_gt': array([[3, 3, 3, ..., 0, 0, 0],\n",
              "        [3, 3, 3, ..., 0, 0, 0],\n",
              "        [3, 3, 3, ..., 0, 0, 0],\n",
              "        ...,\n",
              "        [0, 0, 0, ..., 0, 0, 0],\n",
              "        [0, 0, 0, ..., 0, 0, 0],\n",
              "        [0, 0, 0, ..., 0, 0, 0]], dtype=uint8)}"
            ]
          },
          "execution_count": 11,
          "metadata": {},
          "output_type": "execute_result"
        }
      ],
      "source": [
        "gtd"
      ]
    },
    {
      "cell_type": "code",
      "execution_count": 12,
      "metadata": {
        "id": "8UixfRLufCSI"
      },
      "outputs": [],
      "source": [
        "nir_band = 100   # ~850 nm\n",
        "red_band = 50    # ~670 nm\n",
        "lambda700 = 110\n",
        "lambda670 = 50\n",
        "lambda550 = 30\n",
        "lambda531 = 25\n",
        "lambda570 = 35\n",
        "\n",
        "nir = hsi[:, :, nir_band]\n",
        "red = hsi[:, :, red_band]\n",
        "\n",
        "ndvi = (nir - red) / (nir + red)"
      ]
    },
    {
      "cell_type": "code",
      "execution_count": 13,
      "metadata": {
        "id": "WOZMvTgXgpw4"
      },
      "outputs": [],
      "source": [
        "pca_n_components = 51\n",
        "wavelengths = np.linspace(400, 2500, hsi.shape[2])\n",
        "raw_spectra = np.random.rand(hsi.shape[0]*hsi.shape[1], hsi.shape[2]).astype(np.float32)"
      ]
    },
    {
      "cell_type": "code",
      "execution_count": 14,
      "metadata": {
        "colab": {
          "base_uri": "https://localhost:8080/",
          "height": 472
        },
        "id": "a4cdve7JMtZA",
        "outputId": "aec8ea32-b576-49a5-be3a-e29dbcd373b2"
      },
      "outputs": [
        {
          "data": {
            "image/png": "[encoded data removed]",
            "text/plain": [
              "<Figure size 640x480 with 1 Axes>"
            ]
          },
          "metadata": {},
          "output_type": "display_data"
        }
      ],
      "source": [
        "sample_spectrum = hsi[75, 75, :]\n",
        "\n",
        "plt.plot(sample_spectrum)\n",
        "plt.title(\"Pixel Spectrum at (75,75)\")\n",
        "plt.xlabel(\"Band Index\")\n",
        "plt.ylabel(\"Reflectance\")\n",
        "plt.show()\n"
      ]
    },
    {
      "cell_type": "markdown",
      "metadata": {
        "id": "8123uTDl0848"
      },
      "source": [
        "# Data Preprocessing"
      ]
    },
    {
      "cell_type": "code",
      "execution_count": 15,
      "metadata": {
        "id": "8xc_pSp_GyM-"
      },
      "outputs": [],
      "source": [
        "def apply_savgol(spectra):\n",
        "    return savgol_filter(spectra, window_length=11, polyorder=2, axis=1, mode='nearest')"
      ]
    },
    {
      "cell_type": "code",
      "execution_count": 16,
      "metadata": {
        "id": "sf3A55SZG5UD"
      },
      "outputs": [],
      "source": [
        "def log_transform(spectra):\n",
        "    return np.log10(spectra + 1e-6)"
      ]
    },
    {
      "cell_type": "markdown",
      "metadata": {
        "id": "TBPUmTL9L_JW"
      },
      "source": [
        "## data loading"
      ]
    },
    {
      "cell_type": "code",
      "execution_count": 17,
      "metadata": {
        "colab": {
          "base_uri": "https://localhost:8080/"
        },
        "id": "YumxG_DiTYum",
        "outputId": "7bca13c5-b4b5-45ad-9b8c-60f3d57f0cbe"
      },
      "outputs": [
        {
          "name": "stdout",
          "output_type": "stream",
          "text": [
            "H: 145, W: 145, C: 200\n",
            "Shape of flat_data: (21025, 200)\n",
            "Shape of flat_gt: (21025,)\n",
            "Train Mask: [ True  True  True ... False False False] | Train Mask Shape : (21025,)\n",
            "X_train: (2304, 200)\n",
            "y_train: (2304,)\n",
            "test mask: (21025,)\n",
            "X_new: (10776, 200)\n"
          ]
        }
      ],
      "source": [
        "# hsi (H, W, C), gt (H, W)\n",
        "H, W, C = hsi.shape\n",
        "print(f\"H: {H}, W: {W}, C: {C}\")\n",
        "flat_data = hsi.reshape(-1, C)\n",
        "flat_gt = gt.reshape(-1)\n",
        "\n",
        "print(f\"Shape of flat_data: {flat_data.shape}\")\n",
        "print(f\"Shape of flat_gt: {flat_gt.shape}\")\n",
        "\n",
        "train_mask = np.isin(flat_gt, [1, 2, 3]) # somewhat wrong\n",
        "print(f\"Train Mask: {train_mask} | Train Mask Shape : {train_mask.shape}\")\n",
        "\n",
        "X_train = flat_data[train_mask]\n",
        "y_train = flat_gt[train_mask]\n",
        "print(f\"X_train: {X_train.shape}\")\n",
        "print(f\"y_train: {y_train.shape}\")\n",
        "\n",
        "test_mask = flat_gt == 0\n",
        "X_new = flat_data[test_mask]\n",
        "print(f\"test mask: {test_mask.shape}\")\n",
        "print(f\"X_new: {X_new.shape}\")\n"
      ]
    },
    {
      "cell_type": "markdown",
      "metadata": {
        "id": "Mt-CxhGp1TMC"
      },
      "source": [
        "## scaling | processing | pca fit"
      ]
    },
    {
      "cell_type": "code",
      "execution_count": 18,
      "metadata": {
        "id": "tHzF-Rs9MBJJ"
      },
      "outputs": [],
      "source": [
        "scaler = StandardScaler()\n",
        "X_train_scaled = scaler.fit_transform(X_train)\n",
        "\n",
        "pca = PCA(n_components=pca_n_components)\n",
        "pca.fit_transform(X_train_scaled)\n",
        "\n",
        "joblib.dump(pca, 'pca_model.pkl')\n",
        "joblib.dump(scaler, 'scaler.pkl')\n",
        "\n",
        "pca = joblib.load('pca_model.pkl')\n",
        "scaler = joblib.load('scaler.pkl')\n"
      ]
    },
    {
      "cell_type": "markdown",
      "metadata": {
        "id": "bgPnu19iIL_G"
      },
      "source": [
        "## spectral preprocessor"
      ]
    },
    {
      "cell_type": "code",
      "execution_count": 19,
      "metadata": {
        "id": "gFXYvpH5kLs5"
      },
      "outputs": [],
      "source": [
        "class RobustSpectralPreprocessor:\n",
        "    def __init__(self, pca_model_path='pca_model.pkl'):\n",
        "        self.pca =joblib.load(pca_model_path)\n",
        "        self.imputer = SimpleImputer(strategy='mean')  # NaN handler\n",
        "\n",
        "    def _load_pca(self, path):\n",
        "        return PCA(n_components=40)\n",
        "\n",
        "    def process(self, raw_spectra):\n",
        "        smoothed = savgol_filter(\n",
        "            np.nan_to_num(raw_spectra),\n",
        "            window_length=11,\n",
        "            polyorder=2\n",
        "        )\n",
        "        print(f\"smoothed shape: {smoothed.shape}\")\n",
        "\n",
        "        with np.errstate(invalid='ignore'):\n",
        "            logged = np.log10(smoothed + 1e-6)\n",
        "        print(f\"logged shape: {logged.shape}\")\n",
        "\n",
        "        logged_clean = self.imputer.fit_transform(logged)\n",
        "        print(f\"logged_clean shape: {logged_clean.shape}\")\n",
        "\n",
        "        pca_reduced = self.pca.transform(logged_clean)\n",
        "        print(f\"pca_reduced shape: {pca_reduced.shape}\")\n",
        "\n",
        "        vis = self._calculate_vi(logged_clean)\n",
        "        print(f\"vis shape: {vis.shape}\")\n",
        "\n",
        "        return np.column_stack([pca_reduced, vis])\n",
        "\n",
        "    def _calculate_vi(self, spectra):\n",
        "        \"\"\"NaN-safe vegetation index calculation\"\"\"\n",
        "        red = spectra[:, 90]\n",
        "        nir = spectra[:, 120]\n",
        "\n",
        "        with np.errstate(divide='ignore', invalid='ignore'):\n",
        "            ndvi = np.where(\n",
        "                (nir + red) != 0,\n",
        "                (nir - red) / (nir + red),\n",
        "                0\n",
        "            )\n",
        "        return ndvi"
      ]
    },
    {
      "cell_type": "markdown",
      "metadata": {
        "id": "_6kT5W1D1y05"
      },
      "source": [
        "## process data"
      ]
    },
    {
      "cell_type": "code",
      "execution_count": 20,
      "metadata": {
        "colab": {
          "base_uri": "https://localhost:8080/"
        },
        "id": "9h5ra-DFlatd",
        "outputId": "350435fc-fdae-4f67-e8b2-b6e598646278"
      },
      "outputs": [
        {
          "name": "stdout",
          "output_type": "stream",
          "text": [
            "hsi shape: (145, 145, 200)\n",
            "spectra shape: (21025, 200)\n",
            "smoothed shape: (21025, 200)\n",
            "logged shape: (21025, 200)\n",
            "logged_clean shape: (21025, 200)\n",
            "pca_reduced shape: (21025, 51)\n",
            "vis shape: (21025,)\n",
            "preproc shape: (21025, 52)\n"
          ]
        }
      ],
      "source": [
        "# data = loadmat('dummy_indian_pines.mat')\n",
        "# hsi, gt = data['hsi'], data['gt']\n",
        "\n",
        "# Reshape(convert HSI cube to 2D)\n",
        "n_pixels = 145 * 145\n",
        "print(f\"hsi shape: {hsi.shape}\")\n",
        "spectra = hsi.reshape(n_pixels, 200)  # Shape: (21025, 200)\n",
        "print(f\"spectra shape: {spectra.shape}\")\n",
        "\n",
        "# Process\n",
        "preproc = RobustSpectralPreprocessor('pca_model.pkl')\n",
        "processed = preproc.process(spectra)  # Output: (21025, 52)\n",
        "print(f\"preproc shape: {processed.shape}\")\n",
        "\n",
        "# Reshape back\n",
        "processed_cube = processed.reshape(hsi.shape[0], hsi.shape[1], pca_n_components+1)"
      ]
    },
    {
      "cell_type": "markdown",
      "metadata": {
        "id": "-HnCB6Lf15cU"
      },
      "source": [
        "## test"
      ]
    },
    {
      "cell_type": "code",
      "execution_count": 21,
      "metadata": {
        "id": "BoADqMC4bTbS"
      },
      "outputs": [],
      "source": [
        "def test_preprocessing():\n",
        "    # hsi, _ = generate_dummy_indian_pines()\n",
        "    spectra = hsi.reshape(-1, 200)\n",
        "    print(f\"spectra shape : {spectra.shape}\")\n",
        "\n",
        "    # Test 1: Handles cube-to-2D conversion\n",
        "    preproc = RobustSpectralPreprocessor('pca_model.pkl')\n",
        "    out = preproc.process(spectra)\n",
        "    print(f\"out shape : {out.shape}\")\n",
        "    assert out.shape == (hsi.shape[0]*hsi.shape[1], pca_n_components+1)\n",
        "\n",
        "    # Test 2: Processes NaN bands correctly\n",
        "    assert not np.isnan(out).any()\n",
        "\n",
        "    # Test 3: Preserves spatial reconstructability\n",
        "    out_cube = out.reshape(hsi.shape[0], hsi.shape[1], pca_n_components+1)\n",
        "    # assert out_cube.shape == (145, 145, 41)"
      ]
    },
    {
      "cell_type": "code",
      "execution_count": 22,
      "metadata": {
        "colab": {
          "base_uri": "https://localhost:8080/"
        },
        "id": "YC3VD0xYmn8_",
        "outputId": "8b74566e-1a0e-4d90-86e7-418ff3a664c1"
      },
      "outputs": [
        {
          "name": "stdout",
          "output_type": "stream",
          "text": [
            "spectra shape : (21025, 200)\n",
            "smoothed shape: (21025, 200)\n",
            "logged shape: (21025, 200)\n",
            "logged_clean shape: (21025, 200)\n",
            "pca_reduced shape: (21025, 51)\n",
            "vis shape: (21025,)\n",
            "out shape : (21025, 52)\n"
          ]
        }
      ],
      "source": [
        "test_preprocessing()"
      ]
    },
    {
      "cell_type": "markdown",
      "metadata": {
        "id": "bVkbH0q62Bu-"
      },
      "source": [
        "# Feature Extraction"
      ]
    },
    {
      "cell_type": "markdown",
      "metadata": {
        "id": "7dtuC0-n2mci"
      },
      "source": [
        "## spectralFeatureExtractor"
      ]
    },
    {
      "cell_type": "code",
      "execution_count": 23,
      "metadata": {
        "id": "LHx53B_ZmplY"
      },
      "outputs": [],
      "source": [
        "class SpectralFeatureExtractor(nn.Module):\n",
        "    def __init__(self, input_dim=52, conv_dim=64, nhead=4):\n",
        "        super().__init__()\n",
        "        # 1D-CNN for local spectral patterns\n",
        "        self.conv = nn.Sequential(\n",
        "            nn.Conv1d(input_dim, conv_dim, kernel_size=3, padding=1),\n",
        "            nn.ReLU(),\n",
        "            nn.MaxPool1d(kernel_size=2)\n",
        "        )\n",
        "        # Transformer for global dependencies\n",
        "        self.transformer = TransformerEncoder(\n",
        "            TransformerEncoderLayer(\n",
        "                d_model=conv_dim,\n",
        "                nhead=nhead,\n",
        "                dim_feedforward=256,\n",
        "                batch_first=True\n",
        "            ),\n",
        "            num_layers=2\n",
        "        )\n",
        "\n",
        "    def forward(self, x):\n",
        "        # x shape: (batch, seq_len, features) -> (batch, 52, 145)\n",
        "        x = x.permute(0, 2, 1)  # Conv1d expects (batch, channels, seq)\n",
        "        x = self.conv(x)  # -> (batch, 64, 72)\n",
        "        x = x.permute(0, 2, 1)  # -> (batch, 72, 64) for transformer\n",
        "        return self.transformer(x)  # -> (batch, 72, 64)"
      ]
    },
    {
      "cell_type": "markdown",
      "metadata": {
        "id": "61tKrtqz21OI"
      },
      "source": [
        "# Multihead task Predictor"
      ]
    },
    {
      "cell_type": "markdown",
      "metadata": {
        "id": "H0drBdp_24VU"
      },
      "source": [
        "## Nutrient Head\n",
        "- Regression"
      ]
    },
    {
      "cell_type": "code",
      "execution_count": 24,
      "metadata": {
        "id": "iZT-SOZp2ldI"
      },
      "outputs": [],
      "source": [
        "class NutrientHead(nn.Module):\n",
        "    def __init__(self, input_dim=64):\n",
        "        super().__init__()\n",
        "        self.regressor = nn.Sequential(\n",
        "            nn.Linear(input_dim, 32),\n",
        "            nn.ReLU(),\n",
        "            nn.Linear(32, 3)  # N, P, K values\n",
        "        )\n",
        "\n",
        "    def forward(self, x):\n",
        "        # x: Transformer output (batch, seq, features)\n",
        "        return self.regressor(x.mean(dim=1))  # Global avg pooling -> (batch, 3)\n",
        "\n",
        "nutrient_loss = nn.HuberLoss(delta=1.0)"
      ]
    },
    {
      "cell_type": "markdown",
      "metadata": {
        "id": "40dt-tM23CGm"
      },
      "source": [
        "## Disease HEad\n",
        "- Classification"
      ]
    },
    {
      "cell_type": "code",
      "execution_count": 25,
      "metadata": {
        "id": "5FL_1yXW29Ko"
      },
      "outputs": [],
      "source": [
        "class DiseaseHead(nn.Module):\n",
        "    def __init__(self, input_dim=64, num_diseases=10):\n",
        "        super().__init__()\n",
        "        self.classifier = nn.Sequential(\n",
        "            nn.Linear(input_dim, 32),\n",
        "            nn.ReLU(),\n",
        "            nn.Linear(32, num_diseases)\n",
        "        )\n",
        "    def forward(self, x):\n",
        "        return torch.sigmoid(self.classifier(x.mean(dim=1)))  # Multi-label\n",
        "\n",
        "disease_loss = nn.BCELoss()"
      ]
    },
    {
      "cell_type": "markdown",
      "metadata": {
        "id": "kvmDRzHO3PIc"
      },
      "source": [
        "## Crop Identification\n",
        "- Embedding"
      ]
    },
    {
      "cell_type": "code",
      "execution_count": 26,
      "metadata": {
        "id": "21f7L4Is3K9x"
      },
      "outputs": [],
      "source": [
        "class CropEmbeddingHead(nn.Module):\n",
        "    def __init__(self, input_dim=64, embed_dim=32):\n",
        "        super().__init__()\n",
        "        self.projection = nn.Linear(input_dim, embed_dim)\n",
        "\n",
        "    def forward(self, x):\n",
        "        # x: (batch, seq, features)\n",
        "        return F.normalize(self.projection(x.mean(dim=1)), p=2.0, dim=1)  # L2-normalized\n",
        "\n",
        "# Contrastive Loss (requires paired data)\n",
        "crop_loss = nn.TripletMarginLoss(margin=1.0)  # anchor/positive/negative crops"
      ]
    },
    {
      "cell_type": "markdown",
      "metadata": {
        "id": "8_KuJ9od3qLo"
      },
      "source": [
        "# integrated Model"
      ]
    },
    {
      "cell_type": "code",
      "execution_count": 27,
      "metadata": {
        "id": "Of4RF5N83rcU"
      },
      "outputs": [],
      "source": [
        "class AgriMultiTaskModel(nn.Module):\n",
        "    def __init__(self):\n",
        "        super().__init__()\n",
        "        self.backbone = SpectralFeatureExtractor()\n",
        "        self.nutrient_head = NutrientHead()\n",
        "        self.disease_head = DiseaseHead()\n",
        "        self.crop_head = CropEmbeddingHead()\n",
        "\n",
        "    def forward(self, x):\n",
        "        features = self.backbone(x)\n",
        "        return {\n",
        "            'nutrients': self.nutrient_head(features),\n",
        "            'diseases': self.disease_head(features),\n",
        "            'embeddings': self.crop_head(features)\n",
        "        }"
      ]
    },
    {
      "cell_type": "markdown",
      "metadata": {
        "id": "lldwyg-03uQc"
      },
      "source": [
        "# Training Script"
      ]
    },
    {
      "cell_type": "code",
      "execution_count": 28,
      "metadata": {
        "id": "vJqeAWlF3siC"
      },
      "outputs": [],
      "source": [
        "model = AgriMultiTaskModel()\n",
        "optimizer = torch.optim.AdamW(model.parameters(), lr=1e-3)\n",
        "\n",
        "def train_step(batch):\n",
        "    spectra = batch['spectra']  # (batch, 52)\n",
        "    targets = batch['targets']\n",
        "\n",
        "    # Forward pass\n",
        "    outputs = model(spectra)\n",
        "\n",
        "    # Loss computation\n",
        "    loss = (\n",
        "        0.5 * nutrient_loss(outputs['nutrients'], targets['npk']) +\n",
        "        0.3 * disease_loss(outputs['diseases'], targets['diseases']) +\n",
        "        0.2 * crop_loss(\n",
        "            outputs['embeddings'][::2],  # Anchors\n",
        "            outputs['embeddings'][1::2], # Positives\n",
        "            torch.roll(outputs['embeddings'], 1, dim=0)[::2]  # Negatives\n",
        "        )\n",
        "    )\n",
        "\n",
        "    # Backward pass\n",
        "    optimizer.zero_grad()\n",
        "    loss.backward()\n",
        "    optimizer.step()\n",
        "    return loss.item()"
      ]
    },
    {
      "cell_type": "markdown",
      "metadata": {
        "id": "h6vfxGEC3_zw"
      },
      "source": [
        "# Deployment"
      ]
    },
    {
      "cell_type": "markdown",
      "metadata": {
        "id": "ti_Z-RDk4exr"
      },
      "source": [
        "## Edge devices"
      ]
    },
    {
      "cell_type": "code",
      "execution_count": 28,
      "metadata": {
        "id": "7FfyhTYs4EhH"
      },
      "outputs": [],
      "source": [
        "scripted_model = torch.jit.script(model)\n",
        "\n",
        "quantized_model = torch.quantization.quantize_dynamic(\n",
        "    scripted_model, {nn.Linear}, dtype=torch.qint8\n",
        ")\n",
        "\n",
        "torch.jit.save(quantized_model, \"agri_model.pt\")"
      ]
    },
    {
      "cell_type": "markdown",
      "metadata": {
        "id": "0_wgxVI84gpG"
      },
      "source": [
        "## 5G-ONNX Export"
      ]
    },
    {
      "cell_type": "code",
      "execution_count": 29,
      "metadata": {
        "id": "UNY7mCCE4MpY"
      },
      "outputs": [],
      "source": [
        "dummy_input = torch.randn(1, 145, 52)  # Batch, seq_len, features\n",
        "torch.onnx.export(\n",
        "    model,\n",
        "    dummy_input,\n",
        "    \"agri_model.onnx\",\n",
        "    input_names=[\"spectra\"],\n",
        "    output_names=[\"nutrients\", \"diseases\", \"embeddings\"]\n",
        ")"
      ]
    },
    {
      "cell_type": "code",
      "execution_count": 29,
      "metadata": {
        "id": "UTJMjDpN4k4K"
      },
      "outputs": [],
      "source": []
    },
    {
      "cell_type": "markdown",
      "metadata": {
        "id": "mV0Q5AJu5pn6"
      },
      "source": [
        "# Scoring"
      ]
    },
    {
      "cell_type": "markdown",
      "metadata": {
        "id": "BPgVQ3ad5utu"
      },
      "source": [
        "## Neutrient Score (R-squared)"
      ]
    },
    {
      "cell_type": "code",
      "execution_count": 29,
      "metadata": {},
      "outputs": [
        {
          "name": "stdout",
          "output_type": "stream",
          "text": [
            "ref shape: (545, 5382, 277)\n",
            "n2 cont gt shape: (545, 5382, 1)\n"
          ]
        }
      ],
      "source": [
        "print(f\"ref shape: {ref.shape}\")\n",
        "print(f\"n2 cont gt shape: {ref_gt.shape}\")"
      ]
    },
    {
      "cell_type": "code",
      "execution_count": 30,
      "metadata": {},
      "outputs": [],
      "source": [
        "def load_and_preprocess_data():\n",
        "    num_samples = 1000\n",
        "    num_bands = 167 # (900 - 400) / 3\n",
        "    \n",
        "    dummy_ref = np.random.rand(num_samples, num_bands)\n",
        "    dummy_gt = np.random.randint(1, 4, size = num_samples)\n",
        "    \n",
        "    return dummy_ref, dummy_gt\n",
        "\n",
        "def reshape_hsd(ref, gt):\n",
        "    # ref: (H, W, B)\n",
        "    # gt: (H, W, 1)\n",
        "    \n",
        "    #return\n",
        "    # X: (S, B)\n",
        "    # y: (S)\n",
        "    assert ref.shape[:2] == gt.shape[:2], \\\n",
        "        f\"Ref - gt dim match: {ref.shape[:2]} - {gt.shape[:2]}\"\n",
        "    \n",
        "    h, w, b = ref.shape\n",
        "    \n",
        "    X = ref.reshape(-1, b) # (pixels x bands)\n",
        "    y = gt.reshape(-1) # (pixels)\n",
        "    \n",
        "    valid = ~np.isnan(y)\n",
        "    X = X[valid]\n",
        "    y = y[valid]\n",
        "    \n",
        "    unique_classes = np.unique(y)\n",
        "    if not np.array_equal(unique_classes, np.arange(len(unique_classes))):\n",
        "        class_mapping = {cls: i for i, cls in enumerate(unique_classes)}\n",
        "        y = np.array([class_mapping[cls] for cls in y])\n",
        "    \n",
        "    return X, y, len(unique_classes)"
      ]
    },
    {
      "cell_type": "code",
      "execution_count": 49,
      "metadata": {},
      "outputs": [
        {
          "name": "stdout",
          "output_type": "stream",
          "text": [
            "X shape: (2933190, 277) | y shape: (2933190,)\n"
          ]
        }
      ],
      "source": [
        "# testing reshape\n",
        "X, y, num_classes = reshape_hsd(ref, ref_gt)\n",
        "\n",
        "print(f\"X shape: {X.shape} | y shape: {y.shape}\")\n"
      ]
    },
    {
      "cell_type": "markdown",
      "metadata": {},
      "source": [
        "### ML model 1"
      ]
    },
    {
      "cell_type": "code",
      "execution_count": 31,
      "metadata": {},
      "outputs": [],
      "source": [
        "def train_model(X, y):\n",
        "    # X, y = load_and_preprocess_data()\n",
        "    \n",
        "    X_train, X_test, y_train, y_test = train_test_split(X, y, test_size=0.3, random_state=42)\n",
        "    \n",
        "    scaler = StandardScaler()\n",
        "    X_train = scaler.fit_transform(X_train)\n",
        "    X_test = scaler.transform(X_test)\n",
        "    \n",
        "    model = RandomForestClassifier(n_estimators=100, random_state=42)\n",
        "    model.fit(X_train, y_train)\n",
        "    \n",
        "    y_pred = model.predict(X_test)\n",
        "    print(f\"Accuracy: {accuracy_score(y_test, y_pred):.2f}\")\n",
        "    print(classification_report(y_test, y_pred))\n",
        "    \n",
        "    return model"
      ]
    },
    {
      "cell_type": "code",
      "execution_count": 32,
      "metadata": {},
      "outputs": [
        {
          "name": "stdout",
          "output_type": "stream",
          "text": [
            "device: cuda\n"
          ]
        }
      ],
      "source": [
        "print(f\"device: {device}\")"
      ]
    },
    {
      "cell_type": "code",
      "execution_count": 33,
      "metadata": {},
      "outputs": [],
      "source": [
        "def train_model_L1(ref, gt, sample_size = 100000):\n",
        "    X, y = reshape_hsd(ref, gt)\n",
        "    \n",
        "    if len(X) > sample_size:\n",
        "        idx = np.random.choice(len(X), sample_size, replace = False)\n",
        "        X = X[idx]\n",
        "        y = y[idx]\n",
        "        \n",
        "    pca = PCA(n_components=50)\n",
        "    X_pca = pca.fit_transform(X)\n",
        "    \n",
        "    X_train, X_test, y_train, y_test = train_test_split(X_pca, y, test_size=0.3, random_state=42)\n",
        "    \n",
        "    model = RandomForestClassifier(n_estimators=100, random_state=42)\n",
        "    model.fit(X_train, y_train)\n",
        "    \n",
        "    y_pred = model.predict(X_test)\n",
        "    print(f\"Accuracy: {accuracy_score(y_test, y_pred):.2f}\")\n",
        "    print(classification_report(y_test, y_pred))"
      ]
    },
    {
      "cell_type": "code",
      "execution_count": 34,
      "metadata": {},
      "outputs": [],
      "source": [
        "# X, y = reshape_hsd(ref, ref_gt)\n",
        "# model = train_model(X, y)"
      ]
    },
    {
      "cell_type": "markdown",
      "metadata": {},
      "source": [
        "### Deep Learning"
      ]
    },
    {
      "cell_type": "code",
      "execution_count": 35,
      "metadata": {},
      "outputs": [],
      "source": [
        "class NutrientNN_1(nn.Module):\n",
        "    def __init__(self, input_dim, num_classes):\n",
        "        super().__init__()\n",
        "        self.net = nn.Sequential(\n",
        "            nn.Linear(input_dim, 512),\n",
        "            nn.BatchNorm1d(512),\n",
        "            nn.ReLU(),\n",
        "            nn.Dropout(0.3),\n",
        "            \n",
        "            nn.Linear(512, 256),\n",
        "            nn.BatchNorm1d(256),\n",
        "            nn.ReLU(),\n",
        "            nn.Dropout(0.2),\n",
        "            \n",
        "            nn.Linear(256, 128),\n",
        "            nn.BatchNorm1d(128),\n",
        "            nn.ReLU(),\n",
        "            \n",
        "            nn.Linear(128, num_classes)\n",
        "        )\n",
        "    \n",
        "    def forward(self, x):\n",
        "        return self.net(x)"
      ]
    },
    {
      "cell_type": "code",
      "execution_count": 36,
      "metadata": {},
      "outputs": [],
      "source": [
        "def train_model_DL1(ref, gt, batch_size=4096, epochs = 20, val_split=0.2):\n",
        "    X, y, num_classes = reshape_hsd(ref, gt)\n",
        "    # X = X.get() if isinstance(X, np.ndarray) else X\n",
        "    \n",
        "    scaler = StandardScaler()\n",
        "    X = scaler.fit_transform(X)\n",
        "    \n",
        "    X_tensor = torch.FloatTensor(X).cuda()\n",
        "    y_tensor = torch.LongTensor(y).cuda()\n",
        "    \n",
        "    dataset = TensorDataset(X_tensor, y_tensor)\n",
        "    val_size = int(len(dataset) * val_split)\n",
        "    train_size = len(dataset) - val_size\n",
        "    train_dataset, val_dataset = random_split(dataset, [train_size, val_size])\n",
        "    \n",
        "    train_loader = DataLoader(train_dataset, batch_size=batch_size, shuffle=True)\n",
        "    val_loader = DataLoader(val_dataset, batch_size)\n",
        "    \n",
        "    model = NutrientNN_1(X.shape[1], num_classes).cuda()\n",
        "    criterion = nn.CrossEntropyLoss()\n",
        "    optimizer = optim.AdamW(model.parameters(), lr = 0.001, weight_decay=1e-4)\n",
        "    \n",
        "    schedular = optim.lr_scheduler.ReduceLROnPlateau(optimizer, 'max', patience=3)\n",
        "    \n",
        "    train_losses = []\n",
        "    val_accuracies = []\n",
        "    best_accuracy = 0.0\n",
        "    \n",
        "    for epoch in (range(epochs)):\n",
        "        \n",
        "        model.train()\n",
        "        epoch_losses = []\n",
        "                \n",
        "        for inputs, labels in tqdm(train_loader, desc=f'Epoch {epoch+1}/{epochs}'):\n",
        "            optimizer.zero_grad()\n",
        "            outputs = model(inputs)\n",
        "            loss = criterion(outputs, labels)\n",
        "            loss.backward()\n",
        "            optimizer.step()\n",
        "            epoch_losses.append(loss.item())\n",
        "            \n",
        "        # validation\n",
        "        model.eval()\n",
        "        correct = 0\n",
        "        total = 0\n",
        "            \n",
        "        with torch.no_grad():\n",
        "            for inputs, labels in val_loader:\n",
        "                outputs = model(inputs)\n",
        "                _, pred = torch.max(outputs.data, 1)\n",
        "                total += labels.size(0)\n",
        "                correct += (pred == labels).sum().item()\n",
        "                \n",
        "        val_accuracy = correct/total\n",
        "        avg_loss = np.mean(epoch_losses)\n",
        "        \n",
        "        schedular.step(val_accuracy)\n",
        "        \n",
        "        if val_accuracy > best_accuracy:\n",
        "            best_accuracy = val_accuracy\n",
        "            torch.save(model.state_dict(), 'best_model1.pth')\n",
        "        \n",
        "        train_losses.append(avg_loss)\n",
        "        val_accuracies.append(val_accuracy)\n",
        "        print(f'Epoch {epoch+1}: Loss= {avg_loss:.4f} ||  Val Accuracy= {val_accuracy:.4f}')\n",
        "            \n",
        "    model.load_state_dict(torch.load('best_model1.pth'))\n",
        "    \n",
        "    return model, scaler, train_losses, val_accuracies"
      ]
    },
    {
      "cell_type": "code",
      "execution_count": 81,
      "metadata": {},
      "outputs": [
        {
          "name": "stderr",
          "output_type": "stream",
          "text": [
            "Epoch 1/10: 100%|██████████| 1146/1146 [01:01<00:00, 18.66it/s]\n"
          ]
        },
        {
          "name": "stdout",
          "output_type": "stream",
          "text": [
            "Epoch 1: Loss= 0.8412 ||  Val Accuracy= 0.6521\n"
          ]
        },
        {
          "name": "stderr",
          "output_type": "stream",
          "text": [
            "Epoch 2/10: 100%|██████████| 1146/1146 [00:49<00:00, 23.29it/s]\n"
          ]
        },
        {
          "name": "stdout",
          "output_type": "stream",
          "text": [
            "Epoch 2: Loss= 0.8231 ||  Val Accuracy= 0.6552\n"
          ]
        },
        {
          "name": "stderr",
          "output_type": "stream",
          "text": [
            "Epoch 3/10: 100%|██████████| 1146/1146 [00:49<00:00, 22.94it/s]\n"
          ]
        },
        {
          "name": "stdout",
          "output_type": "stream",
          "text": [
            "Epoch 3: Loss= 0.8151 ||  Val Accuracy= 0.6579\n"
          ]
        },
        {
          "name": "stderr",
          "output_type": "stream",
          "text": [
            "Epoch 4/10: 100%|██████████| 1146/1146 [00:55<00:00, 20.49it/s]\n"
          ]
        },
        {
          "name": "stdout",
          "output_type": "stream",
          "text": [
            "Epoch 4: Loss= 0.8102 ||  Val Accuracy= 0.6611\n"
          ]
        },
        {
          "name": "stderr",
          "output_type": "stream",
          "text": [
            "Epoch 5/10: 100%|██████████| 1146/1146 [00:59<00:00, 19.35it/s]\n"
          ]
        },
        {
          "name": "stdout",
          "output_type": "stream",
          "text": [
            "Epoch 5: Loss= 0.8061 ||  Val Accuracy= 0.6612\n"
          ]
        },
        {
          "name": "stderr",
          "output_type": "stream",
          "text": [
            "Epoch 6/10: 100%|██████████| 1146/1146 [00:52<00:00, 21.85it/s]\n"
          ]
        },
        {
          "name": "stdout",
          "output_type": "stream",
          "text": [
            "Epoch 6: Loss= 0.8032 ||  Val Accuracy= 0.6621\n"
          ]
        },
        {
          "name": "stderr",
          "output_type": "stream",
          "text": [
            "Epoch 7/10: 100%|██████████| 1146/1146 [00:54<00:00, 20.96it/s]\n"
          ]
        },
        {
          "name": "stdout",
          "output_type": "stream",
          "text": [
            "Epoch 7: Loss= 0.8003 ||  Val Accuracy= 0.6660\n"
          ]
        },
        {
          "name": "stderr",
          "output_type": "stream",
          "text": [
            "Epoch 8/10: 100%|██████████| 1146/1146 [01:01<00:00, 18.76it/s]\n"
          ]
        },
        {
          "name": "stdout",
          "output_type": "stream",
          "text": [
            "Epoch 8: Loss= 0.7980 ||  Val Accuracy= 0.6663\n"
          ]
        },
        {
          "name": "stderr",
          "output_type": "stream",
          "text": [
            "Epoch 9/10: 100%|██████████| 1146/1146 [00:59<00:00, 19.26it/s]\n"
          ]
        },
        {
          "name": "stdout",
          "output_type": "stream",
          "text": [
            "Epoch 9: Loss= 0.7954 ||  Val Accuracy= 0.6669\n"
          ]
        },
        {
          "name": "stderr",
          "output_type": "stream",
          "text": [
            "Epoch 10/10: 100%|██████████| 1146/1146 [00:59<00:00, 19.42it/s]\n"
          ]
        },
        {
          "name": "stdout",
          "output_type": "stream",
          "text": [
            "Epoch 10: Loss= 0.7940 ||  Val Accuracy= 0.6657\n"
          ]
        }
      ],
      "source": [
        "model_DL1, scaler_DL1, train_losses, val_accuracies = train_model_DL1(ref, ref_gt, batch_size=2048, epochs=10)"
      ]
    },
    {
      "cell_type": "code",
      "execution_count": 82,
      "metadata": {},
      "outputs": [],
      "source": [
        "df = pd.DataFrame({\n",
        "    'Losses:': train_losses,\n",
        "    'Accuracies': val_accuracies\n",
        "})\n",
        "\n",
        "df.to_csv('NutrientNN3_e10.csv', index=True)"
      ]
    },
    {
      "cell_type": "code",
      "execution_count": 83,
      "metadata": {},
      "outputs": [],
      "source": [
        "torch.save(model_DL1, \"model3_e10.pth\")\n",
        "\n",
        "torch.save(model_DL1.state_dict(), \"model3_weights_e10.pth\")"
      ]
    },
    {
      "cell_type": "code",
      "execution_count": 84,
      "metadata": {},
      "outputs": [],
      "source": [
        "torch.save({'scaler3': scaler}, 'scaler3_e10.pth')"
      ]
    },
    {
      "cell_type": "markdown",
      "metadata": {},
      "source": [
        "### Test Nutr"
      ]
    },
    {
      "cell_type": "code",
      "execution_count": 97,
      "metadata": {},
      "outputs": [],
      "source": [
        "X, y, num_classes = reshape_hsd(ref, ref_gt)\n"
      ]
    },
    {
      "cell_type": "code",
      "execution_count": 102,
      "metadata": {},
      "outputs": [],
      "source": [
        "def predict_pixel(pixel_reflectance, model, scaler):\n",
        "    \n",
        "    pixel_scaled = scaler.transform(pixel_reflectance.reshape(1, -1))\n",
        "    \n",
        "    pixel_tensor = torch.FloatTensor(pixel_scaled).cuda()\n",
        "    \n",
        "    model.eval()\n",
        "    with torch.no_grad():\n",
        "        logits = model(pixel_tensor)\n",
        "        probs = torch.nn.functional.softmax(logits, dim=1)\n",
        "        pred_class = torch.argmax(probs, dim=1).item()\n",
        "    \n",
        "    return pred_class, probs.cpu().numpy().squeeze()"
      ]
    },
    {
      "cell_type": "code",
      "execution_count": 105,
      "metadata": {},
      "outputs": [],
      "source": [
        "img = open_image(egg_ref)\n",
        "cube = img.load()  \n",
        "\n",
        " \n",
        "\n",
        "test_model_path = 'results/Nutrient/model3_weights_e10.pth'\n",
        "\n",
        "test_scaler_path = 'results/Nutrient/scaler3_e10.pth'"
      ]
    },
    {
      "cell_type": "code",
      "execution_count": 118,
      "metadata": {},
      "outputs": [],
      "source": [
        "test_pixel_ref = cube[200, 200, :] "
      ]
    },
    {
      "cell_type": "code",
      "execution_count": 119,
      "metadata": {},
      "outputs": [
        {
          "data": {
            "text/plain": [
              "NutrientNN_1(\n",
              "  (net): Sequential(\n",
              "    (0): Linear(in_features=277, out_features=512, bias=True)\n",
              "    (1): BatchNorm1d(512, eps=1e-05, momentum=0.1, affine=True, track_running_stats=True)\n",
              "    (2): ReLU()\n",
              "    (3): Dropout(p=0.3, inplace=False)\n",
              "    (4): Linear(in_features=512, out_features=256, bias=True)\n",
              "    (5): BatchNorm1d(256, eps=1e-05, momentum=0.1, affine=True, track_running_stats=True)\n",
              "    (6): ReLU()\n",
              "    (7): Dropout(p=0.2, inplace=False)\n",
              "    (8): Linear(in_features=256, out_features=128, bias=True)\n",
              "    (9): BatchNorm1d(128, eps=1e-05, momentum=0.1, affine=True, track_running_stats=True)\n",
              "    (10): ReLU()\n",
              "    (11): Linear(in_features=128, out_features=4, bias=True)\n",
              "  )\n",
              ")"
            ]
          },
          "execution_count": 119,
          "metadata": {},
          "output_type": "execute_result"
        }
      ],
      "source": [
        "test_scaler_data = torch.load(test_scaler_path, weights_only=False)\n",
        "\n",
        "test_scaler = test_scaler_data['scaler3']\n",
        "\n",
        "test_model = NutrientNN_1(input_dim=X.shape[1], num_classes=num_classes).cuda()  \n",
        "test_model.load_state_dict(torch.load(test_model_path))\n",
        "test_model.eval()"
      ]
    },
    {
      "cell_type": "code",
      "execution_count": 120,
      "metadata": {},
      "outputs": [
        {
          "name": "stdout",
          "output_type": "stream",
          "text": [
            "Predicted class: 0\n",
            "Class probabilities: [1.0000000e+00 2.9705347e-10 9.3026582e-09 4.0169677e-12]\n"
          ]
        }
      ],
      "source": [
        "class_label, probabilities = predict_pixel(test_pixel_ref, test_model, test_scaler)  # Pass model object, not path\n",
        "print(f\"Predicted class: {class_label}\")\n",
        "print(f\"Class probabilities: {probabilities}\")"
      ]
    },
    {
      "cell_type": "markdown",
      "metadata": {
        "id": "0RKFe17q6BCE"
      },
      "source": [
        "## Disease (F1)"
      ]
    },
    {
      "cell_type": "code",
      "execution_count": 31,
      "metadata": {
        "colab": {
          "base_uri": "https://localhost:8080/",
          "height": 384
        },
        "id": "Mzm9sVNL6MrI",
        "outputId": "06131e81-abbc-404b-ed3d-6df5a8f1fab8"
      },
      "outputs": [
        {
          "ename": "ImportError",
          "evalue": "cannot import name 'TransformerClassifier' from 'transformers' (/usr/local/lib/python3.11/dist-packages/transformers/__init__.py)",
          "output_type": "error",
          "traceback": [
            "\u001b[0;31m---------------------------------------------------------------------------\u001b[0m",
            "\u001b[0;31mImportError\u001b[0m                               Traceback (most recent call last)",
            "\u001b[0;32m<ipython-input-31-6b025a70fbdd>\u001b[0m in \u001b[0;36m<cell line: 0>\u001b[0;34m()\u001b[0m\n\u001b[0;32m----> 1\u001b[0;31m \u001b[0;32mfrom\u001b[0m \u001b[0mtransformers\u001b[0m \u001b[0;32mimport\u001b[0m \u001b[0mTransformerClassifier\u001b[0m\u001b[0;34m\u001b[0m\u001b[0;34m\u001b[0m\u001b[0m\n\u001b[0m\u001b[1;32m      2\u001b[0m \u001b[0;34m\u001b[0m\u001b[0m\n\u001b[1;32m      3\u001b[0m \u001b[0;31m# y_diseases: (n_samples, n_diseases) - Multi-hot encoded labels\u001b[0m\u001b[0;34m\u001b[0m\u001b[0;34m\u001b[0m\u001b[0m\n\u001b[1;32m      4\u001b[0m \u001b[0;34m\u001b[0m\u001b[0m\n\u001b[1;32m      5\u001b[0m \u001b[0;32mclass\u001b[0m \u001b[0mTransformerClassifier\u001b[0m\u001b[0;34m(\u001b[0m\u001b[0mnn\u001b[0m\u001b[0;34m.\u001b[0m\u001b[0mModule\u001b[0m\u001b[0;34m)\u001b[0m\u001b[0;34m:\u001b[0m\u001b[0;34m\u001b[0m\u001b[0;34m\u001b[0m\u001b[0m\n",
            "\u001b[0;31mImportError\u001b[0m: cannot import name 'TransformerClassifier' from 'transformers' (/usr/local/lib/python3.11/dist-packages/transformers/__init__.py)",
            "",
            "\u001b[0;31m---------------------------------------------------------------------------\u001b[0;32m\nNOTE: If your import is failing due to a missing package, you can\nmanually install dependencies using either !pip or !apt.\n\nTo view examples of installing some common dependencies, click the\n\"Open Examples\" button below.\n\u001b[0;31m---------------------------------------------------------------------------\u001b[0m\n"
          ]
        }
      ],
      "source": [
        "from transformers import TransformerClassifier\n",
        "\n",
        "# y_diseases: (n_samples, n_diseases) - Multi-hot encoded labels\n",
        "\n",
        "class TransformerClassifier(nn.Module):\n",
        "    def __init__(self, input_dim=52):\n",
        "        super().__init__()\n",
        "        self.encoder = TransformerEncoderLayer(d_model=input_dim, nhead=4)\n",
        "        self.classifier = nn.Linear(input_dim, 10)\n",
        "\n",
        "    def forward(self, x):\n",
        "        return torch.sigmoid(self.encoder(x).mean(dim=1))\n",
        "\n",
        "model = TransformerClassifier()\n",
        "optimizer = torch.optim.Adam(model.parameters())\n",
        "\n",
        "for epoch in range(10):\n",
        "    outputs = model(X_train_tensor)\n",
        "    loss = nn.BCELoss()(outputs, y_train_tensor)\n",
        "    loss.backward()\n",
        "    optimizer.step()\n",
        "\n",
        "y_pred = (model(X_test_tensor).detach().numpy() > 0.5).astype(int)\n",
        "f1 = f1_score(y_test, y_pred, average='macro')\n",
        "\n",
        "print(f\"F1 Score: {f1:.3f}\")"
      ]
    },
    {
      "cell_type": "markdown",
      "metadata": {
        "id": "40QGFOG06nfo"
      },
      "source": [
        "## Crop (recall k)"
      ]
    },
    {
      "cell_type": "code",
      "execution_count": null,
      "metadata": {
        "id": "wBubM9pi6pJw"
      },
      "outputs": [],
      "source": [
        "# embeddings: (n_samples, 32) - From contrastive head\n",
        "# y_crop: (n_samples,) - Crop type labels\n",
        "\n",
        "knn = NearestNeighbors(n_neighbors=5).fit(X_train_embeddings)\n",
        "\n",
        "_, indices = knn.kneighbors(X_test_embeddings)\n",
        "pred_labels = y_train[indices.flatten()].reshape(-1, 5)\n",
        "\n",
        "recall_at_5 = np.mean([true in pred for true, pred in zip(y_test, pred_labels)])\n",
        "\n",
        "print(f\"Recall@5: {recall_at_5:.1%}\")"
      ]
    },
    {
      "cell_type": "markdown",
      "metadata": {
        "id": "9Y3cRsTX6_On"
      },
      "source": [
        "### Evaluate Model"
      ]
    },
    {
      "cell_type": "code",
      "execution_count": null,
      "metadata": {
        "id": "EBh3L11q7BHV"
      },
      "outputs": [],
      "source": [
        "def evaluate_model(model, X_test, y_test_nutrients, y_test_diseases, y_test_crops):\n",
        "    outputs = model(X_test)\n",
        "\n",
        "    r2 = r2_score(y_test_nutrients, outputs['nutrients'].detach().numpy())\n",
        "\n",
        "    disease_pred = (outputs['diseases'].detach().numpy() > 0.5).astype(int)\n",
        "    f1 = f1_score(y_test_diseases, disease_pred, average='macro')\n",
        "\n",
        "    knn = NearestNeighbors(n_neighbors=5).fit(training_embeddings)\n",
        "    _, indices = knn.kneighbors(outputs['embeddings'].detach().numpy())\n",
        "    recall = np.mean([y_test_crops[i] in y_train_crops[indices[i]] for i in range(len(y_test_crops))])\n",
        "\n",
        "    return {'r2': r2, 'f1': f1, 'recall@5': recall}"
      ]
    },
    {
      "cell_type": "markdown",
      "metadata": {
        "id": "CJUaIC9W6372"
      },
      "source": [
        "### Confidence Interval via bootstraping"
      ]
    },
    {
      "cell_type": "code",
      "execution_count": null,
      "metadata": {
        "id": "t-s-ESVE67m-"
      },
      "outputs": [],
      "source": [
        "from sklearn.utils import resample\n",
        "r2_scores = [r2_score(*resample(y_test, y_pred)) for _ in range(1000)]\n",
        "print(f\"R² CI: {np.percentile(r2_scores, [2.5, 97.5])}\")"
      ]
    },
    {
      "cell_type": "markdown",
      "metadata": {
        "id": "eyAcDajguU6e"
      },
      "source": [
        "### SpectralFeatEx for 200 band input"
      ]
    },
    {
      "cell_type": "code",
      "execution_count": 17,
      "metadata": {
        "id": "VlLzM7_KuUbd"
      },
      "outputs": [],
      "source": [
        "class SpectralFeatureExtractor(nn.Module):\n",
        "    def __init__(self, input_dim=200, conv_dim=64):\n",
        "        super().__init__()\n",
        "        # (batch, channels, seq_len)\n",
        "        self.conv = nn.Sequential(\n",
        "            nn.Conv1d(1, conv_dim, kernel_size=3, padding=1),  # Single channel input\n",
        "            nn.ReLU()\n",
        "        )\n",
        "        self.transformer = TransformerEncoder(\n",
        "            TransformerEncoderLayer(\n",
        "                d_model=conv_dim,\n",
        "                nhead=4,\n",
        "                batch_first=True\n",
        "            ),\n",
        "            num_layers=2\n",
        "        )\n",
        "\n",
        "    def forward(self, x):\n",
        "        # Input shape: (batch, seq_len) -> (batch, 200)\n",
        "        x = x.unsqueeze(1)  # -> (batch, 1, 200) [channels=1]\n",
        "        x = self.conv(x)  # -> (batch, 64, 200)\n",
        "        x = x.permute(0, 2, 1)  # -> (batch, 200, 64) for transformer\n",
        "        return self.transformer(x)\n"
      ]
    },
    {
      "cell_type": "markdown",
      "metadata": {
        "id": "zAY887mmvCqp"
      },
      "source": [
        "### data init"
      ]
    },
    {
      "cell_type": "code",
      "execution_count": 127,
      "metadata": {},
      "outputs": [
        {
          "data": {
            "text/plain": [
              "(145, 145, 200)"
            ]
          },
          "execution_count": 127,
          "metadata": {},
          "output_type": "execute_result"
        }
      ],
      "source": [
        "hsi.shape"
      ]
    },
    {
      "cell_type": "code",
      "execution_count": 42,
      "metadata": {
        "id": "EYUB41rolzSK"
      },
      "outputs": [],
      "source": [
        "valid_mask = gt != 0\n",
        "\n",
        "X = hsi[valid_mask]\n",
        "y = gt[valid_mask] - 1\n",
        "\n",
        "X_train, X_test, y_train, y_test = train_test_split(X, y, test_size=0.2)"
      ]
    },
    {
      "cell_type": "code",
      "execution_count": 43,
      "metadata": {
        "id": "Y_2MA91-lz1M"
      },
      "outputs": [],
      "source": [
        "X_train = (X_train - X_train.min()) / (X_train.max() - X_train.min())\n",
        "X_test = (X_test - X_test.min()) / (X_test.max() - X_test.min())"
      ]
    },
    {
      "cell_type": "code",
      "execution_count": 44,
      "metadata": {
        "id": "RFqFUsw8KMoe"
      },
      "outputs": [],
      "source": [
        "batch_size = 64\n",
        "test_batch = 128"
      ]
    },
    {
      "cell_type": "code",
      "execution_count": 45,
      "metadata": {
        "id": "7zkB5wYjmlNx"
      },
      "outputs": [],
      "source": [
        "train_data = TensorDataset(\n",
        "    torch.FloatTensor(X_train).to(device),\n",
        "    torch.LongTensor(y_train).to(device)\n",
        ")\n",
        "test_data = TensorDataset(\n",
        "    torch.FloatTensor(X_test).to(device),\n",
        "    torch.LongTensor(y_test).to(device)\n",
        ")"
      ]
    },
    {
      "cell_type": "code",
      "execution_count": 46,
      "metadata": {
        "id": "GQ-P_JqfBIRi"
      },
      "outputs": [],
      "source": [
        "train_loader = DataLoader(train_data,\n",
        "                         batch_size=batch_size,\n",
        "                         shuffle=True,\n",
        "                         )\n",
        "\n",
        "test_loader = DataLoader(test_data,\n",
        "                        batch_size=test_batch,\n",
        "                        )\n",
        "\n",
        "# train_loader = DataLoader(train_data, batch_size=64, shuffle=True)\n",
        "# test_loader = DataLoader(test_data, batch_size = 128)\n",
        "\n",
        "# train_loader = DataLoader(train_data, batch_size=256, shuffle=True)\n",
        "# test_loader = DataLoader(test_data, batch_size = 512)"
      ]
    },
    {
      "cell_type": "code",
      "execution_count": 47,
      "metadata": {
        "id": "XyrtMilNnEMo"
      },
      "outputs": [],
      "source": [
        "\n",
        "\n",
        "class CropClassifierHead(nn.Module):\n",
        "  def __init__(self, input_dim=64, num_classes=16):\n",
        "    super().__init__()\n",
        "    self.fc = nn.Sequential(\n",
        "        nn.Linear(input_dim, 128),\n",
        "        nn.ReLU(),\n",
        "        nn.Dropout(0.3),\n",
        "        nn.Linear(128, 64),\n",
        "        nn.ReLU(),\n",
        "        nn.Dropout(0.3),\n",
        "        nn.Linear(64, num_classes)\n",
        "    )\n",
        "\n",
        "  def forward(self, x):\n",
        "    return self.fc(x.mean(dim=1))\n",
        "\n",
        "# nn.Linear(200, 256),\n",
        "#             nn.BatchNorm1d(256),\n",
        "#             nn.ReLU(),\n",
        "#             nn.Dropout(0.5),\n",
        "\n",
        "#             nn.Linear(256, 128),\n",
        "#             nn.BatchNorm1d(128),\n",
        "#             nn.ReLU(),\n",
        "#             nn.Dropout(0.3),\n",
        "\n",
        "#             nn.Linear(128, 64),\n",
        "#             nn.BatchNorm1d(64),\n",
        "#             nn.ReLU()\n",
        "\n",
        "\n",
        "# class CropClassifierHead(nn.Module):\n",
        "#   def __init__(self, input_dim=64, num_classes=16):\n",
        "#     super().__init__()\n",
        "#     self.fc = nn.Sequential(\n",
        "#         nn.Linear(input_dim, 128),\n",
        "#         nn.BatchNorm1d(128),\n",
        "#         nn.ReLU(),\n",
        "#         nn.Dropout(0.3),\n",
        "#         nn.Linear(128, 64),\n",
        "#         nn.BatchNorm1d(64),\n",
        "#         nn.ReLU(),\n",
        "#         nn.Dropout(0.3),\n",
        "#         nn.Linear(64, num_classes)\n",
        "#     )\n",
        "\n",
        "#   def forward(self, x):\n",
        "#     return self.fc(x.mean(dim=1))"
      ]
    },
    {
      "cell_type": "code",
      "execution_count": 123,
      "metadata": {
        "id": "TCzNrCFfK5Ow"
      },
      "outputs": [],
      "source": [
        "class EnhancedCropModel(nn.Module):\n",
        "    def __init__(self):\n",
        "        super().__init__()\n",
        "        self.backbone = nn.Sequential(\n",
        "            nn.Linear(200, 256),\n",
        "            nn.BatchNorm1d(256),\n",
        "            nn.ReLU(),\n",
        "            nn.Dropout(0.5),\n",
        "\n",
        "            nn.Linear(256, 128),\n",
        "            nn.BatchNorm1d(128),\n",
        "            nn.ReLU(),\n",
        "            nn.Dropout(0.3),\n",
        "\n",
        "            nn.Linear(128, 64),\n",
        "            nn.BatchNorm1d(64),\n",
        "            nn.ReLU()\n",
        "        )\n",
        "        self.classifier = nn.Linear(64, 16)\n",
        "\n",
        "    def forward(self, x):\n",
        "        return self.classifier(self.backbone(x))"
      ]
    },
    {
      "cell_type": "code",
      "execution_count": 124,
      "metadata": {
        "id": "diJlPpRrwYyB"
      },
      "outputs": [],
      "source": [
        "class EnhancedCropModel2(nn.Module):\n",
        "    def __init__(self):\n",
        "        super().__init__()\n",
        "        self.net = nn.Sequential(\n",
        "            # Input: 200 → 256\n",
        "            nn.Linear(200, 256),\n",
        "            nn.LayerNorm(256),\n",
        "            nn.LeakyReLU(0.1),\n",
        "            nn.Dropout(0.3),\n",
        "\n",
        "            # 256 → 128\n",
        "            nn.Linear(256, 128),\n",
        "            nn.LayerNorm(128),\n",
        "            nn.LeakyReLU(0.1),\n",
        "\n",
        "            # 128 → 64\n",
        "            nn.Linear(128, 64),\n",
        "            nn.LayerNorm(64),\n",
        "            nn.LeakyReLU(0.1),\n",
        "            nn.Dropout(0.2),\n",
        "\n",
        "            # 64 → 16 (classifier)\n",
        "            nn.Linear(64, 16)\n",
        "        )\n",
        "\n",
        "    def forward(self, x):\n",
        "        return self.net(x)\n"
      ]
    },
    {
      "cell_type": "code",
      "execution_count": 50,
      "metadata": {
        "id": "yXjwGCoUzLo8"
      },
      "outputs": [],
      "source": [
        "class ResidualFCBlock(nn.Module):\n",
        "    \"\"\"\n",
        "    A small 2-layer MLP with LayerNorm + LeakyReLU, whose output is added back to its input.\n",
        "    Assumes in_dim == hidden_dim == out_dim.\n",
        "    \"\"\"\n",
        "    def __init__(self, dim, dropout=0.1):\n",
        "        super().__init__()\n",
        "        self.lin1 = nn.Linear(dim, dim)\n",
        "        self.ln1 = nn.LayerNorm(dim)\n",
        "        self.lin2 = nn.Linear(dim, dim)\n",
        "        self.ln2 = nn.LayerNorm(dim)\n",
        "        self.dropout = nn.Dropout(dropout)\n",
        "        self.activation = nn.LeakyReLU(0.1)\n",
        "\n",
        "    def forward(self, x):\n",
        "        # x: (batch, dim)\n",
        "        residual = x\n",
        "        out = self.lin1(x)\n",
        "        out = self.ln1(out)\n",
        "        out = self.activation(out)\n",
        "        out = self.lin2(out)\n",
        "        out = self.ln2(out)\n",
        "        out = self.activation(out)\n",
        "        out = self.dropout(out)\n",
        "        return out + residual\n",
        "\n",
        "\n",
        "class SEBlock(nn.Module):\n",
        "    \"\"\"\n",
        "    A very lightweight “Squeeze-and-Excitation” gating for a 1-D feature vector.\n",
        "    Takes a (batch, C) tensor, passes it through two small MLP layers,\n",
        "    applies sigmoid to get a (batch, C) gating vector, and multiplies back.\n",
        "    \"\"\"\n",
        "    def __init__(self, channels, reduction=4):\n",
        "        super().__init__()\n",
        "        hidden = channels // reduction\n",
        "        self.fc1 = nn.Linear(channels, hidden)\n",
        "        self.act1 = nn.LeakyReLU(0.1)\n",
        "        self.fc2 = nn.Linear(hidden, channels)\n",
        "        self.sigmoid = nn.Sigmoid()\n",
        "\n",
        "    def forward(self, x):\n",
        "        # x: (batch, channels)\n",
        "        s = self.fc1(x)\n",
        "        s = self.act1(s)\n",
        "        s = self.fc2(s)\n",
        "        w = self.sigmoid(s)        # (batch, channels)\n",
        "        return x * w               # channel-wise reweighting\n",
        "\n",
        "\n",
        "class EnhancedCropModel3(nn.Module):\n",
        "    def __init__(self):\n",
        "        super().__init__()\n",
        "        # 1) First hidden layer: 200 → 256\n",
        "        #    Then a tiny residual block at 256 dims\n",
        "        self.fc1 = nn.Sequential(\n",
        "            nn.Linear(200, 256),\n",
        "            nn.LayerNorm(256),\n",
        "            nn.LeakyReLU(0.1),\n",
        "            nn.Dropout(0.3)\n",
        "        )\n",
        "        self.res256 = ResidualFCBlock(dim=256, dropout=0.1)\n",
        "\n",
        "        # 2) Next: 256 → 128 → 64\n",
        "        self.fc2 = nn.Sequential(\n",
        "            nn.Linear(256, 128),\n",
        "            nn.LayerNorm(128),\n",
        "            nn.LeakyReLU(0.1),\n",
        "            nn.Dropout(0.2)\n",
        "        )\n",
        "        self.fc3 = nn.Sequential(\n",
        "            nn.Linear(128, 64),\n",
        "            nn.LayerNorm(64),\n",
        "            nn.LeakyReLU(0.1),\n",
        "            nn.Dropout(0.1)\n",
        "        )\n",
        "\n",
        "        # 3) Squeeze-and-Excitation on the 64-dim features\n",
        "        self.se64 = SEBlock(channels=64, reduction=4)\n",
        "\n",
        "        # 4) Final classifier: 64 → 16\n",
        "        self.classifier = nn.Linear(64, 16)\n",
        "\n",
        "    def forward(self, x):\n",
        "        \"\"\"\n",
        "        x: (batch_size, 200)\n",
        "        \"\"\"\n",
        "        # First linear block\n",
        "        x = self.fc1(x)          # → (batch, 256)\n",
        "        x = self.res256(x)       # residual refine at 256 dims\n",
        "\n",
        "        # Down to 128 → 64\n",
        "        x = self.fc2(x)          # → (batch, 128)\n",
        "        x = self.fc3(x)          # → (batch, 64)\n",
        "\n",
        "        # SE gating\n",
        "        x = self.se64(x)         # → (batch, 64)\n",
        "\n",
        "        # Classifier\n",
        "        logits = self.classifier(x)  # → (batch, 16)\n",
        "        return logits\n"
      ]
    },
    {
      "cell_type": "code",
      "execution_count": 51,
      "metadata": {
        "id": "9AtoW0jS4Iqd"
      },
      "outputs": [],
      "source": [
        "import torch\n",
        "import torch.nn as nn\n",
        "import torch.nn.functional as F\n",
        "\n",
        "class ResidualFCBlock(nn.Module):\n",
        "    \"\"\"\n",
        "    Two‐layer MLP (with LayerNorm + GELU) that adds its output back to the input.\n",
        "    Kept very slim (dropout=0.05) so it refines rather than over‐regularizes.\n",
        "    Assumes in_dim == hidden_dim == out_dim.\n",
        "    \"\"\"\n",
        "    def __init__(self, dim, dropout=0.05):\n",
        "        super().__init__()\n",
        "        self.lin1 = nn.utils.weight_norm(nn.Linear(dim, dim))\n",
        "        self.ln1 = nn.LayerNorm(dim)\n",
        "        self.lin2 = nn.utils.weight_norm(nn.Linear(dim, dim))\n",
        "        self.ln2 = nn.LayerNorm(dim)\n",
        "        self.act = nn.GELU()\n",
        "        self.dropout = nn.Dropout(dropout)\n",
        "\n",
        "    def forward(self, x):\n",
        "        residual = x\n",
        "        out = self.lin1(x)\n",
        "        out = self.ln1(out)\n",
        "        out = self.act(out)\n",
        "        out = self.lin2(out)\n",
        "        out = self.ln2(out)\n",
        "        out = self.act(out)\n",
        "        out = self.dropout(out)\n",
        "        return out + residual\n",
        "\n",
        "\n",
        "class EnhancedCropModel4(nn.Module): # simple Mod3\n",
        "    def __init__(self):\n",
        "        super().__init__()\n",
        "        # 1) First layer: 200 → 256, with weight_norm, LayerNorm, GELU, minimal dropout\n",
        "        self.fc1 = nn.Sequential(\n",
        "            nn.utils.weight_norm(nn.Linear(200, 256)),\n",
        "            nn.LayerNorm(256),\n",
        "            nn.GELU(),\n",
        "            nn.Dropout(0.2),\n",
        "        )\n",
        "        self.res256 = ResidualFCBlock(dim=256, dropout=0.05)\n",
        "\n",
        "        # 2) Next: 256 → 128, then a small residual at 128\n",
        "        self.fc2 = nn.Sequential(\n",
        "            nn.utils.weight_norm(nn.Linear(256, 128)),\n",
        "            nn.LayerNorm(128),\n",
        "            nn.GELU(),\n",
        "            nn.Dropout(0.1),\n",
        "        )\n",
        "        self.res128 = ResidualFCBlock(dim=128, dropout=0.05)\n",
        "\n",
        "        # 3) Then: 128 → 64\n",
        "        self.fc3 = nn.Sequential(\n",
        "            nn.utils.weight_norm(nn.Linear(128, 64)),\n",
        "            nn.LayerNorm(64),\n",
        "            nn.GELU(),\n",
        "            nn.Dropout(0.1),\n",
        "        )\n",
        "\n",
        "        # 4) Classifier head: 64 → 16\n",
        "        self.classifier = nn.Linear(64, 16)\n",
        "\n",
        "    def forward(self, x):\n",
        "        \"\"\"\n",
        "        x: (batch_size, 200)\n",
        "        \"\"\"\n",
        "        # First block + residual\n",
        "        x = self.fc1(x)            # → (batch, 256)\n",
        "        x = self.res256(x)         # refine at 256 dims\n",
        "\n",
        "        # Second block + residual\n",
        "        x = self.fc2(x)            # → (batch, 128)\n",
        "        x = self.res128(x)         # refine at 128 dims\n",
        "\n",
        "        # Third block\n",
        "        x = self.fc3(x)            # → (batch, 64)\n",
        "\n",
        "        # Final classifier\n",
        "        logits = self.classifier(x)  # → (batch, 16)\n",
        "        return logits\n"
      ]
    },
    {
      "cell_type": "code",
      "execution_count": 52,
      "metadata": {
        "id": "uEo57racngP9"
      },
      "outputs": [],
      "source": [
        "class CropIDModel(nn.Module):\n",
        "    def __init__(self):\n",
        "        super().__init__()\n",
        "        self.backbone = SpectralFeatureExtractor(input_dim=200)\n",
        "        self.crop_head = CropClassifierHead()\n",
        "\n",
        "    def forward(self, x):\n",
        "        features = self.backbone(x)\n",
        "        return {'crop': self.crop_head(features)}"
      ]
    },
    {
      "cell_type": "markdown",
      "metadata": {
        "id": "DJSDKN-QqlTS"
      },
      "source": [
        "### Train"
      ]
    },
    {
      "cell_type": "code",
      "execution_count": 53,
      "metadata": {
        "id": "1sKcm5LCq5ua"
      },
      "outputs": [],
      "source": [
        "import tqdm"
      ]
    },
    {
      "cell_type": "code",
      "execution_count": 54,
      "metadata": {
        "id": "m8Qj9mChAQCh"
      },
      "outputs": [],
      "source": [
        "# model  = CropIDModel().to(device)\n",
        "# optimizer = torch.optim.AdamW(model.parameters(), lr = 1e-3, weight_decay=1e-4)\n",
        "# criterion = nn.CrossEntropyLoss()\n",
        "# scaler = GradScaler()\n",
        "\n",
        "# scheduler = torch.optim.lr_scheduler.OneCycleLR(\n",
        "#     optimizer,\n",
        "#     max_lr=1e-2,\n",
        "#     steps_per_epoch=len(train_loader),\n",
        "#     epochs=250\n",
        "# )\n",
        "\n",
        "model = EnhancedCropModel().to(device)\n",
        "# model = EnhancedCropModel2().to(device)\n",
        "# model = EnhancedCropModel3().to(device)\n",
        "# model = EnhancedCropModel4().to(device)\n",
        "# model = EnhancedConvCropModel().to(device)\n",
        "criterion = nn.CrossEntropyLoss(label_smoothing=0.1)\n",
        "optimizer = torch.optim.AdamW(model.parameters(),\n",
        "                            lr=5e-4,\n",
        "                            weight_decay=1e-4)\n",
        "\n",
        "scheduler = torch.optim.lr_scheduler.CosineAnnealingLR(\n",
        "    optimizer,\n",
        "    T_max=30,\n",
        "    eta_min=1e-5\n",
        ")"
      ]
    },
    {
      "cell_type": "code",
      "execution_count": null,
      "metadata": {
        "id": "_HqCueUEK93F"
      },
      "outputs": [],
      "source": []
    },
    {
      "cell_type": "code",
      "execution_count": 55,
      "metadata": {
        "id": "AxWuJHQdqkB3"
      },
      "outputs": [],
      "source": [
        "losses = []\n",
        "\n",
        "def train_epoch(loader):\n",
        "  model.train()\n",
        "  total_loss = 0\n",
        "  for spectra, labels in loader:\n",
        "    optimizer.zero_grad()\n",
        "\n",
        "    with torch.amp.autocast('cuda'):\n",
        "      outputs = model(spectra)\n",
        "      loss = criterion(outputs['crop'], labels)\n",
        "\n",
        "    # loss.backward()\n",
        "    scaler.scale(loss).backward()\n",
        "    scaler.step(optimizer)\n",
        "    scaler.update()\n",
        "    scheduler.step()\n",
        "\n",
        "    total_loss += loss.item()\n",
        "    losses.append(loss.item())\n",
        "  return total_loss / len(loader)\n",
        "\n",
        "def evaluate(loader):\n",
        "  model.eval()\n",
        "  correct = 0\n",
        "  with torch.no_grad():\n",
        "    for spectra, labels in loader:\n",
        "      outputs = model(spectra)\n",
        "      preds = outputs['crop'].argmax(dim=1)\n",
        "      correct += (preds == labels).sum().item()\n",
        "  return correct / len(loader.dataset)"
      ]
    },
    {
      "cell_type": "code",
      "execution_count": 56,
      "metadata": {
        "colab": {
          "base_uri": "https://localhost:8080/"
        },
        "id": "sIQVTpQjya83",
        "outputId": "e2e1477d-4cf1-466a-d62b-b67a6b155841"
      },
      "outputs": [
        {
          "name": "stdout",
          "output_type": "stream",
          "text": [
            "Spectra shape: torch.Size([64, 200])\n",
            "Labels shape: torch.Size([64])\n",
            "Label values sample: tensor([ 1, 13,  1,  5,  2], device='cuda:0')\n"
          ]
        }
      ],
      "source": [
        "for spectra, labels in train_loader:\n",
        "    print(f\"Spectra shape: {spectra.shape}\")  # [64, 200]\n",
        "    print(f\"Labels shape: {labels.shape}\")    # [64]\n",
        "    print(f\"Label values sample: {labels[:5]}\")  # 0-15\n",
        "    break"
      ]
    },
    {
      "cell_type": "code",
      "execution_count": 57,
      "metadata": {
        "collapsed": true,
        "id": "TH6h7F2Vra9s"
      },
      "outputs": [],
      "source": [
        "# train_loss_list = []\n",
        "# test_acc_list = []\n",
        "\n",
        "# for epoch in tqdm.tqdm(range(250)):\n",
        "#   train_loss = train_epoch(train_loader)\n",
        "#   test_acc = evaluate(test_loader)\n",
        "#   train_loss_list.append(train_loss)\n",
        "#   test_acc_list.append(test_acc)\n",
        "#   print(f\"Epoch {epoch+1}: Train Loss = {train_loss:.4f}, Test Acc = {test_acc:.4f}\")\n"
      ]
    },
    {
      "cell_type": "code",
      "execution_count": 58,
      "metadata": {
        "colab": {
          "base_uri": "https://localhost:8080/"
        },
        "collapsed": true,
        "id": "M2-RMjzSLICq",
        "outputId": "9c049747-2aef-46d8-a3d9-99db55062532"
      },
      "outputs": [
        {
          "name": "stderr",
          "output_type": "stream",
          "text": [
            "  0%|          | 1/300 [00:01<09:40,  1.94s/it]"
          ]
        },
        {
          "name": "stdout",
          "output_type": "stream",
          "text": [
            "Epoch 1: Loss=1.9862, Acc=55.27%\n"
          ]
        },
        {
          "name": "stderr",
          "output_type": "stream",
          "text": [
            "  1%|          | 2/300 [00:03<09:20,  1.88s/it]"
          ]
        },
        {
          "name": "stdout",
          "output_type": "stream",
          "text": [
            "Epoch 2: Loss=1.6110, Acc=40.44%\n"
          ]
        },
        {
          "name": "stderr",
          "output_type": "stream",
          "text": [
            "  1%|          | 3/300 [00:05<09:08,  1.85s/it]"
          ]
        },
        {
          "name": "stdout",
          "output_type": "stream",
          "text": [
            "Epoch 3: Loss=1.4841, Acc=56.88%\n"
          ]
        },
        {
          "name": "stderr",
          "output_type": "stream",
          "text": [
            "  1%|▏         | 4/300 [00:07<08:46,  1.78s/it]"
          ]
        },
        {
          "name": "stdout",
          "output_type": "stream",
          "text": [
            "Epoch 4: Loss=1.3881, Acc=46.83%\n"
          ]
        },
        {
          "name": "stderr",
          "output_type": "stream",
          "text": [
            "  2%|▏         | 5/300 [00:08<08:21,  1.70s/it]"
          ]
        },
        {
          "name": "stdout",
          "output_type": "stream",
          "text": [
            "Epoch 5: Loss=1.3272, Acc=47.22%\n"
          ]
        },
        {
          "name": "stderr",
          "output_type": "stream",
          "text": [
            "  2%|▏         | 6/300 [00:10<07:38,  1.56s/it]"
          ]
        },
        {
          "name": "stdout",
          "output_type": "stream",
          "text": [
            "Epoch 6: Loss=1.2833, Acc=61.85%\n"
          ]
        },
        {
          "name": "stderr",
          "output_type": "stream",
          "text": [
            "  2%|▏         | 7/300 [00:11<07:31,  1.54s/it]"
          ]
        },
        {
          "name": "stdout",
          "output_type": "stream",
          "text": [
            "Epoch 7: Loss=1.2393, Acc=46.15%\n"
          ]
        },
        {
          "name": "stderr",
          "output_type": "stream",
          "text": [
            "  3%|▎         | 8/300 [00:13<07:40,  1.58s/it]"
          ]
        },
        {
          "name": "stdout",
          "output_type": "stream",
          "text": [
            "Epoch 8: Loss=1.2210, Acc=44.78%\n"
          ]
        },
        {
          "name": "stderr",
          "output_type": "stream",
          "text": [
            "  3%|▎         | 9/300 [00:14<07:45,  1.60s/it]"
          ]
        },
        {
          "name": "stdout",
          "output_type": "stream",
          "text": [
            "Epoch 9: Loss=1.1779, Acc=46.24%\n"
          ]
        },
        {
          "name": "stderr",
          "output_type": "stream",
          "text": [
            "  3%|▎         | 10/300 [00:16<07:59,  1.65s/it]"
          ]
        },
        {
          "name": "stdout",
          "output_type": "stream",
          "text": [
            "Epoch 10: Loss=1.1594, Acc=52.93%\n"
          ]
        },
        {
          "name": "stderr",
          "output_type": "stream",
          "text": [
            "  4%|▎         | 11/300 [00:18<07:50,  1.63s/it]"
          ]
        },
        {
          "name": "stdout",
          "output_type": "stream",
          "text": [
            "Epoch 11: Loss=1.1369, Acc=53.66%\n"
          ]
        },
        {
          "name": "stderr",
          "output_type": "stream",
          "text": [
            "  4%|▍         | 12/300 [00:19<07:49,  1.63s/it]"
          ]
        },
        {
          "name": "stdout",
          "output_type": "stream",
          "text": [
            "Epoch 12: Loss=1.1136, Acc=59.46%\n"
          ]
        },
        {
          "name": "stderr",
          "output_type": "stream",
          "text": [
            "  4%|▍         | 13/300 [00:21<07:49,  1.64s/it]"
          ]
        },
        {
          "name": "stdout",
          "output_type": "stream",
          "text": [
            "Epoch 13: Loss=1.1008, Acc=64.49%\n"
          ]
        },
        {
          "name": "stderr",
          "output_type": "stream",
          "text": [
            "  5%|▍         | 14/300 [00:23<07:45,  1.63s/it]"
          ]
        },
        {
          "name": "stdout",
          "output_type": "stream",
          "text": [
            "Epoch 14: Loss=1.0820, Acc=55.41%\n"
          ]
        },
        {
          "name": "stderr",
          "output_type": "stream",
          "text": [
            "  5%|▌         | 15/300 [00:24<07:36,  1.60s/it]"
          ]
        },
        {
          "name": "stdout",
          "output_type": "stream",
          "text": [
            "Epoch 15: Loss=1.0809, Acc=45.41%\n"
          ]
        },
        {
          "name": "stderr",
          "output_type": "stream",
          "text": [
            "  5%|▌         | 16/300 [00:26<07:26,  1.57s/it]"
          ]
        },
        {
          "name": "stdout",
          "output_type": "stream",
          "text": [
            "Epoch 16: Loss=1.0626, Acc=59.37%\n"
          ]
        },
        {
          "name": "stderr",
          "output_type": "stream",
          "text": [
            "  6%|▌         | 17/300 [00:27<07:20,  1.56s/it]"
          ]
        },
        {
          "name": "stdout",
          "output_type": "stream",
          "text": [
            "Epoch 17: Loss=1.0519, Acc=54.93%\n"
          ]
        },
        {
          "name": "stderr",
          "output_type": "stream",
          "text": [
            "  6%|▌         | 18/300 [00:29<07:15,  1.54s/it]"
          ]
        },
        {
          "name": "stdout",
          "output_type": "stream",
          "text": [
            "Epoch 18: Loss=1.0336, Acc=70.44%\n"
          ]
        },
        {
          "name": "stderr",
          "output_type": "stream",
          "text": [
            "  6%|▋         | 19/300 [00:30<07:12,  1.54s/it]"
          ]
        },
        {
          "name": "stdout",
          "output_type": "stream",
          "text": [
            "Epoch 19: Loss=1.0299, Acc=56.00%\n"
          ]
        },
        {
          "name": "stderr",
          "output_type": "stream",
          "text": [
            "  7%|▋         | 20/300 [00:32<07:15,  1.55s/it]"
          ]
        },
        {
          "name": "stdout",
          "output_type": "stream",
          "text": [
            "Epoch 20: Loss=1.0164, Acc=66.59%\n"
          ]
        },
        {
          "name": "stderr",
          "output_type": "stream",
          "text": [
            "  7%|▋         | 21/300 [00:33<07:10,  1.54s/it]"
          ]
        },
        {
          "name": "stdout",
          "output_type": "stream",
          "text": [
            "Epoch 21: Loss=1.0204, Acc=61.76%\n"
          ]
        },
        {
          "name": "stderr",
          "output_type": "stream",
          "text": [
            "  7%|▋         | 22/300 [00:35<07:15,  1.57s/it]"
          ]
        },
        {
          "name": "stdout",
          "output_type": "stream",
          "text": [
            "Epoch 22: Loss=1.0076, Acc=60.00%\n"
          ]
        },
        {
          "name": "stderr",
          "output_type": "stream",
          "text": [
            "  8%|▊         | 23/300 [00:37<07:23,  1.60s/it]"
          ]
        },
        {
          "name": "stdout",
          "output_type": "stream",
          "text": [
            "Epoch 23: Loss=1.0073, Acc=63.66%\n"
          ]
        },
        {
          "name": "stderr",
          "output_type": "stream",
          "text": [
            "  8%|▊         | 24/300 [00:38<07:23,  1.61s/it]"
          ]
        },
        {
          "name": "stdout",
          "output_type": "stream",
          "text": [
            "Epoch 24: Loss=0.9848, Acc=50.39%\n"
          ]
        },
        {
          "name": "stderr",
          "output_type": "stream",
          "text": [
            "  8%|▊         | 25/300 [00:40<07:16,  1.59s/it]"
          ]
        },
        {
          "name": "stdout",
          "output_type": "stream",
          "text": [
            "Epoch 25: Loss=0.9857, Acc=71.17%\n"
          ]
        },
        {
          "name": "stderr",
          "output_type": "stream",
          "text": [
            "  9%|▊         | 26/300 [00:41<07:13,  1.58s/it]"
          ]
        },
        {
          "name": "stdout",
          "output_type": "stream",
          "text": [
            "Epoch 26: Loss=0.9795, Acc=61.95%\n"
          ]
        },
        {
          "name": "stderr",
          "output_type": "stream",
          "text": [
            "  9%|▉         | 27/300 [00:43<07:05,  1.56s/it]"
          ]
        },
        {
          "name": "stdout",
          "output_type": "stream",
          "text": [
            "Epoch 27: Loss=0.9804, Acc=62.15%\n"
          ]
        },
        {
          "name": "stderr",
          "output_type": "stream",
          "text": [
            "  9%|▉         | 28/300 [00:44<07:04,  1.56s/it]"
          ]
        },
        {
          "name": "stdout",
          "output_type": "stream",
          "text": [
            "Epoch 28: Loss=0.9877, Acc=64.88%\n"
          ]
        },
        {
          "name": "stderr",
          "output_type": "stream",
          "text": [
            " 10%|▉         | 29/300 [00:46<06:59,  1.55s/it]"
          ]
        },
        {
          "name": "stdout",
          "output_type": "stream",
          "text": [
            "Epoch 29: Loss=0.9833, Acc=58.83%\n"
          ]
        },
        {
          "name": "stderr",
          "output_type": "stream",
          "text": [
            " 10%|█         | 30/300 [00:48<06:58,  1.55s/it]"
          ]
        },
        {
          "name": "stdout",
          "output_type": "stream",
          "text": [
            "Epoch 30: Loss=0.9823, Acc=61.80%\n"
          ]
        },
        {
          "name": "stderr",
          "output_type": "stream",
          "text": [
            " 10%|█         | 31/300 [00:49<07:02,  1.57s/it]"
          ]
        },
        {
          "name": "stdout",
          "output_type": "stream",
          "text": [
            "Epoch 31: Loss=0.9702, Acc=64.59%\n"
          ]
        },
        {
          "name": "stderr",
          "output_type": "stream",
          "text": [
            " 11%|█         | 32/300 [00:51<07:03,  1.58s/it]"
          ]
        },
        {
          "name": "stdout",
          "output_type": "stream",
          "text": [
            "Epoch 32: Loss=0.9723, Acc=61.32%\n"
          ]
        },
        {
          "name": "stderr",
          "output_type": "stream",
          "text": [
            " 11%|█         | 33/300 [00:52<07:04,  1.59s/it]"
          ]
        },
        {
          "name": "stdout",
          "output_type": "stream",
          "text": [
            "Epoch 33: Loss=0.9698, Acc=62.78%\n"
          ]
        },
        {
          "name": "stderr",
          "output_type": "stream",
          "text": [
            " 11%|█▏        | 34/300 [00:54<07:04,  1.59s/it]"
          ]
        },
        {
          "name": "stdout",
          "output_type": "stream",
          "text": [
            "Epoch 34: Loss=0.9923, Acc=64.44%\n"
          ]
        },
        {
          "name": "stderr",
          "output_type": "stream",
          "text": [
            " 12%|█▏        | 35/300 [00:56<07:08,  1.62s/it]"
          ]
        },
        {
          "name": "stdout",
          "output_type": "stream",
          "text": [
            "Epoch 35: Loss=0.9746, Acc=66.15%\n"
          ]
        },
        {
          "name": "stderr",
          "output_type": "stream",
          "text": [
            " 12%|█▏        | 36/300 [00:57<07:01,  1.60s/it]"
          ]
        },
        {
          "name": "stdout",
          "output_type": "stream",
          "text": [
            "Epoch 36: Loss=0.9801, Acc=66.68%\n"
          ]
        },
        {
          "name": "stderr",
          "output_type": "stream",
          "text": [
            " 12%|█▏        | 37/300 [00:59<07:04,  1.62s/it]"
          ]
        },
        {
          "name": "stdout",
          "output_type": "stream",
          "text": [
            "Epoch 37: Loss=0.9694, Acc=70.49%\n"
          ]
        },
        {
          "name": "stderr",
          "output_type": "stream",
          "text": [
            " 13%|█▎        | 38/300 [01:00<07:01,  1.61s/it]"
          ]
        },
        {
          "name": "stdout",
          "output_type": "stream",
          "text": [
            "Epoch 38: Loss=0.9778, Acc=75.90%\n"
          ]
        },
        {
          "name": "stderr",
          "output_type": "stream",
          "text": [
            " 13%|█▎        | 39/300 [01:02<07:00,  1.61s/it]"
          ]
        },
        {
          "name": "stdout",
          "output_type": "stream",
          "text": [
            "Epoch 39: Loss=0.9742, Acc=74.00%\n"
          ]
        },
        {
          "name": "stderr",
          "output_type": "stream",
          "text": [
            " 13%|█▎        | 40/300 [01:04<06:53,  1.59s/it]"
          ]
        },
        {
          "name": "stdout",
          "output_type": "stream",
          "text": [
            "Epoch 40: Loss=0.9740, Acc=58.15%\n"
          ]
        },
        {
          "name": "stderr",
          "output_type": "stream",
          "text": [
            " 14%|█▎        | 41/300 [01:05<06:46,  1.57s/it]"
          ]
        },
        {
          "name": "stdout",
          "output_type": "stream",
          "text": [
            "Epoch 41: Loss=0.9776, Acc=65.17%\n"
          ]
        },
        {
          "name": "stderr",
          "output_type": "stream",
          "text": [
            " 14%|█▍        | 42/300 [01:07<06:44,  1.57s/it]"
          ]
        },
        {
          "name": "stdout",
          "output_type": "stream",
          "text": [
            "Epoch 42: Loss=0.9921, Acc=78.78%\n"
          ]
        },
        {
          "name": "stderr",
          "output_type": "stream",
          "text": [
            " 14%|█▍        | 43/300 [01:08<06:44,  1.58s/it]"
          ]
        },
        {
          "name": "stdout",
          "output_type": "stream",
          "text": [
            "Epoch 43: Loss=0.9902, Acc=54.29%\n"
          ]
        },
        {
          "name": "stderr",
          "output_type": "stream",
          "text": [
            " 15%|█▍        | 44/300 [01:10<06:49,  1.60s/it]"
          ]
        },
        {
          "name": "stdout",
          "output_type": "stream",
          "text": [
            "Epoch 44: Loss=0.9715, Acc=65.37%\n"
          ]
        },
        {
          "name": "stderr",
          "output_type": "stream",
          "text": [
            " 15%|█▌        | 45/300 [01:11<06:40,  1.57s/it]"
          ]
        },
        {
          "name": "stdout",
          "output_type": "stream",
          "text": [
            "Epoch 45: Loss=0.9752, Acc=50.29%\n"
          ]
        },
        {
          "name": "stderr",
          "output_type": "stream",
          "text": [
            " 15%|█▌        | 46/300 [01:13<06:38,  1.57s/it]"
          ]
        },
        {
          "name": "stdout",
          "output_type": "stream",
          "text": [
            "Epoch 46: Loss=0.9845, Acc=49.46%\n"
          ]
        },
        {
          "name": "stderr",
          "output_type": "stream",
          "text": [
            " 16%|█▌        | 47/300 [01:15<06:37,  1.57s/it]"
          ]
        },
        {
          "name": "stdout",
          "output_type": "stream",
          "text": [
            "Epoch 47: Loss=0.9725, Acc=59.95%\n"
          ]
        },
        {
          "name": "stderr",
          "output_type": "stream",
          "text": [
            " 16%|█▌        | 48/300 [01:16<06:36,  1.57s/it]"
          ]
        },
        {
          "name": "stdout",
          "output_type": "stream",
          "text": [
            "Epoch 48: Loss=0.9789, Acc=65.27%\n"
          ]
        },
        {
          "name": "stderr",
          "output_type": "stream",
          "text": [
            " 16%|█▋        | 49/300 [01:18<06:27,  1.54s/it]"
          ]
        },
        {
          "name": "stdout",
          "output_type": "stream",
          "text": [
            "Epoch 49: Loss=0.9846, Acc=67.32%\n"
          ]
        },
        {
          "name": "stderr",
          "output_type": "stream",
          "text": [
            " 17%|█▋        | 50/300 [01:19<06:25,  1.54s/it]"
          ]
        },
        {
          "name": "stdout",
          "output_type": "stream",
          "text": [
            "Epoch 50: Loss=0.9752, Acc=62.00%\n"
          ]
        },
        {
          "name": "stderr",
          "output_type": "stream",
          "text": [
            " 17%|█▋        | 51/300 [01:21<06:29,  1.56s/it]"
          ]
        },
        {
          "name": "stdout",
          "output_type": "stream",
          "text": [
            "Epoch 51: Loss=0.9777, Acc=63.61%\n"
          ]
        },
        {
          "name": "stderr",
          "output_type": "stream",
          "text": [
            " 17%|█▋        | 52/300 [01:22<06:26,  1.56s/it]"
          ]
        },
        {
          "name": "stdout",
          "output_type": "stream",
          "text": [
            "Epoch 52: Loss=0.9760, Acc=58.20%\n"
          ]
        },
        {
          "name": "stderr",
          "output_type": "stream",
          "text": [
            " 18%|█▊        | 53/300 [01:24<06:24,  1.56s/it]"
          ]
        },
        {
          "name": "stdout",
          "output_type": "stream",
          "text": [
            "Epoch 53: Loss=0.9815, Acc=65.95%\n"
          ]
        },
        {
          "name": "stderr",
          "output_type": "stream",
          "text": [
            " 18%|█▊        | 54/300 [01:26<06:26,  1.57s/it]"
          ]
        },
        {
          "name": "stdout",
          "output_type": "stream",
          "text": [
            "Epoch 54: Loss=0.9664, Acc=68.49%\n"
          ]
        },
        {
          "name": "stderr",
          "output_type": "stream",
          "text": [
            " 18%|█▊        | 55/300 [01:27<06:22,  1.56s/it]"
          ]
        },
        {
          "name": "stdout",
          "output_type": "stream",
          "text": [
            "Epoch 55: Loss=0.9694, Acc=59.90%\n"
          ]
        },
        {
          "name": "stderr",
          "output_type": "stream",
          "text": [
            " 19%|█▊        | 56/300 [01:29<06:26,  1.58s/it]"
          ]
        },
        {
          "name": "stdout",
          "output_type": "stream",
          "text": [
            "Epoch 56: Loss=0.9678, Acc=72.00%\n"
          ]
        },
        {
          "name": "stderr",
          "output_type": "stream",
          "text": [
            " 19%|█▉        | 57/300 [01:30<06:17,  1.55s/it]"
          ]
        },
        {
          "name": "stdout",
          "output_type": "stream",
          "text": [
            "Epoch 57: Loss=0.9719, Acc=64.98%\n"
          ]
        },
        {
          "name": "stderr",
          "output_type": "stream",
          "text": [
            " 19%|█▉        | 58/300 [01:32<06:17,  1.56s/it]"
          ]
        },
        {
          "name": "stdout",
          "output_type": "stream",
          "text": [
            "Epoch 58: Loss=0.9769, Acc=67.46%\n"
          ]
        },
        {
          "name": "stderr",
          "output_type": "stream",
          "text": [
            " 20%|█▉        | 59/300 [01:33<06:18,  1.57s/it]"
          ]
        },
        {
          "name": "stdout",
          "output_type": "stream",
          "text": [
            "Epoch 59: Loss=0.9724, Acc=64.98%\n"
          ]
        },
        {
          "name": "stderr",
          "output_type": "stream",
          "text": [
            " 20%|██        | 60/300 [01:35<06:15,  1.56s/it]"
          ]
        },
        {
          "name": "stdout",
          "output_type": "stream",
          "text": [
            "Epoch 60: Loss=0.9750, Acc=70.68%\n"
          ]
        },
        {
          "name": "stderr",
          "output_type": "stream",
          "text": [
            " 20%|██        | 61/300 [01:36<06:12,  1.56s/it]"
          ]
        },
        {
          "name": "stdout",
          "output_type": "stream",
          "text": [
            "Epoch 61: Loss=0.9693, Acc=59.71%\n"
          ]
        },
        {
          "name": "stderr",
          "output_type": "stream",
          "text": [
            " 21%|██        | 62/300 [01:38<06:09,  1.55s/it]"
          ]
        },
        {
          "name": "stdout",
          "output_type": "stream",
          "text": [
            "Epoch 62: Loss=0.9656, Acc=56.93%\n"
          ]
        },
        {
          "name": "stderr",
          "output_type": "stream",
          "text": [
            " 21%|██        | 63/300 [01:39<06:06,  1.55s/it]"
          ]
        },
        {
          "name": "stdout",
          "output_type": "stream",
          "text": [
            "Epoch 63: Loss=0.9888, Acc=60.00%\n"
          ]
        },
        {
          "name": "stderr",
          "output_type": "stream",
          "text": [
            " 21%|██▏       | 64/300 [01:41<06:12,  1.58s/it]"
          ]
        },
        {
          "name": "stdout",
          "output_type": "stream",
          "text": [
            "Epoch 64: Loss=0.9666, Acc=59.61%\n"
          ]
        },
        {
          "name": "stderr",
          "output_type": "stream",
          "text": [
            " 22%|██▏       | 65/300 [01:43<06:27,  1.65s/it]"
          ]
        },
        {
          "name": "stdout",
          "output_type": "stream",
          "text": [
            "Epoch 65: Loss=0.9620, Acc=66.05%\n"
          ]
        },
        {
          "name": "stderr",
          "output_type": "stream",
          "text": [
            " 22%|██▏       | 66/300 [01:45<06:22,  1.63s/it]"
          ]
        },
        {
          "name": "stdout",
          "output_type": "stream",
          "text": [
            "Epoch 66: Loss=0.9473, Acc=71.46%\n"
          ]
        },
        {
          "name": "stderr",
          "output_type": "stream",
          "text": [
            " 22%|██▏       | 67/300 [01:46<06:22,  1.64s/it]"
          ]
        },
        {
          "name": "stdout",
          "output_type": "stream",
          "text": [
            "Epoch 67: Loss=0.9410, Acc=67.56%\n"
          ]
        },
        {
          "name": "stderr",
          "output_type": "stream",
          "text": [
            " 23%|██▎       | 68/300 [01:48<06:33,  1.70s/it]"
          ]
        },
        {
          "name": "stdout",
          "output_type": "stream",
          "text": [
            "Epoch 68: Loss=0.9309, Acc=41.41%\n"
          ]
        },
        {
          "name": "stderr",
          "output_type": "stream",
          "text": [
            " 23%|██▎       | 69/300 [01:50<06:47,  1.76s/it]"
          ]
        },
        {
          "name": "stdout",
          "output_type": "stream",
          "text": [
            "Epoch 69: Loss=0.9377, Acc=66.29%\n"
          ]
        },
        {
          "name": "stderr",
          "output_type": "stream",
          "text": [
            " 23%|██▎       | 70/300 [01:52<06:50,  1.78s/it]"
          ]
        },
        {
          "name": "stdout",
          "output_type": "stream",
          "text": [
            "Epoch 70: Loss=0.9154, Acc=55.17%\n"
          ]
        },
        {
          "name": "stderr",
          "output_type": "stream",
          "text": [
            " 24%|██▎       | 71/300 [01:54<06:52,  1.80s/it]"
          ]
        },
        {
          "name": "stdout",
          "output_type": "stream",
          "text": [
            "Epoch 71: Loss=0.9211, Acc=65.22%\n"
          ]
        },
        {
          "name": "stderr",
          "output_type": "stream",
          "text": [
            " 24%|██▍       | 72/300 [01:56<06:56,  1.83s/it]"
          ]
        },
        {
          "name": "stdout",
          "output_type": "stream",
          "text": [
            "Epoch 72: Loss=0.9085, Acc=60.29%\n"
          ]
        },
        {
          "name": "stderr",
          "output_type": "stream",
          "text": [
            " 24%|██▍       | 73/300 [01:57<06:59,  1.85s/it]"
          ]
        },
        {
          "name": "stdout",
          "output_type": "stream",
          "text": [
            "Epoch 73: Loss=0.9079, Acc=68.29%\n"
          ]
        },
        {
          "name": "stderr",
          "output_type": "stream",
          "text": [
            " 25%|██▍       | 74/300 [01:59<07:07,  1.89s/it]"
          ]
        },
        {
          "name": "stdout",
          "output_type": "stream",
          "text": [
            "Epoch 74: Loss=0.9065, Acc=53.46%\n"
          ]
        },
        {
          "name": "stderr",
          "output_type": "stream",
          "text": [
            " 25%|██▌       | 75/300 [02:01<07:05,  1.89s/it]"
          ]
        },
        {
          "name": "stdout",
          "output_type": "stream",
          "text": [
            "Epoch 75: Loss=0.9046, Acc=62.20%\n"
          ]
        },
        {
          "name": "stderr",
          "output_type": "stream",
          "text": [
            " 25%|██▌       | 76/300 [02:03<07:03,  1.89s/it]"
          ]
        },
        {
          "name": "stdout",
          "output_type": "stream",
          "text": [
            "Epoch 76: Loss=0.8915, Acc=78.73%\n"
          ]
        },
        {
          "name": "stderr",
          "output_type": "stream",
          "text": [
            " 26%|██▌       | 77/300 [02:05<06:45,  1.82s/it]"
          ]
        },
        {
          "name": "stdout",
          "output_type": "stream",
          "text": [
            "Epoch 77: Loss=0.8828, Acc=78.05%\n"
          ]
        },
        {
          "name": "stderr",
          "output_type": "stream",
          "text": [
            " 26%|██▌       | 78/300 [02:06<06:25,  1.74s/it]"
          ]
        },
        {
          "name": "stdout",
          "output_type": "stream",
          "text": [
            "Epoch 78: Loss=0.8806, Acc=62.34%\n"
          ]
        },
        {
          "name": "stderr",
          "output_type": "stream",
          "text": [
            " 26%|██▋       | 79/300 [02:08<06:07,  1.66s/it]"
          ]
        },
        {
          "name": "stdout",
          "output_type": "stream",
          "text": [
            "Epoch 79: Loss=0.8792, Acc=54.54%\n"
          ]
        },
        {
          "name": "stderr",
          "output_type": "stream",
          "text": [
            " 27%|██▋       | 80/300 [02:09<06:01,  1.64s/it]"
          ]
        },
        {
          "name": "stdout",
          "output_type": "stream",
          "text": [
            "Epoch 80: Loss=0.8631, Acc=62.73%\n"
          ]
        },
        {
          "name": "stderr",
          "output_type": "stream",
          "text": [
            " 27%|██▋       | 81/300 [02:11<05:51,  1.61s/it]"
          ]
        },
        {
          "name": "stdout",
          "output_type": "stream",
          "text": [
            "Epoch 81: Loss=0.8590, Acc=57.71%\n"
          ]
        },
        {
          "name": "stderr",
          "output_type": "stream",
          "text": [
            " 27%|██▋       | 82/300 [02:13<05:50,  1.61s/it]"
          ]
        },
        {
          "name": "stdout",
          "output_type": "stream",
          "text": [
            "Epoch 82: Loss=0.8704, Acc=68.29%\n"
          ]
        },
        {
          "name": "stderr",
          "output_type": "stream",
          "text": [
            " 28%|██▊       | 83/300 [02:14<05:45,  1.59s/it]"
          ]
        },
        {
          "name": "stdout",
          "output_type": "stream",
          "text": [
            "Epoch 83: Loss=0.8601, Acc=79.02%\n"
          ]
        },
        {
          "name": "stderr",
          "output_type": "stream",
          "text": [
            " 28%|██▊       | 84/300 [02:16<05:46,  1.60s/it]"
          ]
        },
        {
          "name": "stdout",
          "output_type": "stream",
          "text": [
            "Epoch 84: Loss=0.8609, Acc=67.41%\n"
          ]
        },
        {
          "name": "stderr",
          "output_type": "stream",
          "text": [
            " 28%|██▊       | 85/300 [02:17<05:42,  1.59s/it]"
          ]
        },
        {
          "name": "stdout",
          "output_type": "stream",
          "text": [
            "Epoch 85: Loss=0.8492, Acc=68.44%\n"
          ]
        },
        {
          "name": "stderr",
          "output_type": "stream",
          "text": [
            " 29%|██▊       | 86/300 [02:19<05:42,  1.60s/it]"
          ]
        },
        {
          "name": "stdout",
          "output_type": "stream",
          "text": [
            "Epoch 86: Loss=0.8486, Acc=70.54%\n"
          ]
        },
        {
          "name": "stderr",
          "output_type": "stream",
          "text": [
            " 29%|██▉       | 87/300 [02:21<05:41,  1.60s/it]"
          ]
        },
        {
          "name": "stdout",
          "output_type": "stream",
          "text": [
            "Epoch 87: Loss=0.8472, Acc=64.98%\n"
          ]
        },
        {
          "name": "stderr",
          "output_type": "stream",
          "text": [
            " 29%|██▉       | 88/300 [02:22<05:35,  1.58s/it]"
          ]
        },
        {
          "name": "stdout",
          "output_type": "stream",
          "text": [
            "Epoch 88: Loss=0.8391, Acc=66.59%\n"
          ]
        },
        {
          "name": "stderr",
          "output_type": "stream",
          "text": [
            " 30%|██▉       | 89/300 [02:24<05:34,  1.59s/it]"
          ]
        },
        {
          "name": "stdout",
          "output_type": "stream",
          "text": [
            "Epoch 89: Loss=0.8472, Acc=70.39%\n"
          ]
        },
        {
          "name": "stderr",
          "output_type": "stream",
          "text": [
            " 30%|███       | 90/300 [02:25<05:41,  1.63s/it]"
          ]
        },
        {
          "name": "stdout",
          "output_type": "stream",
          "text": [
            "Epoch 90: Loss=0.8394, Acc=68.93%\n"
          ]
        },
        {
          "name": "stderr",
          "output_type": "stream",
          "text": [
            " 30%|███       | 91/300 [02:27<05:34,  1.60s/it]"
          ]
        },
        {
          "name": "stdout",
          "output_type": "stream",
          "text": [
            "Epoch 91: Loss=0.8470, Acc=66.93%\n"
          ]
        },
        {
          "name": "stderr",
          "output_type": "stream",
          "text": [
            " 31%|███       | 92/300 [02:29<05:34,  1.61s/it]"
          ]
        },
        {
          "name": "stdout",
          "output_type": "stream",
          "text": [
            "Epoch 92: Loss=0.8420, Acc=69.66%\n"
          ]
        },
        {
          "name": "stderr",
          "output_type": "stream",
          "text": [
            " 31%|███       | 93/300 [02:30<05:34,  1.61s/it]"
          ]
        },
        {
          "name": "stdout",
          "output_type": "stream",
          "text": [
            "Epoch 93: Loss=0.8410, Acc=70.83%\n"
          ]
        },
        {
          "name": "stderr",
          "output_type": "stream",
          "text": [
            " 31%|███▏      | 94/300 [02:32<05:34,  1.63s/it]"
          ]
        },
        {
          "name": "stdout",
          "output_type": "stream",
          "text": [
            "Epoch 94: Loss=0.8436, Acc=72.10%\n"
          ]
        },
        {
          "name": "stderr",
          "output_type": "stream",
          "text": [
            " 32%|███▏      | 95/300 [02:33<05:24,  1.58s/it]"
          ]
        },
        {
          "name": "stdout",
          "output_type": "stream",
          "text": [
            "Epoch 95: Loss=0.8366, Acc=68.34%\n"
          ]
        },
        {
          "name": "stderr",
          "output_type": "stream",
          "text": [
            " 32%|███▏      | 96/300 [02:35<05:17,  1.55s/it]"
          ]
        },
        {
          "name": "stdout",
          "output_type": "stream",
          "text": [
            "Epoch 96: Loss=0.8472, Acc=66.39%\n"
          ]
        },
        {
          "name": "stderr",
          "output_type": "stream",
          "text": [
            " 32%|███▏      | 97/300 [02:36<05:20,  1.58s/it]"
          ]
        },
        {
          "name": "stdout",
          "output_type": "stream",
          "text": [
            "Epoch 97: Loss=0.8440, Acc=62.20%\n"
          ]
        },
        {
          "name": "stderr",
          "output_type": "stream",
          "text": [
            " 33%|███▎      | 98/300 [02:38<05:18,  1.58s/it]"
          ]
        },
        {
          "name": "stdout",
          "output_type": "stream",
          "text": [
            "Epoch 98: Loss=0.8454, Acc=71.12%\n"
          ]
        },
        {
          "name": "stderr",
          "output_type": "stream",
          "text": [
            " 33%|███▎      | 99/300 [02:40<05:16,  1.57s/it]"
          ]
        },
        {
          "name": "stdout",
          "output_type": "stream",
          "text": [
            "Epoch 99: Loss=0.8457, Acc=72.68%\n"
          ]
        },
        {
          "name": "stderr",
          "output_type": "stream",
          "text": [
            " 33%|███▎      | 100/300 [02:41<05:17,  1.59s/it]"
          ]
        },
        {
          "name": "stdout",
          "output_type": "stream",
          "text": [
            "Epoch 100: Loss=0.8601, Acc=63.71%\n"
          ]
        },
        {
          "name": "stderr",
          "output_type": "stream",
          "text": [
            " 34%|███▎      | 101/300 [02:43<05:14,  1.58s/it]"
          ]
        },
        {
          "name": "stdout",
          "output_type": "stream",
          "text": [
            "Epoch 101: Loss=0.8532, Acc=52.20%\n"
          ]
        },
        {
          "name": "stderr",
          "output_type": "stream",
          "text": [
            " 34%|███▍      | 102/300 [02:44<05:15,  1.59s/it]"
          ]
        },
        {
          "name": "stdout",
          "output_type": "stream",
          "text": [
            "Epoch 102: Loss=0.8509, Acc=50.20%\n"
          ]
        },
        {
          "name": "stderr",
          "output_type": "stream",
          "text": [
            " 34%|███▍      | 103/300 [02:46<05:14,  1.60s/it]"
          ]
        },
        {
          "name": "stdout",
          "output_type": "stream",
          "text": [
            "Epoch 103: Loss=0.8565, Acc=54.05%\n"
          ]
        },
        {
          "name": "stderr",
          "output_type": "stream",
          "text": [
            " 35%|███▍      | 104/300 [02:48<05:12,  1.59s/it]"
          ]
        },
        {
          "name": "stdout",
          "output_type": "stream",
          "text": [
            "Epoch 104: Loss=0.8591, Acc=69.37%\n"
          ]
        },
        {
          "name": "stderr",
          "output_type": "stream",
          "text": [
            " 35%|███▌      | 105/300 [02:49<05:09,  1.59s/it]"
          ]
        },
        {
          "name": "stdout",
          "output_type": "stream",
          "text": [
            "Epoch 105: Loss=0.8647, Acc=57.51%\n"
          ]
        },
        {
          "name": "stderr",
          "output_type": "stream",
          "text": [
            " 35%|███▌      | 106/300 [02:51<05:08,  1.59s/it]"
          ]
        },
        {
          "name": "stdout",
          "output_type": "stream",
          "text": [
            "Epoch 106: Loss=0.8704, Acc=68.93%\n"
          ]
        },
        {
          "name": "stderr",
          "output_type": "stream",
          "text": [
            " 36%|███▌      | 107/300 [02:52<05:10,  1.61s/it]"
          ]
        },
        {
          "name": "stdout",
          "output_type": "stream",
          "text": [
            "Epoch 107: Loss=0.8572, Acc=70.63%\n"
          ]
        },
        {
          "name": "stderr",
          "output_type": "stream",
          "text": [
            " 36%|███▌      | 108/300 [02:54<05:15,  1.64s/it]"
          ]
        },
        {
          "name": "stdout",
          "output_type": "stream",
          "text": [
            "Epoch 108: Loss=0.8686, Acc=69.56%\n"
          ]
        },
        {
          "name": "stderr",
          "output_type": "stream",
          "text": [
            " 36%|███▋      | 109/300 [02:56<05:46,  1.81s/it]"
          ]
        },
        {
          "name": "stdout",
          "output_type": "stream",
          "text": [
            "Epoch 109: Loss=0.8811, Acc=70.34%\n"
          ]
        },
        {
          "name": "stderr",
          "output_type": "stream",
          "text": [
            " 37%|███▋      | 110/300 [02:58<05:45,  1.82s/it]"
          ]
        },
        {
          "name": "stdout",
          "output_type": "stream",
          "text": [
            "Epoch 110: Loss=0.8948, Acc=77.41%\n"
          ]
        },
        {
          "name": "stderr",
          "output_type": "stream",
          "text": [
            " 37%|███▋      | 111/300 [03:01<06:19,  2.01s/it]"
          ]
        },
        {
          "name": "stdout",
          "output_type": "stream",
          "text": [
            "Epoch 111: Loss=0.8772, Acc=69.51%\n"
          ]
        },
        {
          "name": "stderr",
          "output_type": "stream",
          "text": [
            " 37%|███▋      | 112/300 [03:03<06:19,  2.02s/it]"
          ]
        },
        {
          "name": "stdout",
          "output_type": "stream",
          "text": [
            "Epoch 112: Loss=0.8728, Acc=58.78%\n"
          ]
        },
        {
          "name": "stderr",
          "output_type": "stream",
          "text": [
            " 38%|███▊      | 113/300 [03:05<06:11,  1.98s/it]"
          ]
        },
        {
          "name": "stdout",
          "output_type": "stream",
          "text": [
            "Epoch 113: Loss=0.9044, Acc=71.76%\n"
          ]
        },
        {
          "name": "stderr",
          "output_type": "stream",
          "text": [
            " 38%|███▊      | 114/300 [03:07<06:16,  2.02s/it]"
          ]
        },
        {
          "name": "stdout",
          "output_type": "stream",
          "text": [
            "Epoch 114: Loss=0.8867, Acc=71.76%\n"
          ]
        },
        {
          "name": "stderr",
          "output_type": "stream",
          "text": [
            " 38%|███▊      | 115/300 [03:09<06:09,  2.00s/it]"
          ]
        },
        {
          "name": "stdout",
          "output_type": "stream",
          "text": [
            "Epoch 115: Loss=0.8893, Acc=81.56%\n"
          ]
        },
        {
          "name": "stderr",
          "output_type": "stream",
          "text": [
            " 39%|███▊      | 116/300 [03:10<05:57,  1.94s/it]"
          ]
        },
        {
          "name": "stdout",
          "output_type": "stream",
          "text": [
            "Epoch 116: Loss=0.8986, Acc=54.73%\n"
          ]
        },
        {
          "name": "stderr",
          "output_type": "stream",
          "text": [
            " 39%|███▉      | 117/300 [03:12<05:59,  1.96s/it]"
          ]
        },
        {
          "name": "stdout",
          "output_type": "stream",
          "text": [
            "Epoch 117: Loss=0.8914, Acc=59.02%\n"
          ]
        },
        {
          "name": "stderr",
          "output_type": "stream",
          "text": [
            " 39%|███▉      | 118/300 [03:14<05:53,  1.94s/it]"
          ]
        },
        {
          "name": "stdout",
          "output_type": "stream",
          "text": [
            "Epoch 118: Loss=0.9005, Acc=78.88%\n"
          ]
        },
        {
          "name": "stderr",
          "output_type": "stream",
          "text": [
            " 40%|███▉      | 119/300 [03:16<05:46,  1.92s/it]"
          ]
        },
        {
          "name": "stdout",
          "output_type": "stream",
          "text": [
            "Epoch 119: Loss=0.8791, Acc=65.85%\n"
          ]
        },
        {
          "name": "stderr",
          "output_type": "stream",
          "text": [
            " 40%|████      | 120/300 [03:18<05:44,  1.92s/it]"
          ]
        },
        {
          "name": "stdout",
          "output_type": "stream",
          "text": [
            "Epoch 120: Loss=0.8856, Acc=63.27%\n"
          ]
        },
        {
          "name": "stderr",
          "output_type": "stream",
          "text": [
            " 40%|████      | 121/300 [03:20<05:46,  1.94s/it]"
          ]
        },
        {
          "name": "stdout",
          "output_type": "stream",
          "text": [
            "Epoch 121: Loss=0.8734, Acc=47.37%\n"
          ]
        },
        {
          "name": "stderr",
          "output_type": "stream",
          "text": [
            " 41%|████      | 122/300 [03:22<05:44,  1.94s/it]"
          ]
        },
        {
          "name": "stdout",
          "output_type": "stream",
          "text": [
            "Epoch 122: Loss=0.8701, Acc=71.56%\n"
          ]
        },
        {
          "name": "stderr",
          "output_type": "stream",
          "text": [
            " 41%|████      | 123/300 [03:24<05:37,  1.91s/it]"
          ]
        },
        {
          "name": "stdout",
          "output_type": "stream",
          "text": [
            "Epoch 123: Loss=0.8784, Acc=68.10%\n"
          ]
        },
        {
          "name": "stderr",
          "output_type": "stream",
          "text": [
            " 41%|████▏     | 124/300 [03:26<05:36,  1.91s/it]"
          ]
        },
        {
          "name": "stdout",
          "output_type": "stream",
          "text": [
            "Epoch 124: Loss=0.8912, Acc=46.34%\n"
          ]
        },
        {
          "name": "stderr",
          "output_type": "stream",
          "text": [
            " 42%|████▏     | 125/300 [03:28<05:34,  1.91s/it]"
          ]
        },
        {
          "name": "stdout",
          "output_type": "stream",
          "text": [
            "Epoch 125: Loss=0.8978, Acc=67.12%\n"
          ]
        },
        {
          "name": "stderr",
          "output_type": "stream",
          "text": [
            " 42%|████▏     | 126/300 [03:30<05:32,  1.91s/it]"
          ]
        },
        {
          "name": "stdout",
          "output_type": "stream",
          "text": [
            "Epoch 126: Loss=0.8743, Acc=74.73%\n"
          ]
        },
        {
          "name": "stderr",
          "output_type": "stream",
          "text": [
            " 42%|████▏     | 127/300 [03:32<05:28,  1.90s/it]"
          ]
        },
        {
          "name": "stdout",
          "output_type": "stream",
          "text": [
            "Epoch 127: Loss=0.8581, Acc=54.10%\n"
          ]
        },
        {
          "name": "stderr",
          "output_type": "stream",
          "text": [
            " 43%|████▎     | 128/300 [03:33<05:24,  1.89s/it]"
          ]
        },
        {
          "name": "stdout",
          "output_type": "stream",
          "text": [
            "Epoch 128: Loss=0.8710, Acc=72.34%\n"
          ]
        },
        {
          "name": "stderr",
          "output_type": "stream",
          "text": [
            " 43%|████▎     | 129/300 [03:35<05:25,  1.90s/it]"
          ]
        },
        {
          "name": "stdout",
          "output_type": "stream",
          "text": [
            "Epoch 129: Loss=0.8679, Acc=50.29%\n"
          ]
        },
        {
          "name": "stderr",
          "output_type": "stream",
          "text": [
            " 43%|████▎     | 130/300 [03:37<05:23,  1.91s/it]"
          ]
        },
        {
          "name": "stdout",
          "output_type": "stream",
          "text": [
            "Epoch 130: Loss=0.8533, Acc=65.56%\n"
          ]
        },
        {
          "name": "stderr",
          "output_type": "stream",
          "text": [
            " 44%|████▎     | 131/300 [03:39<05:22,  1.91s/it]"
          ]
        },
        {
          "name": "stdout",
          "output_type": "stream",
          "text": [
            "Epoch 131: Loss=0.8518, Acc=69.61%\n"
          ]
        },
        {
          "name": "stderr",
          "output_type": "stream",
          "text": [
            " 44%|████▍     | 132/300 [03:41<05:19,  1.90s/it]"
          ]
        },
        {
          "name": "stdout",
          "output_type": "stream",
          "text": [
            "Epoch 132: Loss=0.8478, Acc=63.17%\n"
          ]
        },
        {
          "name": "stderr",
          "output_type": "stream",
          "text": [
            " 44%|████▍     | 133/300 [03:43<05:15,  1.89s/it]"
          ]
        },
        {
          "name": "stdout",
          "output_type": "stream",
          "text": [
            "Epoch 133: Loss=0.8439, Acc=69.76%\n"
          ]
        },
        {
          "name": "stderr",
          "output_type": "stream",
          "text": [
            " 45%|████▍     | 134/300 [03:45<05:17,  1.91s/it]"
          ]
        },
        {
          "name": "stdout",
          "output_type": "stream",
          "text": [
            "Epoch 134: Loss=0.8359, Acc=72.63%\n"
          ]
        },
        {
          "name": "stderr",
          "output_type": "stream",
          "text": [
            " 45%|████▌     | 135/300 [03:47<05:15,  1.91s/it]"
          ]
        },
        {
          "name": "stdout",
          "output_type": "stream",
          "text": [
            "Epoch 135: Loss=0.8461, Acc=67.71%\n"
          ]
        },
        {
          "name": "stderr",
          "output_type": "stream",
          "text": [
            " 45%|████▌     | 136/300 [03:49<05:11,  1.90s/it]"
          ]
        },
        {
          "name": "stdout",
          "output_type": "stream",
          "text": [
            "Epoch 136: Loss=0.8402, Acc=77.27%\n"
          ]
        },
        {
          "name": "stderr",
          "output_type": "stream",
          "text": [
            " 46%|████▌     | 137/300 [03:50<05:07,  1.89s/it]"
          ]
        },
        {
          "name": "stdout",
          "output_type": "stream",
          "text": [
            "Epoch 137: Loss=0.8268, Acc=64.59%\n"
          ]
        },
        {
          "name": "stderr",
          "output_type": "stream",
          "text": [
            " 46%|████▌     | 138/300 [03:52<05:04,  1.88s/it]"
          ]
        },
        {
          "name": "stdout",
          "output_type": "stream",
          "text": [
            "Epoch 138: Loss=0.8246, Acc=64.39%\n"
          ]
        },
        {
          "name": "stderr",
          "output_type": "stream",
          "text": [
            " 46%|████▋     | 139/300 [03:54<05:02,  1.88s/it]"
          ]
        },
        {
          "name": "stdout",
          "output_type": "stream",
          "text": [
            "Epoch 139: Loss=0.8264, Acc=68.49%\n"
          ]
        },
        {
          "name": "stderr",
          "output_type": "stream",
          "text": [
            " 47%|████▋     | 140/300 [03:56<05:01,  1.88s/it]"
          ]
        },
        {
          "name": "stdout",
          "output_type": "stream",
          "text": [
            "Epoch 140: Loss=0.8209, Acc=70.93%\n"
          ]
        },
        {
          "name": "stderr",
          "output_type": "stream",
          "text": [
            " 47%|████▋     | 141/300 [03:58<05:02,  1.90s/it]"
          ]
        },
        {
          "name": "stdout",
          "output_type": "stream",
          "text": [
            "Epoch 141: Loss=0.8182, Acc=74.73%\n"
          ]
        },
        {
          "name": "stderr",
          "output_type": "stream",
          "text": [
            " 47%|████▋     | 142/300 [04:00<04:59,  1.89s/it]"
          ]
        },
        {
          "name": "stdout",
          "output_type": "stream",
          "text": [
            "Epoch 142: Loss=0.8063, Acc=69.27%\n"
          ]
        },
        {
          "name": "stderr",
          "output_type": "stream",
          "text": [
            " 48%|████▊     | 143/300 [04:02<04:57,  1.89s/it]"
          ]
        },
        {
          "name": "stdout",
          "output_type": "stream",
          "text": [
            "Epoch 143: Loss=0.8086, Acc=73.07%\n"
          ]
        },
        {
          "name": "stderr",
          "output_type": "stream",
          "text": [
            " 48%|████▊     | 144/300 [04:04<04:53,  1.88s/it]"
          ]
        },
        {
          "name": "stdout",
          "output_type": "stream",
          "text": [
            "Epoch 144: Loss=0.8062, Acc=79.12%\n"
          ]
        },
        {
          "name": "stderr",
          "output_type": "stream",
          "text": [
            " 48%|████▊     | 145/300 [04:06<04:52,  1.89s/it]"
          ]
        },
        {
          "name": "stdout",
          "output_type": "stream",
          "text": [
            "Epoch 145: Loss=0.7988, Acc=75.07%\n"
          ]
        },
        {
          "name": "stderr",
          "output_type": "stream",
          "text": [
            " 49%|████▊     | 146/300 [04:08<04:56,  1.92s/it]"
          ]
        },
        {
          "name": "stdout",
          "output_type": "stream",
          "text": [
            "Epoch 146: Loss=0.7982, Acc=73.51%\n"
          ]
        },
        {
          "name": "stderr",
          "output_type": "stream",
          "text": [
            " 49%|████▉     | 147/300 [04:10<04:57,  1.95s/it]"
          ]
        },
        {
          "name": "stdout",
          "output_type": "stream",
          "text": [
            "Epoch 147: Loss=0.7999, Acc=71.90%\n"
          ]
        },
        {
          "name": "stderr",
          "output_type": "stream",
          "text": [
            " 49%|████▉     | 148/300 [04:12<04:54,  1.94s/it]"
          ]
        },
        {
          "name": "stdout",
          "output_type": "stream",
          "text": [
            "Epoch 148: Loss=0.7931, Acc=67.85%\n"
          ]
        },
        {
          "name": "stderr",
          "output_type": "stream",
          "text": [
            " 50%|████▉     | 149/300 [04:13<04:54,  1.95s/it]"
          ]
        },
        {
          "name": "stdout",
          "output_type": "stream",
          "text": [
            "Epoch 149: Loss=0.7876, Acc=71.90%\n"
          ]
        },
        {
          "name": "stderr",
          "output_type": "stream",
          "text": [
            " 50%|█████     | 150/300 [04:16<04:58,  1.99s/it]"
          ]
        },
        {
          "name": "stdout",
          "output_type": "stream",
          "text": [
            "Epoch 150: Loss=0.7855, Acc=69.95%\n"
          ]
        },
        {
          "name": "stderr",
          "output_type": "stream",
          "text": [
            " 50%|█████     | 151/300 [04:18<04:55,  1.98s/it]"
          ]
        },
        {
          "name": "stdout",
          "output_type": "stream",
          "text": [
            "Epoch 151: Loss=0.7877, Acc=73.66%\n"
          ]
        },
        {
          "name": "stderr",
          "output_type": "stream",
          "text": [
            " 51%|█████     | 152/300 [04:19<04:50,  1.96s/it]"
          ]
        },
        {
          "name": "stdout",
          "output_type": "stream",
          "text": [
            "Epoch 152: Loss=0.8057, Acc=70.00%\n"
          ]
        },
        {
          "name": "stderr",
          "output_type": "stream",
          "text": [
            " 51%|█████     | 153/300 [04:21<04:46,  1.95s/it]"
          ]
        },
        {
          "name": "stdout",
          "output_type": "stream",
          "text": [
            "Epoch 153: Loss=0.7933, Acc=73.17%\n"
          ]
        },
        {
          "name": "stderr",
          "output_type": "stream",
          "text": [
            " 51%|█████▏    | 154/300 [04:23<04:44,  1.95s/it]"
          ]
        },
        {
          "name": "stdout",
          "output_type": "stream",
          "text": [
            "Epoch 154: Loss=0.7985, Acc=70.83%\n"
          ]
        },
        {
          "name": "stderr",
          "output_type": "stream",
          "text": [
            " 52%|█████▏    | 155/300 [04:25<04:42,  1.95s/it]"
          ]
        },
        {
          "name": "stdout",
          "output_type": "stream",
          "text": [
            "Epoch 155: Loss=0.7892, Acc=69.85%\n"
          ]
        },
        {
          "name": "stderr",
          "output_type": "stream",
          "text": [
            " 52%|█████▏    | 156/300 [04:27<04:48,  2.00s/it]"
          ]
        },
        {
          "name": "stdout",
          "output_type": "stream",
          "text": [
            "Epoch 156: Loss=0.7987, Acc=72.68%\n"
          ]
        },
        {
          "name": "stderr",
          "output_type": "stream",
          "text": [
            " 52%|█████▏    | 157/300 [04:29<04:48,  2.02s/it]"
          ]
        },
        {
          "name": "stdout",
          "output_type": "stream",
          "text": [
            "Epoch 157: Loss=0.7979, Acc=68.63%\n"
          ]
        },
        {
          "name": "stderr",
          "output_type": "stream",
          "text": [
            " 53%|█████▎    | 158/300 [04:31<04:39,  1.97s/it]"
          ]
        },
        {
          "name": "stdout",
          "output_type": "stream",
          "text": [
            "Epoch 158: Loss=0.7958, Acc=67.95%\n"
          ]
        },
        {
          "name": "stderr",
          "output_type": "stream",
          "text": [
            " 53%|█████▎    | 159/300 [04:33<04:27,  1.90s/it]"
          ]
        },
        {
          "name": "stdout",
          "output_type": "stream",
          "text": [
            "Epoch 159: Loss=0.8009, Acc=60.83%\n"
          ]
        },
        {
          "name": "stderr",
          "output_type": "stream",
          "text": [
            " 53%|█████▎    | 160/300 [04:35<04:11,  1.79s/it]"
          ]
        },
        {
          "name": "stdout",
          "output_type": "stream",
          "text": [
            "Epoch 160: Loss=0.8127, Acc=72.15%\n"
          ]
        },
        {
          "name": "stderr",
          "output_type": "stream",
          "text": [
            " 54%|█████▎    | 161/300 [04:36<04:02,  1.75s/it]"
          ]
        },
        {
          "name": "stdout",
          "output_type": "stream",
          "text": [
            "Epoch 161: Loss=0.8056, Acc=70.68%\n"
          ]
        },
        {
          "name": "stderr",
          "output_type": "stream",
          "text": [
            " 54%|█████▍    | 162/300 [04:38<03:56,  1.71s/it]"
          ]
        },
        {
          "name": "stdout",
          "output_type": "stream",
          "text": [
            "Epoch 162: Loss=0.8187, Acc=63.32%\n"
          ]
        },
        {
          "name": "stderr",
          "output_type": "stream",
          "text": [
            " 54%|█████▍    | 163/300 [04:39<03:49,  1.68s/it]"
          ]
        },
        {
          "name": "stdout",
          "output_type": "stream",
          "text": [
            "Epoch 163: Loss=0.8068, Acc=79.95%\n"
          ]
        },
        {
          "name": "stderr",
          "output_type": "stream",
          "text": [
            " 55%|█████▍    | 164/300 [04:41<03:44,  1.65s/it]"
          ]
        },
        {
          "name": "stdout",
          "output_type": "stream",
          "text": [
            "Epoch 164: Loss=0.8087, Acc=80.10%\n"
          ]
        },
        {
          "name": "stderr",
          "output_type": "stream",
          "text": [
            " 55%|█████▌    | 165/300 [04:43<03:43,  1.66s/it]"
          ]
        },
        {
          "name": "stdout",
          "output_type": "stream",
          "text": [
            "Epoch 165: Loss=0.8223, Acc=68.00%\n"
          ]
        },
        {
          "name": "stderr",
          "output_type": "stream",
          "text": [
            " 55%|█████▌    | 166/300 [04:44<03:43,  1.67s/it]"
          ]
        },
        {
          "name": "stdout",
          "output_type": "stream",
          "text": [
            "Epoch 166: Loss=0.8222, Acc=60.78%\n"
          ]
        },
        {
          "name": "stderr",
          "output_type": "stream",
          "text": [
            " 56%|█████▌    | 167/300 [04:46<03:41,  1.67s/it]"
          ]
        },
        {
          "name": "stdout",
          "output_type": "stream",
          "text": [
            "Epoch 167: Loss=0.8263, Acc=76.73%\n"
          ]
        },
        {
          "name": "stderr",
          "output_type": "stream",
          "text": [
            " 56%|█████▌    | 168/300 [04:48<03:39,  1.66s/it]"
          ]
        },
        {
          "name": "stdout",
          "output_type": "stream",
          "text": [
            "Epoch 168: Loss=0.8192, Acc=55.95%\n"
          ]
        },
        {
          "name": "stderr",
          "output_type": "stream",
          "text": [
            " 56%|█████▋    | 169/300 [04:49<03:33,  1.63s/it]"
          ]
        },
        {
          "name": "stdout",
          "output_type": "stream",
          "text": [
            "Epoch 169: Loss=0.8376, Acc=76.88%\n"
          ]
        },
        {
          "name": "stderr",
          "output_type": "stream",
          "text": [
            " 57%|█████▋    | 170/300 [04:51<03:29,  1.61s/it]"
          ]
        },
        {
          "name": "stdout",
          "output_type": "stream",
          "text": [
            "Epoch 170: Loss=0.8380, Acc=54.49%\n"
          ]
        },
        {
          "name": "stderr",
          "output_type": "stream",
          "text": [
            " 57%|█████▋    | 171/300 [04:52<03:25,  1.59s/it]"
          ]
        },
        {
          "name": "stdout",
          "output_type": "stream",
          "text": [
            "Epoch 171: Loss=0.8541, Acc=70.78%\n"
          ]
        },
        {
          "name": "stderr",
          "output_type": "stream",
          "text": [
            " 57%|█████▋    | 172/300 [04:54<03:28,  1.63s/it]"
          ]
        },
        {
          "name": "stdout",
          "output_type": "stream",
          "text": [
            "Epoch 172: Loss=0.8553, Acc=73.56%\n"
          ]
        },
        {
          "name": "stderr",
          "output_type": "stream",
          "text": [
            " 58%|█████▊    | 173/300 [04:56<03:22,  1.59s/it]"
          ]
        },
        {
          "name": "stdout",
          "output_type": "stream",
          "text": [
            "Epoch 173: Loss=0.8442, Acc=54.98%\n"
          ]
        },
        {
          "name": "stderr",
          "output_type": "stream",
          "text": [
            " 58%|█████▊    | 174/300 [04:57<03:20,  1.59s/it]"
          ]
        },
        {
          "name": "stdout",
          "output_type": "stream",
          "text": [
            "Epoch 174: Loss=0.8438, Acc=74.63%\n"
          ]
        },
        {
          "name": "stderr",
          "output_type": "stream",
          "text": [
            " 58%|█████▊    | 175/300 [04:59<03:20,  1.60s/it]"
          ]
        },
        {
          "name": "stdout",
          "output_type": "stream",
          "text": [
            "Epoch 175: Loss=0.8512, Acc=77.17%\n"
          ]
        },
        {
          "name": "stderr",
          "output_type": "stream",
          "text": [
            " 59%|█████▊    | 176/300 [05:00<03:16,  1.59s/it]"
          ]
        },
        {
          "name": "stdout",
          "output_type": "stream",
          "text": [
            "Epoch 176: Loss=0.8442, Acc=62.49%\n"
          ]
        },
        {
          "name": "stderr",
          "output_type": "stream",
          "text": [
            " 59%|█████▉    | 177/300 [05:02<03:15,  1.59s/it]"
          ]
        },
        {
          "name": "stdout",
          "output_type": "stream",
          "text": [
            "Epoch 177: Loss=0.8455, Acc=67.76%\n"
          ]
        },
        {
          "name": "stderr",
          "output_type": "stream",
          "text": [
            " 59%|█████▉    | 178/300 [05:04<03:19,  1.64s/it]"
          ]
        },
        {
          "name": "stdout",
          "output_type": "stream",
          "text": [
            "Epoch 178: Loss=0.8697, Acc=67.12%\n"
          ]
        },
        {
          "name": "stderr",
          "output_type": "stream",
          "text": [
            " 60%|█████▉    | 179/300 [05:05<03:13,  1.60s/it]"
          ]
        },
        {
          "name": "stdout",
          "output_type": "stream",
          "text": [
            "Epoch 179: Loss=0.8637, Acc=43.76%\n"
          ]
        },
        {
          "name": "stderr",
          "output_type": "stream",
          "text": [
            " 60%|██████    | 180/300 [05:07<03:14,  1.62s/it]"
          ]
        },
        {
          "name": "stdout",
          "output_type": "stream",
          "text": [
            "Epoch 180: Loss=0.8568, Acc=63.12%\n"
          ]
        },
        {
          "name": "stderr",
          "output_type": "stream",
          "text": [
            " 60%|██████    | 181/300 [05:09<03:11,  1.61s/it]"
          ]
        },
        {
          "name": "stdout",
          "output_type": "stream",
          "text": [
            "Epoch 181: Loss=0.8561, Acc=70.39%\n"
          ]
        },
        {
          "name": "stderr",
          "output_type": "stream",
          "text": [
            " 61%|██████    | 182/300 [05:10<03:10,  1.62s/it]"
          ]
        },
        {
          "name": "stdout",
          "output_type": "stream",
          "text": [
            "Epoch 182: Loss=0.8596, Acc=66.15%\n"
          ]
        },
        {
          "name": "stderr",
          "output_type": "stream",
          "text": [
            " 61%|██████    | 183/300 [05:12<03:08,  1.61s/it]"
          ]
        },
        {
          "name": "stdout",
          "output_type": "stream",
          "text": [
            "Epoch 183: Loss=0.8632, Acc=64.93%\n"
          ]
        },
        {
          "name": "stderr",
          "output_type": "stream",
          "text": [
            " 61%|██████▏   | 184/300 [05:13<03:04,  1.59s/it]"
          ]
        },
        {
          "name": "stdout",
          "output_type": "stream",
          "text": [
            "Epoch 184: Loss=0.8518, Acc=69.61%\n"
          ]
        },
        {
          "name": "stderr",
          "output_type": "stream",
          "text": [
            " 62%|██████▏   | 185/300 [05:15<03:09,  1.65s/it]"
          ]
        },
        {
          "name": "stdout",
          "output_type": "stream",
          "text": [
            "Epoch 185: Loss=0.8460, Acc=69.61%\n"
          ]
        },
        {
          "name": "stderr",
          "output_type": "stream",
          "text": [
            " 62%|██████▏   | 186/300 [05:17<03:09,  1.66s/it]"
          ]
        },
        {
          "name": "stdout",
          "output_type": "stream",
          "text": [
            "Epoch 186: Loss=0.8436, Acc=67.66%\n"
          ]
        },
        {
          "name": "stderr",
          "output_type": "stream",
          "text": [
            " 62%|██████▏   | 187/300 [05:18<03:06,  1.65s/it]"
          ]
        },
        {
          "name": "stdout",
          "output_type": "stream",
          "text": [
            "Epoch 187: Loss=0.8438, Acc=65.76%\n"
          ]
        },
        {
          "name": "stderr",
          "output_type": "stream",
          "text": [
            " 63%|██████▎   | 188/300 [05:20<03:08,  1.68s/it]"
          ]
        },
        {
          "name": "stdout",
          "output_type": "stream",
          "text": [
            "Epoch 188: Loss=0.8407, Acc=75.41%\n"
          ]
        },
        {
          "name": "stderr",
          "output_type": "stream",
          "text": [
            " 63%|██████▎   | 189/300 [05:22<03:03,  1.65s/it]"
          ]
        },
        {
          "name": "stdout",
          "output_type": "stream",
          "text": [
            "Epoch 189: Loss=0.8299, Acc=60.83%\n"
          ]
        },
        {
          "name": "stderr",
          "output_type": "stream",
          "text": [
            " 63%|██████▎   | 190/300 [05:23<02:57,  1.61s/it]"
          ]
        },
        {
          "name": "stdout",
          "output_type": "stream",
          "text": [
            "Epoch 190: Loss=0.8225, Acc=74.29%\n"
          ]
        },
        {
          "name": "stderr",
          "output_type": "stream",
          "text": [
            " 64%|██████▎   | 191/300 [05:25<02:54,  1.60s/it]"
          ]
        },
        {
          "name": "stdout",
          "output_type": "stream",
          "text": [
            "Epoch 191: Loss=0.8376, Acc=70.49%\n"
          ]
        },
        {
          "name": "stderr",
          "output_type": "stream",
          "text": [
            " 64%|██████▍   | 192/300 [05:26<02:53,  1.61s/it]"
          ]
        },
        {
          "name": "stdout",
          "output_type": "stream",
          "text": [
            "Epoch 192: Loss=0.8325, Acc=72.73%\n"
          ]
        },
        {
          "name": "stderr",
          "output_type": "stream",
          "text": [
            " 64%|██████▍   | 193/300 [05:28<02:50,  1.60s/it]"
          ]
        },
        {
          "name": "stdout",
          "output_type": "stream",
          "text": [
            "Epoch 193: Loss=0.8149, Acc=72.24%\n"
          ]
        },
        {
          "name": "stderr",
          "output_type": "stream",
          "text": [
            " 65%|██████▍   | 194/300 [05:30<02:50,  1.61s/it]"
          ]
        },
        {
          "name": "stdout",
          "output_type": "stream",
          "text": [
            "Epoch 194: Loss=0.8188, Acc=77.80%\n"
          ]
        },
        {
          "name": "stderr",
          "output_type": "stream",
          "text": [
            " 65%|██████▌   | 195/300 [05:31<02:49,  1.61s/it]"
          ]
        },
        {
          "name": "stdout",
          "output_type": "stream",
          "text": [
            "Epoch 195: Loss=0.8106, Acc=85.76%\n"
          ]
        },
        {
          "name": "stderr",
          "output_type": "stream",
          "text": [
            " 65%|██████▌   | 196/300 [05:33<02:48,  1.62s/it]"
          ]
        },
        {
          "name": "stdout",
          "output_type": "stream",
          "text": [
            "Epoch 196: Loss=0.8059, Acc=72.98%\n"
          ]
        },
        {
          "name": "stderr",
          "output_type": "stream",
          "text": [
            " 66%|██████▌   | 197/300 [05:34<02:45,  1.61s/it]"
          ]
        },
        {
          "name": "stdout",
          "output_type": "stream",
          "text": [
            "Epoch 197: Loss=0.7970, Acc=81.51%\n"
          ]
        },
        {
          "name": "stderr",
          "output_type": "stream",
          "text": [
            " 66%|██████▌   | 198/300 [05:36<02:45,  1.62s/it]"
          ]
        },
        {
          "name": "stdout",
          "output_type": "stream",
          "text": [
            "Epoch 198: Loss=0.8017, Acc=65.07%\n"
          ]
        },
        {
          "name": "stderr",
          "output_type": "stream",
          "text": [
            " 66%|██████▋   | 199/300 [05:38<02:43,  1.62s/it]"
          ]
        },
        {
          "name": "stdout",
          "output_type": "stream",
          "text": [
            "Epoch 199: Loss=0.7957, Acc=77.66%\n"
          ]
        },
        {
          "name": "stderr",
          "output_type": "stream",
          "text": [
            " 67%|██████▋   | 200/300 [05:39<02:40,  1.60s/it]"
          ]
        },
        {
          "name": "stdout",
          "output_type": "stream",
          "text": [
            "Epoch 200: Loss=0.8023, Acc=66.44%\n"
          ]
        },
        {
          "name": "stderr",
          "output_type": "stream",
          "text": [
            " 67%|██████▋   | 201/300 [05:41<02:40,  1.62s/it]"
          ]
        },
        {
          "name": "stdout",
          "output_type": "stream",
          "text": [
            "Epoch 201: Loss=0.7929, Acc=75.90%\n"
          ]
        },
        {
          "name": "stderr",
          "output_type": "stream",
          "text": [
            " 67%|██████▋   | 202/300 [05:43<02:37,  1.61s/it]"
          ]
        },
        {
          "name": "stdout",
          "output_type": "stream",
          "text": [
            "Epoch 202: Loss=0.7808, Acc=67.27%\n"
          ]
        },
        {
          "name": "stderr",
          "output_type": "stream",
          "text": [
            " 68%|██████▊   | 203/300 [05:44<02:32,  1.58s/it]"
          ]
        },
        {
          "name": "stdout",
          "output_type": "stream",
          "text": [
            "Epoch 203: Loss=0.7780, Acc=70.73%\n"
          ]
        },
        {
          "name": "stderr",
          "output_type": "stream",
          "text": [
            " 68%|██████▊   | 204/300 [05:46<02:37,  1.65s/it]"
          ]
        },
        {
          "name": "stdout",
          "output_type": "stream",
          "text": [
            "Epoch 204: Loss=0.7725, Acc=69.95%\n"
          ]
        },
        {
          "name": "stderr",
          "output_type": "stream",
          "text": [
            " 68%|██████▊   | 205/300 [05:48<02:36,  1.65s/it]"
          ]
        },
        {
          "name": "stdout",
          "output_type": "stream",
          "text": [
            "Epoch 205: Loss=0.7788, Acc=77.71%\n"
          ]
        },
        {
          "name": "stderr",
          "output_type": "stream",
          "text": [
            " 69%|██████▊   | 206/300 [05:49<02:33,  1.63s/it]"
          ]
        },
        {
          "name": "stdout",
          "output_type": "stream",
          "text": [
            "Epoch 206: Loss=0.7736, Acc=73.32%\n"
          ]
        },
        {
          "name": "stderr",
          "output_type": "stream",
          "text": [
            " 69%|██████▉   | 207/300 [05:51<02:33,  1.65s/it]"
          ]
        },
        {
          "name": "stdout",
          "output_type": "stream",
          "text": [
            "Epoch 207: Loss=0.7754, Acc=71.71%\n"
          ]
        },
        {
          "name": "stderr",
          "output_type": "stream",
          "text": [
            " 69%|██████▉   | 208/300 [05:52<02:31,  1.64s/it]"
          ]
        },
        {
          "name": "stdout",
          "output_type": "stream",
          "text": [
            "Epoch 208: Loss=0.7763, Acc=72.05%\n"
          ]
        },
        {
          "name": "stderr",
          "output_type": "stream",
          "text": [
            " 70%|██████▉   | 209/300 [05:54<02:27,  1.62s/it]"
          ]
        },
        {
          "name": "stdout",
          "output_type": "stream",
          "text": [
            "Epoch 209: Loss=0.7707, Acc=74.73%\n"
          ]
        },
        {
          "name": "stderr",
          "output_type": "stream",
          "text": [
            " 70%|███████   | 210/300 [05:56<02:23,  1.60s/it]"
          ]
        },
        {
          "name": "stdout",
          "output_type": "stream",
          "text": [
            "Epoch 210: Loss=0.7771, Acc=72.83%\n"
          ]
        },
        {
          "name": "stderr",
          "output_type": "stream",
          "text": [
            " 70%|███████   | 211/300 [05:57<02:23,  1.62s/it]"
          ]
        },
        {
          "name": "stdout",
          "output_type": "stream",
          "text": [
            "Epoch 211: Loss=0.7762, Acc=72.15%\n"
          ]
        },
        {
          "name": "stderr",
          "output_type": "stream",
          "text": [
            " 71%|███████   | 212/300 [05:59<02:18,  1.57s/it]"
          ]
        },
        {
          "name": "stdout",
          "output_type": "stream",
          "text": [
            "Epoch 212: Loss=0.7756, Acc=74.20%\n"
          ]
        },
        {
          "name": "stderr",
          "output_type": "stream",
          "text": [
            " 71%|███████   | 213/300 [06:00<02:16,  1.56s/it]"
          ]
        },
        {
          "name": "stdout",
          "output_type": "stream",
          "text": [
            "Epoch 213: Loss=0.7770, Acc=72.93%\n"
          ]
        },
        {
          "name": "stderr",
          "output_type": "stream",
          "text": [
            " 71%|███████▏  | 214/300 [06:02<02:15,  1.58s/it]"
          ]
        },
        {
          "name": "stdout",
          "output_type": "stream",
          "text": [
            "Epoch 214: Loss=0.7684, Acc=69.80%\n"
          ]
        },
        {
          "name": "stderr",
          "output_type": "stream",
          "text": [
            " 72%|███████▏  | 215/300 [06:03<02:12,  1.56s/it]"
          ]
        },
        {
          "name": "stdout",
          "output_type": "stream",
          "text": [
            "Epoch 215: Loss=0.7719, Acc=72.39%\n"
          ]
        },
        {
          "name": "stderr",
          "output_type": "stream",
          "text": [
            " 72%|███████▏  | 216/300 [06:05<02:11,  1.57s/it]"
          ]
        },
        {
          "name": "stdout",
          "output_type": "stream",
          "text": [
            "Epoch 216: Loss=0.7669, Acc=71.56%\n"
          ]
        },
        {
          "name": "stderr",
          "output_type": "stream",
          "text": [
            " 72%|███████▏  | 217/300 [06:07<02:15,  1.63s/it]"
          ]
        },
        {
          "name": "stdout",
          "output_type": "stream",
          "text": [
            "Epoch 217: Loss=0.7758, Acc=71.46%\n"
          ]
        },
        {
          "name": "stderr",
          "output_type": "stream",
          "text": [
            " 73%|███████▎  | 218/300 [06:08<02:15,  1.65s/it]"
          ]
        },
        {
          "name": "stdout",
          "output_type": "stream",
          "text": [
            "Epoch 218: Loss=0.7683, Acc=67.66%\n"
          ]
        },
        {
          "name": "stderr",
          "output_type": "stream",
          "text": [
            " 73%|███████▎  | 219/300 [06:10<02:11,  1.63s/it]"
          ]
        },
        {
          "name": "stdout",
          "output_type": "stream",
          "text": [
            "Epoch 219: Loss=0.7787, Acc=65.90%\n"
          ]
        },
        {
          "name": "stderr",
          "output_type": "stream",
          "text": [
            " 73%|███████▎  | 220/300 [06:12<02:08,  1.61s/it]"
          ]
        },
        {
          "name": "stdout",
          "output_type": "stream",
          "text": [
            "Epoch 220: Loss=0.7768, Acc=72.88%\n"
          ]
        },
        {
          "name": "stderr",
          "output_type": "stream",
          "text": [
            " 74%|███████▎  | 221/300 [06:13<02:05,  1.59s/it]"
          ]
        },
        {
          "name": "stdout",
          "output_type": "stream",
          "text": [
            "Epoch 221: Loss=0.7717, Acc=75.17%\n"
          ]
        },
        {
          "name": "stderr",
          "output_type": "stream",
          "text": [
            " 74%|███████▍  | 222/300 [06:15<02:04,  1.60s/it]"
          ]
        },
        {
          "name": "stdout",
          "output_type": "stream",
          "text": [
            "Epoch 222: Loss=0.7841, Acc=73.12%\n"
          ]
        },
        {
          "name": "stderr",
          "output_type": "stream",
          "text": [
            " 74%|███████▍  | 223/300 [06:16<02:01,  1.58s/it]"
          ]
        },
        {
          "name": "stdout",
          "output_type": "stream",
          "text": [
            "Epoch 223: Loss=0.7952, Acc=65.51%\n"
          ]
        },
        {
          "name": "stderr",
          "output_type": "stream",
          "text": [
            " 75%|███████▍  | 224/300 [06:18<02:02,  1.61s/it]"
          ]
        },
        {
          "name": "stdout",
          "output_type": "stream",
          "text": [
            "Epoch 224: Loss=0.7922, Acc=78.20%\n"
          ]
        },
        {
          "name": "stderr",
          "output_type": "stream",
          "text": [
            " 75%|███████▌  | 225/300 [06:20<02:00,  1.61s/it]"
          ]
        },
        {
          "name": "stdout",
          "output_type": "stream",
          "text": [
            "Epoch 225: Loss=0.8022, Acc=80.73%\n"
          ]
        },
        {
          "name": "stderr",
          "output_type": "stream",
          "text": [
            " 75%|███████▌  | 226/300 [06:21<01:58,  1.61s/it]"
          ]
        },
        {
          "name": "stdout",
          "output_type": "stream",
          "text": [
            "Epoch 226: Loss=0.8065, Acc=70.63%\n"
          ]
        },
        {
          "name": "stderr",
          "output_type": "stream",
          "text": [
            " 76%|███████▌  | 227/300 [06:23<01:57,  1.61s/it]"
          ]
        },
        {
          "name": "stdout",
          "output_type": "stream",
          "text": [
            "Epoch 227: Loss=0.7951, Acc=65.32%\n"
          ]
        },
        {
          "name": "stderr",
          "output_type": "stream",
          "text": [
            " 76%|███████▌  | 228/300 [06:24<01:58,  1.64s/it]"
          ]
        },
        {
          "name": "stdout",
          "output_type": "stream",
          "text": [
            "Epoch 228: Loss=0.8005, Acc=63.71%\n"
          ]
        },
        {
          "name": "stderr",
          "output_type": "stream",
          "text": [
            " 76%|███████▋  | 229/300 [06:26<01:54,  1.61s/it]"
          ]
        },
        {
          "name": "stdout",
          "output_type": "stream",
          "text": [
            "Epoch 229: Loss=0.8065, Acc=67.27%\n"
          ]
        },
        {
          "name": "stderr",
          "output_type": "stream",
          "text": [
            " 77%|███████▋  | 230/300 [06:28<01:53,  1.62s/it]"
          ]
        },
        {
          "name": "stdout",
          "output_type": "stream",
          "text": [
            "Epoch 230: Loss=0.8136, Acc=72.83%\n"
          ]
        },
        {
          "name": "stderr",
          "output_type": "stream",
          "text": [
            " 77%|███████▋  | 231/300 [06:29<01:53,  1.64s/it]"
          ]
        },
        {
          "name": "stdout",
          "output_type": "stream",
          "text": [
            "Epoch 231: Loss=0.8186, Acc=61.17%\n"
          ]
        },
        {
          "name": "stderr",
          "output_type": "stream",
          "text": [
            " 77%|███████▋  | 232/300 [06:31<01:50,  1.63s/it]"
          ]
        },
        {
          "name": "stdout",
          "output_type": "stream",
          "text": [
            "Epoch 232: Loss=0.8354, Acc=70.59%\n"
          ]
        },
        {
          "name": "stderr",
          "output_type": "stream",
          "text": [
            " 78%|███████▊  | 233/300 [06:33<01:49,  1.63s/it]"
          ]
        },
        {
          "name": "stdout",
          "output_type": "stream",
          "text": [
            "Epoch 233: Loss=0.8217, Acc=70.78%\n"
          ]
        },
        {
          "name": "stderr",
          "output_type": "stream",
          "text": [
            " 78%|███████▊  | 234/300 [06:34<01:49,  1.66s/it]"
          ]
        },
        {
          "name": "stdout",
          "output_type": "stream",
          "text": [
            "Epoch 234: Loss=0.8319, Acc=64.73%\n"
          ]
        },
        {
          "name": "stderr",
          "output_type": "stream",
          "text": [
            " 78%|███████▊  | 235/300 [06:36<01:46,  1.64s/it]"
          ]
        },
        {
          "name": "stdout",
          "output_type": "stream",
          "text": [
            "Epoch 235: Loss=0.8202, Acc=61.85%\n"
          ]
        },
        {
          "name": "stderr",
          "output_type": "stream",
          "text": [
            " 79%|███████▊  | 236/300 [06:38<01:44,  1.64s/it]"
          ]
        },
        {
          "name": "stdout",
          "output_type": "stream",
          "text": [
            "Epoch 236: Loss=0.8152, Acc=78.54%\n"
          ]
        },
        {
          "name": "stderr",
          "output_type": "stream",
          "text": [
            " 79%|███████▉  | 237/300 [06:39<01:45,  1.67s/it]"
          ]
        },
        {
          "name": "stdout",
          "output_type": "stream",
          "text": [
            "Epoch 237: Loss=0.8182, Acc=68.34%\n"
          ]
        },
        {
          "name": "stderr",
          "output_type": "stream",
          "text": [
            " 79%|███████▉  | 238/300 [06:41<01:42,  1.66s/it]"
          ]
        },
        {
          "name": "stdout",
          "output_type": "stream",
          "text": [
            "Epoch 238: Loss=0.8219, Acc=60.44%\n"
          ]
        },
        {
          "name": "stderr",
          "output_type": "stream",
          "text": [
            " 80%|███████▉  | 239/300 [06:43<01:40,  1.64s/it]"
          ]
        },
        {
          "name": "stdout",
          "output_type": "stream",
          "text": [
            "Epoch 239: Loss=0.8152, Acc=72.15%\n"
          ]
        },
        {
          "name": "stderr",
          "output_type": "stream",
          "text": [
            " 80%|████████  | 240/300 [06:44<01:38,  1.64s/it]"
          ]
        },
        {
          "name": "stdout",
          "output_type": "stream",
          "text": [
            "Epoch 240: Loss=0.8292, Acc=68.68%\n"
          ]
        },
        {
          "name": "stderr",
          "output_type": "stream",
          "text": [
            " 80%|████████  | 241/300 [06:46<01:37,  1.65s/it]"
          ]
        },
        {
          "name": "stdout",
          "output_type": "stream",
          "text": [
            "Epoch 241: Loss=0.8355, Acc=69.07%\n"
          ]
        },
        {
          "name": "stderr",
          "output_type": "stream",
          "text": [
            " 81%|████████  | 242/300 [06:47<01:34,  1.64s/it]"
          ]
        },
        {
          "name": "stdout",
          "output_type": "stream",
          "text": [
            "Epoch 242: Loss=0.8352, Acc=62.15%\n"
          ]
        },
        {
          "name": "stderr",
          "output_type": "stream",
          "text": [
            " 81%|████████  | 243/300 [06:49<01:33,  1.65s/it]"
          ]
        },
        {
          "name": "stdout",
          "output_type": "stream",
          "text": [
            "Epoch 243: Loss=0.8327, Acc=59.37%\n"
          ]
        },
        {
          "name": "stderr",
          "output_type": "stream",
          "text": [
            " 81%|████████▏ | 244/300 [06:51<01:31,  1.64s/it]"
          ]
        },
        {
          "name": "stdout",
          "output_type": "stream",
          "text": [
            "Epoch 244: Loss=0.8238, Acc=72.98%\n"
          ]
        },
        {
          "name": "stderr",
          "output_type": "stream",
          "text": [
            " 82%|████████▏ | 245/300 [06:52<01:28,  1.61s/it]"
          ]
        },
        {
          "name": "stdout",
          "output_type": "stream",
          "text": [
            "Epoch 245: Loss=0.8204, Acc=73.41%\n"
          ]
        },
        {
          "name": "stderr",
          "output_type": "stream",
          "text": [
            " 82%|████████▏ | 246/300 [06:54<01:28,  1.64s/it]"
          ]
        },
        {
          "name": "stdout",
          "output_type": "stream",
          "text": [
            "Epoch 246: Loss=0.8257, Acc=71.12%\n"
          ]
        },
        {
          "name": "stderr",
          "output_type": "stream",
          "text": [
            " 82%|████████▏ | 247/300 [06:56<01:27,  1.66s/it]"
          ]
        },
        {
          "name": "stdout",
          "output_type": "stream",
          "text": [
            "Epoch 247: Loss=0.8261, Acc=73.12%\n"
          ]
        },
        {
          "name": "stderr",
          "output_type": "stream",
          "text": [
            " 83%|████████▎ | 248/300 [06:57<01:24,  1.63s/it]"
          ]
        },
        {
          "name": "stdout",
          "output_type": "stream",
          "text": [
            "Epoch 248: Loss=0.8029, Acc=73.76%\n"
          ]
        },
        {
          "name": "stderr",
          "output_type": "stream",
          "text": [
            " 83%|████████▎ | 249/300 [06:59<01:22,  1.62s/it]"
          ]
        },
        {
          "name": "stdout",
          "output_type": "stream",
          "text": [
            "Epoch 249: Loss=0.8114, Acc=79.61%\n"
          ]
        },
        {
          "name": "stderr",
          "output_type": "stream",
          "text": [
            " 83%|████████▎ | 250/300 [07:01<01:23,  1.68s/it]"
          ]
        },
        {
          "name": "stdout",
          "output_type": "stream",
          "text": [
            "Epoch 250: Loss=0.8047, Acc=58.68%\n"
          ]
        },
        {
          "name": "stderr",
          "output_type": "stream",
          "text": [
            " 84%|████████▎ | 251/300 [07:02<01:20,  1.64s/it]"
          ]
        },
        {
          "name": "stdout",
          "output_type": "stream",
          "text": [
            "Epoch 251: Loss=0.8071, Acc=76.68%\n"
          ]
        },
        {
          "name": "stderr",
          "output_type": "stream",
          "text": [
            " 84%|████████▍ | 252/300 [07:04<01:17,  1.62s/it]"
          ]
        },
        {
          "name": "stdout",
          "output_type": "stream",
          "text": [
            "Epoch 252: Loss=0.7955, Acc=71.80%\n"
          ]
        },
        {
          "name": "stderr",
          "output_type": "stream",
          "text": [
            " 84%|████████▍ | 253/300 [07:05<01:17,  1.65s/it]"
          ]
        },
        {
          "name": "stdout",
          "output_type": "stream",
          "text": [
            "Epoch 253: Loss=0.7940, Acc=70.20%\n"
          ]
        },
        {
          "name": "stderr",
          "output_type": "stream",
          "text": [
            " 85%|████████▍ | 254/300 [07:07<01:13,  1.60s/it]"
          ]
        },
        {
          "name": "stdout",
          "output_type": "stream",
          "text": [
            "Epoch 254: Loss=0.7914, Acc=55.61%\n"
          ]
        },
        {
          "name": "stderr",
          "output_type": "stream",
          "text": [
            " 85%|████████▌ | 255/300 [07:09<01:12,  1.61s/it]"
          ]
        },
        {
          "name": "stdout",
          "output_type": "stream",
          "text": [
            "Epoch 255: Loss=0.7981, Acc=70.39%\n"
          ]
        },
        {
          "name": "stderr",
          "output_type": "stream",
          "text": [
            " 85%|████████▌ | 256/300 [07:10<01:12,  1.65s/it]"
          ]
        },
        {
          "name": "stdout",
          "output_type": "stream",
          "text": [
            "Epoch 256: Loss=0.7836, Acc=70.98%\n"
          ]
        },
        {
          "name": "stderr",
          "output_type": "stream",
          "text": [
            " 86%|████████▌ | 257/300 [07:12<01:10,  1.63s/it]"
          ]
        },
        {
          "name": "stdout",
          "output_type": "stream",
          "text": [
            "Epoch 257: Loss=0.7815, Acc=73.51%\n"
          ]
        },
        {
          "name": "stderr",
          "output_type": "stream",
          "text": [
            " 86%|████████▌ | 258/300 [07:14<01:08,  1.62s/it]"
          ]
        },
        {
          "name": "stdout",
          "output_type": "stream",
          "text": [
            "Epoch 258: Loss=0.7696, Acc=71.22%\n"
          ]
        },
        {
          "name": "stderr",
          "output_type": "stream",
          "text": [
            " 86%|████████▋ | 259/300 [07:15<01:06,  1.62s/it]"
          ]
        },
        {
          "name": "stdout",
          "output_type": "stream",
          "text": [
            "Epoch 259: Loss=0.7663, Acc=72.10%\n"
          ]
        },
        {
          "name": "stderr",
          "output_type": "stream",
          "text": [
            " 87%|████████▋ | 260/300 [07:17<01:05,  1.64s/it]"
          ]
        },
        {
          "name": "stdout",
          "output_type": "stream",
          "text": [
            "Epoch 260: Loss=0.7616, Acc=69.17%\n"
          ]
        },
        {
          "name": "stderr",
          "output_type": "stream",
          "text": [
            " 87%|████████▋ | 261/300 [07:18<01:03,  1.62s/it]"
          ]
        },
        {
          "name": "stdout",
          "output_type": "stream",
          "text": [
            "Epoch 261: Loss=0.7676, Acc=67.22%\n"
          ]
        },
        {
          "name": "stderr",
          "output_type": "stream",
          "text": [
            " 87%|████████▋ | 262/300 [07:20<01:01,  1.63s/it]"
          ]
        },
        {
          "name": "stdout",
          "output_type": "stream",
          "text": [
            "Epoch 262: Loss=0.7573, Acc=72.83%\n"
          ]
        },
        {
          "name": "stderr",
          "output_type": "stream",
          "text": [
            " 88%|████████▊ | 263/300 [07:22<01:00,  1.62s/it]"
          ]
        },
        {
          "name": "stdout",
          "output_type": "stream",
          "text": [
            "Epoch 263: Loss=0.7543, Acc=72.44%\n"
          ]
        },
        {
          "name": "stderr",
          "output_type": "stream",
          "text": [
            " 88%|████████▊ | 264/300 [07:23<00:58,  1.62s/it]"
          ]
        },
        {
          "name": "stdout",
          "output_type": "stream",
          "text": [
            "Epoch 264: Loss=0.7587, Acc=68.83%\n"
          ]
        },
        {
          "name": "stderr",
          "output_type": "stream",
          "text": [
            " 88%|████████▊ | 265/300 [07:25<00:57,  1.63s/it]"
          ]
        },
        {
          "name": "stdout",
          "output_type": "stream",
          "text": [
            "Epoch 265: Loss=0.7550, Acc=68.05%\n"
          ]
        },
        {
          "name": "stderr",
          "output_type": "stream",
          "text": [
            " 89%|████████▊ | 266/300 [07:27<00:55,  1.62s/it]"
          ]
        },
        {
          "name": "stdout",
          "output_type": "stream",
          "text": [
            "Epoch 266: Loss=0.7702, Acc=73.02%\n"
          ]
        },
        {
          "name": "stderr",
          "output_type": "stream",
          "text": [
            " 89%|████████▉ | 267/300 [07:28<00:54,  1.64s/it]"
          ]
        },
        {
          "name": "stdout",
          "output_type": "stream",
          "text": [
            "Epoch 267: Loss=0.7591, Acc=71.76%\n"
          ]
        },
        {
          "name": "stderr",
          "output_type": "stream",
          "text": [
            " 89%|████████▉ | 268/300 [07:30<00:51,  1.62s/it]"
          ]
        },
        {
          "name": "stdout",
          "output_type": "stream",
          "text": [
            "Epoch 268: Loss=0.7491, Acc=74.34%\n"
          ]
        },
        {
          "name": "stderr",
          "output_type": "stream",
          "text": [
            " 90%|████████▉ | 269/300 [07:31<00:50,  1.64s/it]"
          ]
        },
        {
          "name": "stdout",
          "output_type": "stream",
          "text": [
            "Epoch 269: Loss=0.7531, Acc=73.90%\n"
          ]
        },
        {
          "name": "stderr",
          "output_type": "stream",
          "text": [
            " 90%|█████████ | 270/300 [07:33<00:47,  1.58s/it]"
          ]
        },
        {
          "name": "stdout",
          "output_type": "stream",
          "text": [
            "Epoch 270: Loss=0.7543, Acc=74.05%\n"
          ]
        },
        {
          "name": "stderr",
          "output_type": "stream",
          "text": [
            " 90%|█████████ | 271/300 [07:34<00:45,  1.58s/it]"
          ]
        },
        {
          "name": "stdout",
          "output_type": "stream",
          "text": [
            "Epoch 271: Loss=0.7459, Acc=69.51%\n"
          ]
        },
        {
          "name": "stderr",
          "output_type": "stream",
          "text": [
            " 91%|█████████ | 272/300 [07:36<00:44,  1.60s/it]"
          ]
        },
        {
          "name": "stdout",
          "output_type": "stream",
          "text": [
            "Epoch 272: Loss=0.7535, Acc=71.51%\n"
          ]
        },
        {
          "name": "stderr",
          "output_type": "stream",
          "text": [
            " 91%|█████████ | 273/300 [07:38<00:42,  1.58s/it]"
          ]
        },
        {
          "name": "stdout",
          "output_type": "stream",
          "text": [
            "Epoch 273: Loss=0.7488, Acc=72.05%\n"
          ]
        },
        {
          "name": "stderr",
          "output_type": "stream",
          "text": [
            " 91%|█████████▏| 274/300 [07:39<00:42,  1.62s/it]"
          ]
        },
        {
          "name": "stdout",
          "output_type": "stream",
          "text": [
            "Epoch 274: Loss=0.7467, Acc=74.10%\n"
          ]
        },
        {
          "name": "stderr",
          "output_type": "stream",
          "text": [
            " 92%|█████████▏| 275/300 [07:41<00:40,  1.60s/it]"
          ]
        },
        {
          "name": "stdout",
          "output_type": "stream",
          "text": [
            "Epoch 275: Loss=0.7539, Acc=73.56%\n"
          ]
        },
        {
          "name": "stderr",
          "output_type": "stream",
          "text": [
            " 92%|█████████▏| 276/300 [07:42<00:37,  1.57s/it]"
          ]
        },
        {
          "name": "stdout",
          "output_type": "stream",
          "text": [
            "Epoch 276: Loss=0.7551, Acc=73.56%\n"
          ]
        },
        {
          "name": "stderr",
          "output_type": "stream",
          "text": [
            " 92%|█████████▏| 277/300 [07:44<00:34,  1.52s/it]"
          ]
        },
        {
          "name": "stdout",
          "output_type": "stream",
          "text": [
            "Epoch 277: Loss=0.7562, Acc=71.27%\n"
          ]
        },
        {
          "name": "stderr",
          "output_type": "stream",
          "text": [
            " 93%|█████████▎| 278/300 [07:46<00:36,  1.64s/it]"
          ]
        },
        {
          "name": "stdout",
          "output_type": "stream",
          "text": [
            "Epoch 278: Loss=0.7541, Acc=69.61%\n"
          ]
        },
        {
          "name": "stderr",
          "output_type": "stream",
          "text": [
            " 93%|█████████▎| 279/300 [07:48<00:38,  1.82s/it]"
          ]
        },
        {
          "name": "stdout",
          "output_type": "stream",
          "text": [
            "Epoch 279: Loss=0.7623, Acc=73.61%\n"
          ]
        },
        {
          "name": "stderr",
          "output_type": "stream",
          "text": [
            " 93%|█████████▎| 280/300 [07:50<00:34,  1.74s/it]"
          ]
        },
        {
          "name": "stdout",
          "output_type": "stream",
          "text": [
            "Epoch 280: Loss=0.7645, Acc=73.61%\n"
          ]
        },
        {
          "name": "stderr",
          "output_type": "stream",
          "text": [
            " 94%|█████████▎| 281/300 [07:51<00:30,  1.62s/it]"
          ]
        },
        {
          "name": "stdout",
          "output_type": "stream",
          "text": [
            "Epoch 281: Loss=0.7546, Acc=75.12%\n"
          ]
        },
        {
          "name": "stderr",
          "output_type": "stream",
          "text": [
            " 94%|█████████▍| 282/300 [07:52<00:27,  1.55s/it]"
          ]
        },
        {
          "name": "stdout",
          "output_type": "stream",
          "text": [
            "Epoch 282: Loss=0.7600, Acc=74.44%\n"
          ]
        },
        {
          "name": "stderr",
          "output_type": "stream",
          "text": [
            " 94%|█████████▍| 283/300 [07:54<00:26,  1.54s/it]"
          ]
        },
        {
          "name": "stdout",
          "output_type": "stream",
          "text": [
            "Epoch 283: Loss=0.7613, Acc=72.83%\n"
          ]
        },
        {
          "name": "stderr",
          "output_type": "stream",
          "text": [
            " 95%|█████████▍| 284/300 [07:55<00:24,  1.53s/it]"
          ]
        },
        {
          "name": "stdout",
          "output_type": "stream",
          "text": [
            "Epoch 284: Loss=0.7595, Acc=67.71%\n"
          ]
        },
        {
          "name": "stderr",
          "output_type": "stream",
          "text": [
            " 95%|█████████▌| 285/300 [07:57<00:22,  1.48s/it]"
          ]
        },
        {
          "name": "stdout",
          "output_type": "stream",
          "text": [
            "Epoch 285: Loss=0.7707, Acc=78.73%\n"
          ]
        },
        {
          "name": "stderr",
          "output_type": "stream",
          "text": [
            " 95%|█████████▌| 286/300 [07:58<00:20,  1.45s/it]"
          ]
        },
        {
          "name": "stdout",
          "output_type": "stream",
          "text": [
            "Epoch 286: Loss=0.7756, Acc=71.17%\n"
          ]
        },
        {
          "name": "stderr",
          "output_type": "stream",
          "text": [
            " 96%|█████████▌| 287/300 [07:59<00:18,  1.41s/it]"
          ]
        },
        {
          "name": "stdout",
          "output_type": "stream",
          "text": [
            "Epoch 287: Loss=0.7955, Acc=80.15%\n"
          ]
        },
        {
          "name": "stderr",
          "output_type": "stream",
          "text": [
            " 96%|█████████▌| 288/300 [08:01<00:16,  1.40s/it]"
          ]
        },
        {
          "name": "stdout",
          "output_type": "stream",
          "text": [
            "Epoch 288: Loss=0.7770, Acc=62.98%\n"
          ]
        },
        {
          "name": "stderr",
          "output_type": "stream",
          "text": [
            " 96%|█████████▋| 289/300 [08:02<00:15,  1.45s/it]"
          ]
        },
        {
          "name": "stdout",
          "output_type": "stream",
          "text": [
            "Epoch 289: Loss=0.7867, Acc=71.22%\n"
          ]
        },
        {
          "name": "stderr",
          "output_type": "stream",
          "text": [
            " 97%|█████████▋| 290/300 [08:04<00:14,  1.49s/it]"
          ]
        },
        {
          "name": "stdout",
          "output_type": "stream",
          "text": [
            "Epoch 290: Loss=0.8062, Acc=55.32%\n"
          ]
        },
        {
          "name": "stderr",
          "output_type": "stream",
          "text": [
            " 97%|█████████▋| 291/300 [08:05<00:13,  1.47s/it]"
          ]
        },
        {
          "name": "stdout",
          "output_type": "stream",
          "text": [
            "Epoch 291: Loss=0.7971, Acc=71.66%\n"
          ]
        },
        {
          "name": "stderr",
          "output_type": "stream",
          "text": [
            " 97%|█████████▋| 292/300 [08:07<00:11,  1.48s/it]"
          ]
        },
        {
          "name": "stdout",
          "output_type": "stream",
          "text": [
            "Epoch 292: Loss=0.7934, Acc=73.85%\n"
          ]
        },
        {
          "name": "stderr",
          "output_type": "stream",
          "text": [
            " 98%|█████████▊| 293/300 [08:08<00:10,  1.50s/it]"
          ]
        },
        {
          "name": "stdout",
          "output_type": "stream",
          "text": [
            "Epoch 293: Loss=0.7980, Acc=70.54%\n"
          ]
        },
        {
          "name": "stderr",
          "output_type": "stream",
          "text": [
            " 98%|█████████▊| 294/300 [08:10<00:08,  1.48s/it]"
          ]
        },
        {
          "name": "stdout",
          "output_type": "stream",
          "text": [
            "Epoch 294: Loss=0.7938, Acc=68.34%\n"
          ]
        },
        {
          "name": "stderr",
          "output_type": "stream",
          "text": [
            " 98%|█████████▊| 295/300 [08:11<00:07,  1.51s/it]"
          ]
        },
        {
          "name": "stdout",
          "output_type": "stream",
          "text": [
            "Epoch 295: Loss=0.7921, Acc=67.66%\n"
          ]
        },
        {
          "name": "stderr",
          "output_type": "stream",
          "text": [
            " 99%|█████████▊| 296/300 [08:13<00:06,  1.52s/it]"
          ]
        },
        {
          "name": "stdout",
          "output_type": "stream",
          "text": [
            "Epoch 296: Loss=0.8119, Acc=66.24%\n"
          ]
        },
        {
          "name": "stderr",
          "output_type": "stream",
          "text": [
            " 99%|█████████▉| 297/300 [08:14<00:04,  1.53s/it]"
          ]
        },
        {
          "name": "stdout",
          "output_type": "stream",
          "text": [
            "Epoch 297: Loss=0.8115, Acc=71.95%\n"
          ]
        },
        {
          "name": "stderr",
          "output_type": "stream",
          "text": [
            " 99%|█████████▉| 298/300 [08:16<00:03,  1.51s/it]"
          ]
        },
        {
          "name": "stdout",
          "output_type": "stream",
          "text": [
            "Epoch 298: Loss=0.8100, Acc=75.61%\n"
          ]
        },
        {
          "name": "stderr",
          "output_type": "stream",
          "text": [
            "100%|█████████▉| 299/300 [08:17<00:01,  1.51s/it]"
          ]
        },
        {
          "name": "stdout",
          "output_type": "stream",
          "text": [
            "Epoch 299: Loss=0.8176, Acc=68.39%\n"
          ]
        },
        {
          "name": "stderr",
          "output_type": "stream",
          "text": [
            "100%|██████████| 300/300 [08:19<00:00,  1.66s/it]"
          ]
        },
        {
          "name": "stdout",
          "output_type": "stream",
          "text": [
            "Epoch 300: Loss=0.8135, Acc=64.15%\n"
          ]
        },
        {
          "name": "stderr",
          "output_type": "stream",
          "text": [
            "\n"
          ]
        }
      ],
      "source": [
        "scaler = GradScaler()\n",
        "\n",
        "en2_acc = []\n",
        "en2_loss = []\n",
        "\n",
        "for epoch in tqdm.tqdm(range(300)):\n",
        "    model.train()\n",
        "    total_loss = 0\n",
        "\n",
        "    for spectra, labels in train_loader:\n",
        "        optimizer.zero_grad()\n",
        "\n",
        "        with autocast('cuda'):\n",
        "            outputs = model(spectra)\n",
        "            loss = criterion(outputs, labels)\n",
        "\n",
        "        scaler.scale(loss).backward()\n",
        "        scaler.step(optimizer)\n",
        "        scaler.update()\n",
        "\n",
        "        total_loss += loss.item()\n",
        "\n",
        "    en2_loss.append(total_loss / len(train_loader))\n",
        "    scheduler.step()\n",
        "\n",
        "    # Evaluation\n",
        "    model.eval()\n",
        "    correct = 0\n",
        "    with torch.no_grad():\n",
        "        for spectra, labels in test_loader:\n",
        "            outputs = model(spectra)\n",
        "            preds = outputs.argmax(dim=1)\n",
        "            correct += (preds == labels).sum().item()\n",
        "\n",
        "    acc = correct / len(test_loader.dataset)\n",
        "    en2_acc.append(acc)\n",
        "    print(f\"Epoch {epoch+1}: Loss={total_loss/len(train_loader):.4f}, Acc={acc:.2%}\")\n",
        "\n",
        "    # if acc > 0.70:  # Target accuracy\n",
        "    #     print(\"Stopping early - target reached!\")\n",
        "    #     break"
      ]
    },
    {
      "cell_type": "code",
      "execution_count": 61,
      "metadata": {
        "colab": {
          "base_uri": "https://localhost:8080/"
        },
        "id": "Z9uDmbBqyjAV",
        "outputId": "c40e12c0-18e0-4a4d-8695-dbe7657c95bf"
      },
      "outputs": [
        {
          "name": "stdout",
          "output_type": "stream",
          "text": [
            "     Accuracy      Loss\n",
            "0    0.552683  1.986172\n",
            "1    0.404390  1.611013\n",
            "2    0.568780  1.484100\n",
            "3    0.468293  1.388093\n",
            "4    0.472195  1.327214\n",
            "..        ...       ...\n",
            "295  0.662439  0.811920\n",
            "296  0.719512  0.811464\n",
            "297  0.756098  0.809987\n",
            "298  0.683902  0.817637\n",
            "299  0.641463  0.813517\n",
            "\n",
            "[300 rows x 2 columns]\n"
          ]
        }
      ],
      "source": [
        "df = pd.DataFrame({\n",
        "    'Accuracy': en2_acc,\n",
        "    'Loss': en2_loss\n",
        "})\n",
        "\n",
        "df.to_csv('accuracy_loss_b64_128_(enhanced8).csv', index=True)\n",
        "\n",
        "print(df)"
      ]
    },
    {
      "cell_type": "code",
      "execution_count": 62,
      "metadata": {
        "id": "IU31kLQJxOst"
      },
      "outputs": [],
      "source": [
        "torch.save(model.state_dict(), 'model_weights8.pth')"
      ]
    },
    {
      "cell_type": "markdown",
      "metadata": {},
      "source": [
        "### Crop Test\n"
      ]
    },
    {
      "cell_type": "code",
      "execution_count": 143,
      "metadata": {},
      "outputs": [],
      "source": [
        "test_cropModel_pth = 'results/CropDet/model_weights8.pth'"
      ]
    },
    {
      "cell_type": "code",
      "execution_count": 152,
      "metadata": {},
      "outputs": [],
      "source": [
        "hsi_path = '../datasets/Indian_pines_corrected.mat'\n",
        "gt_path = '../datasets/Indian_pines_gt.mat'\n",
        "\n",
        "hsi_data = loadmat(hsi_path)['indian_pines_corrected'] \n",
        "gt_data = loadmat(gt_path)['indian_pines_gt']          \n",
        "\n",
        "valid_mask = gt_data != 0\n",
        "X = hsi_data[valid_mask]  \n",
        "y = gt_data[valid_mask]   \n",
        "\n",
        "X = (X - X.min(axis=0)) / (X.max(axis=0) - X.min(axis=0))"
      ]
    },
    {
      "cell_type": "code",
      "execution_count": 153,
      "metadata": {},
      "outputs": [],
      "source": [
        "X_train, X_test, y_train, y_test = train_test_split(\n",
        "    X, y, test_size=0.2, random_state=42\n",
        ")\n",
        "\n"
      ]
    },
    {
      "cell_type": "code",
      "execution_count": 154,
      "metadata": {},
      "outputs": [
        {
          "data": {
            "text/plain": [
              "EnhancedCropModel(\n",
              "  (backbone): Sequential(\n",
              "    (0): Linear(in_features=200, out_features=256, bias=True)\n",
              "    (1): BatchNorm1d(256, eps=1e-05, momentum=0.1, affine=True, track_running_stats=True)\n",
              "    (2): ReLU()\n",
              "    (3): Dropout(p=0.5, inplace=False)\n",
              "    (4): Linear(in_features=256, out_features=128, bias=True)\n",
              "    (5): BatchNorm1d(128, eps=1e-05, momentum=0.1, affine=True, track_running_stats=True)\n",
              "    (6): ReLU()\n",
              "    (7): Dropout(p=0.3, inplace=False)\n",
              "    (8): Linear(in_features=128, out_features=64, bias=True)\n",
              "    (9): BatchNorm1d(64, eps=1e-05, momentum=0.1, affine=True, track_running_stats=True)\n",
              "    (10): ReLU()\n",
              "  )\n",
              "  (classifier): Linear(in_features=64, out_features=16, bias=True)\n",
              ")"
            ]
          },
          "execution_count": 154,
          "metadata": {},
          "output_type": "execute_result"
        }
      ],
      "source": [
        "test_cropmodel_data = torch.load(test_cropModel_pth)\n",
        "test_cropmodel = EnhancedCropModel().to(device)\n",
        "test_cropmodel.load_state_dict(test_cropmodel_data)\n",
        "test_cropmodel.eval()"
      ]
    },
    {
      "cell_type": "code",
      "execution_count": 168,
      "metadata": {},
      "outputs": [
        {
          "name": "stdout",
          "output_type": "stream",
          "text": [
            "(200,)\n"
          ]
        }
      ],
      "source": [
        "def predict_pixel(pixel_reflectance, model, X_min, X_max):\n",
        "    # Normalize and reshape input\n",
        "    pixel_normalized = (pixel_reflectance - X_min) / (X_max - X_min + 1e-10)\n",
        "    pixel_tensor = torch.FloatTensor(pixel_normalized).unsqueeze(0).to(device)  \n",
        "    model = model.to(device)\n",
        "    model.eval()\n",
        "    with torch.no_grad():\n",
        "        logits = model(pixel_tensor)\n",
        "        print(pixel.shape)\n",
        "        probs = torch.softmax(logits, dim=1)\n",
        "        pred_class = torch.argmax(probs).item() + 1\n",
        "    \n",
        "    return pred_class, probs.cpu().numpy().squeeze()\n",
        "\n",
        "pixel = hsi[75,75,:] \n",
        "class_label, probabilities = predict_pixel(pixel, test_cropmodel, X_train.min(), X_train.max())"
      ]
    },
    {
      "cell_type": "code",
      "execution_count": 169,
      "metadata": {},
      "outputs": [
        {
          "data": {
            "text/plain": [
              "11"
            ]
          },
          "execution_count": 169,
          "metadata": {},
          "output_type": "execute_result"
        }
      ],
      "source": [
        "class_label"
      ]
    },
    {
      "cell_type": "code",
      "execution_count": 170,
      "metadata": {},
      "outputs": [
        {
          "data": {
            "text/plain": [
              "array([0., 0., 0., 0., 0., 0., 0., 0., 0., 0., 1., 0., 0., 0., 0., 0.],\n",
              "      dtype=float32)"
            ]
          },
          "execution_count": 170,
          "metadata": {},
          "output_type": "execute_result"
        }
      ],
      "source": [
        "probabilities"
      ]
    },
    {
      "cell_type": "code",
      "execution_count": null,
      "metadata": {},
      "outputs": [],
      "source": []
    }
  ],
  "metadata": {
    "accelerator": "GPU",
    "colab": {
      "gpuType": "T4",
      "provenance": []
    },
    "kernelspec": {
      "display_name": "myenv",
      "language": "python",
      "name": "python3"
    },
    "language_info": {
      "codemirror_mode": {
        "name": "ipython",
        "version": 3
      },
      "file_extension": ".py",
      "mimetype": "text/x-python",
      "name": "python",
      "nbconvert_exporter": "python",
      "pygments_lexer": "ipython3",
      "version": "3.12.10"
    }
  },
  "nbformat": 4,
  "nbformat_minor": 0
}
